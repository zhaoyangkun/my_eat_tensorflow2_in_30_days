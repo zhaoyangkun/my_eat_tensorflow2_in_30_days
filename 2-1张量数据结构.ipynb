{
 "cells": [
  {
   "cell_type": "markdown",
   "metadata": {},
   "source": [
    "# 2-1,张量数据结构\n",
    "\n",
    "程序 = 数据结构+算法。\n",
    "\n",
    "TensorFlow 程序 = 张量数据结构 + 计算图算法语言\n",
    "\n",
    "张量和计算图是 TensorFlow 的核心概念。\n",
    "\n",
    "Tensorflow 的基本数据结构是张量 Tensor。张量即多维数组。Tensorflow 的张量和 numpy 中的 array 很类似。\n",
    "\n",
    "从行为特性来看，有两种类型的张量，常量 constant 和变量 Variable.\n",
    "\n",
    "常量的值在计算图中不可以被重新赋值，变量可以在计算图中用 assign 等算子重新赋值。"
   ]
  },
  {
   "cell_type": "markdown",
   "metadata": {},
   "source": [
    "### 一，常量张量\n",
    "\n",
    "张量的数据类型和 `numpy.array` 基本一一对应。"
   ]
  },
  {
   "cell_type": "code",
   "execution_count": 1,
   "metadata": {},
   "outputs": [
    {
     "data": {
      "application/javascript": "\n            setTimeout(function() {\n                var nbb_cell_id = 1;\n                var nbb_unformatted_code = \"%load_ext nb_black\";\n                var nbb_formatted_code = \"%load_ext nb_black\";\n                var nbb_cells = Jupyter.notebook.get_cells();\n                for (var i = 0; i < nbb_cells.length; ++i) {\n                    if (nbb_cells[i].input_prompt_number == nbb_cell_id) {\n                        if (nbb_cells[i].get_text() == nbb_unformatted_code) {\n                             nbb_cells[i].set_text(nbb_formatted_code);\n                        }\n                        break;\n                    }\n                }\n            }, 500);\n            ",
      "text/plain": [
       "<IPython.core.display.Javascript object>"
      ]
     },
     "metadata": {},
     "output_type": "display_data"
    }
   ],
   "source": [
    "%load_ext nb_black"
   ]
  },
  {
   "cell_type": "code",
   "execution_count": 2,
   "metadata": {},
   "outputs": [
    {
     "name": "stdout",
     "output_type": "stream",
     "text": [
      "True\n",
      "True\n",
      "True\n",
      "False\n"
     ]
    },
    {
     "name": "stderr",
     "output_type": "stream",
     "text": [
      "/tmp/ipykernel_19932/2298629636.py:14: DeprecationWarning: `np.unicode` is a deprecated alias for `np.compat.unicode`. To silence this warning, use `np.compat.unicode` by itself. In the likely event your code does not need to work on Python 2 you can use the builtin `str` for which `np.compat.unicode` is itself an alias. Doing this will not modify any behaviour and is safe. If you specifically wanted the numpy scalar type, use `np.str_` here.\n",
      "Deprecated in NumPy 1.20; for more details and guidance: https://numpy.org/devdocs/release/1.20.0-notes.html#deprecations\n",
      "  print(tf.string == np.unicode)  # tf.string 和 np.unicode 类型不等价\n"
     ]
    },
    {
     "data": {
      "application/javascript": "\n            setTimeout(function() {\n                var nbb_cell_id = 2;\n                var nbb_unformatted_code = \"import numpy as np\\nimport tensorflow as tf\\n\\ni = tf.constant(1)  # tf.int32\\nl = tf.constant(1, dtype=tf.int64)  # tf.int64\\nf = tf.constant(1.23)  # tf.float32\\nd = tf.constant(3.14, dtype=tf.float64)  # tf.float64\\ns = tf.constant(\\\"hello world\\\")  # tf.string\\nb = tf.constant(True)  # tf.bool\\n\\nprint(tf.int64 == np.int64)\\nprint(tf.bool == np.bool_)\\nprint(tf.double == np.float64)\\nprint(tf.string == np.unicode)  # tf.string \\u548c np.unicode \\u7c7b\\u578b\\u4e0d\\u7b49\\u4ef7\";\n                var nbb_formatted_code = \"import numpy as np\\nimport tensorflow as tf\\n\\ni = tf.constant(1)  # tf.int32\\nl = tf.constant(1, dtype=tf.int64)  # tf.int64\\nf = tf.constant(1.23)  # tf.float32\\nd = tf.constant(3.14, dtype=tf.float64)  # tf.float64\\ns = tf.constant(\\\"hello world\\\")  # tf.string\\nb = tf.constant(True)  # tf.bool\\n\\nprint(tf.int64 == np.int64)\\nprint(tf.bool == np.bool_)\\nprint(tf.double == np.float64)\\nprint(tf.string == np.unicode)  # tf.string \\u548c np.unicode \\u7c7b\\u578b\\u4e0d\\u7b49\\u4ef7\";\n                var nbb_cells = Jupyter.notebook.get_cells();\n                for (var i = 0; i < nbb_cells.length; ++i) {\n                    if (nbb_cells[i].input_prompt_number == nbb_cell_id) {\n                        if (nbb_cells[i].get_text() == nbb_unformatted_code) {\n                             nbb_cells[i].set_text(nbb_formatted_code);\n                        }\n                        break;\n                    }\n                }\n            }, 500);\n            ",
      "text/plain": [
       "<IPython.core.display.Javascript object>"
      ]
     },
     "metadata": {},
     "output_type": "display_data"
    }
   ],
   "source": [
    "import numpy as np\n",
    "import tensorflow as tf\n",
    "\n",
    "i = tf.constant(1)  # tf.int32\n",
    "l = tf.constant(1, dtype=tf.int64)  # tf.int64\n",
    "f = tf.constant(1.23)  # tf.float32\n",
    "d = tf.constant(3.14, dtype=tf.float64)  # tf.float64\n",
    "s = tf.constant(\"hello world\")  # tf.string\n",
    "b = tf.constant(True)  # tf.bool\n",
    "\n",
    "print(tf.int64 == np.int64)\n",
    "print(tf.bool == np.bool_)\n",
    "print(tf.double == np.float64)\n",
    "print(tf.string == np.unicode)  # tf.string 和 np.unicode 类型不等价"
   ]
  },
  {
   "cell_type": "markdown",
   "metadata": {},
   "source": [
    "不同类型的数据可以用不同维度 (rank) 的张量来表示。\n",
    "\n",
    "标量为 0 维张量，向量为 1 维张量，矩阵为 2 维张量。\n",
    "\n",
    "彩色图像有 rgb 三个通道，可以表示为 3 维张量。\n",
    "\n",
    "视频还有时间维，可以表示为4维张量。\n",
    "\n",
    "可以简单地总结为：有几层中括号，就是多少维的张量。"
   ]
  },
  {
   "cell_type": "code",
   "execution_count": 3,
   "metadata": {},
   "outputs": [
    {
     "name": "stdout",
     "output_type": "stream",
     "text": [
      "tf.Tensor(0, shape=(), dtype=int32)\n",
      "0\n"
     ]
    },
    {
     "data": {
      "application/javascript": "\n            setTimeout(function() {\n                var nbb_cell_id = 3;\n                var nbb_unformatted_code = \"scalar = tf.constant(True)  # \\u6807\\u91cf\\uff0c0 \\u7ef4\\u5f20\\u91cf\\n\\nprint(tf.rank(scalar))\\nprint(scalar.numpy().ndim)\";\n                var nbb_formatted_code = \"scalar = tf.constant(True)  # \\u6807\\u91cf\\uff0c0 \\u7ef4\\u5f20\\u91cf\\n\\nprint(tf.rank(scalar))\\nprint(scalar.numpy().ndim)\";\n                var nbb_cells = Jupyter.notebook.get_cells();\n                for (var i = 0; i < nbb_cells.length; ++i) {\n                    if (nbb_cells[i].input_prompt_number == nbb_cell_id) {\n                        if (nbb_cells[i].get_text() == nbb_unformatted_code) {\n                             nbb_cells[i].set_text(nbb_formatted_code);\n                        }\n                        break;\n                    }\n                }\n            }, 500);\n            ",
      "text/plain": [
       "<IPython.core.display.Javascript object>"
      ]
     },
     "metadata": {},
     "output_type": "display_data"
    }
   ],
   "source": [
    "scalar = tf.constant(True)  # 标量，0 维张量\n",
    "\n",
    "print(tf.rank(scalar))\n",
    "print(scalar.numpy().ndim)"
   ]
  },
  {
   "cell_type": "code",
   "execution_count": 4,
   "metadata": {},
   "outputs": [
    {
     "name": "stdout",
     "output_type": "stream",
     "text": [
      "tf.Tensor(1, shape=(), dtype=int32)\n",
      "1\n"
     ]
    },
    {
     "data": {
      "application/javascript": "\n            setTimeout(function() {\n                var nbb_cell_id = 4;\n                var nbb_unformatted_code = \"vector = tf.constant([1.0, 2.0, 3.0])  # \\u5411\\u91cf\\uff0c1 \\u7ef4\\u5f20\\u91cf\\n\\nprint(tf.rank(vector))\\nprint(np.ndim(vector.numpy()))\";\n                var nbb_formatted_code = \"vector = tf.constant([1.0, 2.0, 3.0])  # \\u5411\\u91cf\\uff0c1 \\u7ef4\\u5f20\\u91cf\\n\\nprint(tf.rank(vector))\\nprint(np.ndim(vector.numpy()))\";\n                var nbb_cells = Jupyter.notebook.get_cells();\n                for (var i = 0; i < nbb_cells.length; ++i) {\n                    if (nbb_cells[i].input_prompt_number == nbb_cell_id) {\n                        if (nbb_cells[i].get_text() == nbb_unformatted_code) {\n                             nbb_cells[i].set_text(nbb_formatted_code);\n                        }\n                        break;\n                    }\n                }\n            }, 500);\n            ",
      "text/plain": [
       "<IPython.core.display.Javascript object>"
      ]
     },
     "metadata": {},
     "output_type": "display_data"
    }
   ],
   "source": [
    "vector = tf.constant([1.0, 2.0, 3.0])  # 向量，1 维张量\n",
    "\n",
    "print(tf.rank(vector))\n",
    "print(np.ndim(vector.numpy()))"
   ]
  },
  {
   "cell_type": "code",
   "execution_count": 5,
   "metadata": {},
   "outputs": [
    {
     "name": "stdout",
     "output_type": "stream",
     "text": [
      "2\n",
      "2\n"
     ]
    },
    {
     "data": {
      "application/javascript": "\n            setTimeout(function() {\n                var nbb_cell_id = 5;\n                var nbb_unformatted_code = \"matrix = tf.constant([[1.0, 2.0], [3.0, 4.0]])  # \\u77e9\\u9635\\uff0c2 \\u7ef4\\u5f20\\u91cf\\n\\nprint(tf.rank(matrix).numpy())\\nprint(np.ndim(matrix))\";\n                var nbb_formatted_code = \"matrix = tf.constant([[1.0, 2.0], [3.0, 4.0]])  # \\u77e9\\u9635\\uff0c2 \\u7ef4\\u5f20\\u91cf\\n\\nprint(tf.rank(matrix).numpy())\\nprint(np.ndim(matrix))\";\n                var nbb_cells = Jupyter.notebook.get_cells();\n                for (var i = 0; i < nbb_cells.length; ++i) {\n                    if (nbb_cells[i].input_prompt_number == nbb_cell_id) {\n                        if (nbb_cells[i].get_text() == nbb_unformatted_code) {\n                             nbb_cells[i].set_text(nbb_formatted_code);\n                        }\n                        break;\n                    }\n                }\n            }, 500);\n            ",
      "text/plain": [
       "<IPython.core.display.Javascript object>"
      ]
     },
     "metadata": {},
     "output_type": "display_data"
    }
   ],
   "source": [
    "matrix = tf.constant([[1.0, 2.0], [3.0, 4.0]])  # 矩阵，2 维张量\n",
    "\n",
    "print(tf.rank(matrix).numpy())\n",
    "print(np.ndim(matrix))"
   ]
  },
  {
   "cell_type": "code",
   "execution_count": 6,
   "metadata": {},
   "outputs": [
    {
     "name": "stdout",
     "output_type": "stream",
     "text": [
      "tf.Tensor(\n",
      "[[[1. 2.]\n",
      "  [3. 4.]]\n",
      "\n",
      " [[5. 6.]\n",
      "  [7. 8.]]], shape=(2, 2, 2), dtype=float32)\n",
      "tf.Tensor(3, shape=(), dtype=int32)\n"
     ]
    },
    {
     "data": {
      "application/javascript": "\n            setTimeout(function() {\n                var nbb_cell_id = 6;\n                var nbb_unformatted_code = \"tensor_3 = tf.constant([[[1.0, 2.0], [3.0, 4.0]], [[5.0, 6.0], [7.0, 8.0]]])  # 3 \\u7ef4\\u5f20\\u91cf\\n\\nprint(tensor_3)\\nprint(tf.rank(tensor_3))\";\n                var nbb_formatted_code = \"tensor_3 = tf.constant([[[1.0, 2.0], [3.0, 4.0]], [[5.0, 6.0], [7.0, 8.0]]])  # 3 \\u7ef4\\u5f20\\u91cf\\n\\nprint(tensor_3)\\nprint(tf.rank(tensor_3))\";\n                var nbb_cells = Jupyter.notebook.get_cells();\n                for (var i = 0; i < nbb_cells.length; ++i) {\n                    if (nbb_cells[i].input_prompt_number == nbb_cell_id) {\n                        if (nbb_cells[i].get_text() == nbb_unformatted_code) {\n                             nbb_cells[i].set_text(nbb_formatted_code);\n                        }\n                        break;\n                    }\n                }\n            }, 500);\n            ",
      "text/plain": [
       "<IPython.core.display.Javascript object>"
      ]
     },
     "metadata": {},
     "output_type": "display_data"
    }
   ],
   "source": [
    "tensor_3 = tf.constant([[[1.0, 2.0], [3.0, 4.0]], [[5.0, 6.0], [7.0, 8.0]]])  # 3 维张量\n",
    "\n",
    "print(tensor_3)\n",
    "print(tf.rank(tensor_3))"
   ]
  },
  {
   "cell_type": "code",
   "execution_count": 7,
   "metadata": {},
   "outputs": [
    {
     "name": "stdout",
     "output_type": "stream",
     "text": [
      "tf.Tensor(\n",
      "[[[[ 1.  2.]\n",
      "   [ 3.  4.]]\n",
      "\n",
      "  [[ 5.  6.]\n",
      "   [ 7.  8.]]]\n",
      "\n",
      "\n",
      " [[[ 9. 10.]\n",
      "   [11. 12.]]\n",
      "\n",
      "  [[13. 14.]\n",
      "   [15. 16.]]]], shape=(2, 2, 2, 2), dtype=float32)\n",
      "tf.Tensor(4, shape=(), dtype=int32)\n"
     ]
    },
    {
     "data": {
      "application/javascript": "\n            setTimeout(function() {\n                var nbb_cell_id = 7;\n                var nbb_unformatted_code = \"tensor_4 = tf.constant(\\n    [\\n        [[[1.0, 2.0], [3.0, 4.0]], [[5.0, 6.0], [7.0, 8.0]]],\\n        [[[9.0, 10.0], [11.0, 12.0]], [[13.0, 14.0], [15.0, 16.0]]],\\n    ]\\n)  # 4 \\u7ef4\\u5f20\\u91cf\\nprint(tensor_4)\\nprint(tf.rank(tensor_4))\";\n                var nbb_formatted_code = \"tensor_4 = tf.constant(\\n    [\\n        [[[1.0, 2.0], [3.0, 4.0]], [[5.0, 6.0], [7.0, 8.0]]],\\n        [[[9.0, 10.0], [11.0, 12.0]], [[13.0, 14.0], [15.0, 16.0]]],\\n    ]\\n)  # 4 \\u7ef4\\u5f20\\u91cf\\nprint(tensor_4)\\nprint(tf.rank(tensor_4))\";\n                var nbb_cells = Jupyter.notebook.get_cells();\n                for (var i = 0; i < nbb_cells.length; ++i) {\n                    if (nbb_cells[i].input_prompt_number == nbb_cell_id) {\n                        if (nbb_cells[i].get_text() == nbb_unformatted_code) {\n                             nbb_cells[i].set_text(nbb_formatted_code);\n                        }\n                        break;\n                    }\n                }\n            }, 500);\n            ",
      "text/plain": [
       "<IPython.core.display.Javascript object>"
      ]
     },
     "metadata": {},
     "output_type": "display_data"
    }
   ],
   "source": [
    "tensor_4 = tf.constant(\n",
    "    [\n",
    "        [[[1.0, 2.0], [3.0, 4.0]], [[5.0, 6.0], [7.0, 8.0]]],\n",
    "        [[[9.0, 10.0], [11.0, 12.0]], [[13.0, 14.0], [15.0, 16.0]]],\n",
    "    ]\n",
    ")  # 4 维张量\n",
    "print(tensor_4)\n",
    "print(tf.rank(tensor_4))"
   ]
  },
  {
   "cell_type": "markdown",
   "metadata": {},
   "source": [
    "可以用 tf.cast 改变张量的数据类型。\n",
    "\n",
    "可以用 numpy 方法将 tensorflow 中的张量转化成 numpy 中的张量。\n",
    "\n",
    "可以用 shape 方法查看张量的尺寸。"
   ]
  },
  {
   "cell_type": "code",
   "execution_count": 8,
   "metadata": {},
   "outputs": [
    {
     "name": "stdout",
     "output_type": "stream",
     "text": [
      "<dtype: 'int32'> <dtype: 'float32'>\n"
     ]
    },
    {
     "data": {
      "application/javascript": "\n            setTimeout(function() {\n                var nbb_cell_id = 8;\n                var nbb_unformatted_code = \"h = tf.constant([123, 456], dtype=tf.int32)\\nf = tf.cast(h, tf.float32)\\nprint(h.dtype, f.dtype)\";\n                var nbb_formatted_code = \"h = tf.constant([123, 456], dtype=tf.int32)\\nf = tf.cast(h, tf.float32)\\nprint(h.dtype, f.dtype)\";\n                var nbb_cells = Jupyter.notebook.get_cells();\n                for (var i = 0; i < nbb_cells.length; ++i) {\n                    if (nbb_cells[i].input_prompt_number == nbb_cell_id) {\n                        if (nbb_cells[i].get_text() == nbb_unformatted_code) {\n                             nbb_cells[i].set_text(nbb_formatted_code);\n                        }\n                        break;\n                    }\n                }\n            }, 500);\n            ",
      "text/plain": [
       "<IPython.core.display.Javascript object>"
      ]
     },
     "metadata": {},
     "output_type": "display_data"
    }
   ],
   "source": [
    "h = tf.constant([123, 456], dtype=tf.int32)\n",
    "f = tf.cast(h, tf.float32)\n",
    "print(h.dtype, f.dtype)"
   ]
  },
  {
   "cell_type": "code",
   "execution_count": 9,
   "metadata": {},
   "outputs": [
    {
     "name": "stdout",
     "output_type": "stream",
     "text": [
      "[[1. 2.]\n",
      " [3. 4.]]\n",
      "(2, 2)\n"
     ]
    },
    {
     "data": {
      "application/javascript": "\n            setTimeout(function() {\n                var nbb_cell_id = 9;\n                var nbb_unformatted_code = \"y = tf.constant([[1.0, 2.0], [3.0, 4.0]])\\nprint(y.numpy())\\nprint(y.shape)\";\n                var nbb_formatted_code = \"y = tf.constant([[1.0, 2.0], [3.0, 4.0]])\\nprint(y.numpy())\\nprint(y.shape)\";\n                var nbb_cells = Jupyter.notebook.get_cells();\n                for (var i = 0; i < nbb_cells.length; ++i) {\n                    if (nbb_cells[i].input_prompt_number == nbb_cell_id) {\n                        if (nbb_cells[i].get_text() == nbb_unformatted_code) {\n                             nbb_cells[i].set_text(nbb_formatted_code);\n                        }\n                        break;\n                    }\n                }\n            }, 500);\n            ",
      "text/plain": [
       "<IPython.core.display.Javascript object>"
      ]
     },
     "metadata": {},
     "output_type": "display_data"
    }
   ],
   "source": [
    "y = tf.constant([[1.0, 2.0], [3.0, 4.0]])\n",
    "print(y.numpy())\n",
    "print(y.shape)"
   ]
  },
  {
   "cell_type": "code",
   "execution_count": 10,
   "metadata": {},
   "outputs": [
    {
     "name": "stdout",
     "output_type": "stream",
     "text": [
      "b'\\xe4\\xbd\\xa0\\xe5\\xa5\\xbd\\xef\\xbc\\x8c\\xe4\\xb8\\x96\\xe7\\x95\\x8c'\n",
      "你好，世界\n"
     ]
    },
    {
     "data": {
      "application/javascript": "\n            setTimeout(function() {\n                var nbb_cell_id = 10;\n                var nbb_unformatted_code = \"u = tf.constant(u\\\"\\u4f60\\u597d\\uff0c\\u4e16\\u754c\\\")\\nprint(u.numpy())\\nprint(u.numpy().decode(\\\"utf-8\\\"))\";\n                var nbb_formatted_code = \"u = tf.constant(u\\\"\\u4f60\\u597d\\uff0c\\u4e16\\u754c\\\")\\nprint(u.numpy())\\nprint(u.numpy().decode(\\\"utf-8\\\"))\";\n                var nbb_cells = Jupyter.notebook.get_cells();\n                for (var i = 0; i < nbb_cells.length; ++i) {\n                    if (nbb_cells[i].input_prompt_number == nbb_cell_id) {\n                        if (nbb_cells[i].get_text() == nbb_unformatted_code) {\n                             nbb_cells[i].set_text(nbb_formatted_code);\n                        }\n                        break;\n                    }\n                }\n            }, 500);\n            ",
      "text/plain": [
       "<IPython.core.display.Javascript object>"
      ]
     },
     "metadata": {},
     "output_type": "display_data"
    }
   ],
   "source": [
    "u = tf.constant(u\"你好，世界\")\n",
    "print(u.numpy())\n",
    "print(u.numpy().decode(\"utf-8\"))\n"
   ]
  },
  {
   "cell_type": "markdown",
   "metadata": {},
   "source": [
    "### 二，变量张量\n",
    "\n",
    "模型中需要被训练的参数一般被设置成变量。"
   ]
  },
  {
   "cell_type": "code",
   "execution_count": 11,
   "metadata": {},
   "outputs": [
    {
     "name": "stdout",
     "output_type": "stream",
     "text": [
      "tf.Tensor([1. 2.], shape=(2,), dtype=float32)\n",
      "140023718815696\n",
      "tf.Tensor([2. 3.], shape=(2,), dtype=float32)\n",
      "140023718816400\n"
     ]
    },
    {
     "data": {
      "application/javascript": "\n            setTimeout(function() {\n                var nbb_cell_id = 11;\n                var nbb_unformatted_code = \"# \\u5e38\\u91cf\\u503c\\u4e0d\\u53ef\\u4ee5\\u6539\\u53d8\\uff0c\\u5e38\\u91cf\\u7684\\u91cd\\u65b0\\u8d4b\\u503c\\u76f8\\u5f53\\u4e8e\\u521b\\u9020\\u65b0\\u7684\\u5185\\u5b58\\u7a7a\\u95f4\\nc = tf.constant([1.0, 2.0])\\nprint(c)\\nprint(id(c))\\nc = c + tf.constant([1.0, 1.0])\\nprint(c)\\nprint(id(c))\";\n                var nbb_formatted_code = \"# \\u5e38\\u91cf\\u503c\\u4e0d\\u53ef\\u4ee5\\u6539\\u53d8\\uff0c\\u5e38\\u91cf\\u7684\\u91cd\\u65b0\\u8d4b\\u503c\\u76f8\\u5f53\\u4e8e\\u521b\\u9020\\u65b0\\u7684\\u5185\\u5b58\\u7a7a\\u95f4\\nc = tf.constant([1.0, 2.0])\\nprint(c)\\nprint(id(c))\\nc = c + tf.constant([1.0, 1.0])\\nprint(c)\\nprint(id(c))\";\n                var nbb_cells = Jupyter.notebook.get_cells();\n                for (var i = 0; i < nbb_cells.length; ++i) {\n                    if (nbb_cells[i].input_prompt_number == nbb_cell_id) {\n                        if (nbb_cells[i].get_text() == nbb_unformatted_code) {\n                             nbb_cells[i].set_text(nbb_formatted_code);\n                        }\n                        break;\n                    }\n                }\n            }, 500);\n            ",
      "text/plain": [
       "<IPython.core.display.Javascript object>"
      ]
     },
     "metadata": {},
     "output_type": "display_data"
    }
   ],
   "source": [
    "# 常量值不可以改变，常量的重新赋值相当于创造新的内存空间\n",
    "c = tf.constant([1.0, 2.0])\n",
    "print(c)\n",
    "print(id(c))\n",
    "c = c + tf.constant([1.0, 1.0])\n",
    "print(c)\n",
    "print(id(c))"
   ]
  },
  {
   "cell_type": "code",
   "execution_count": 13,
   "metadata": {},
   "outputs": [
    {
     "name": "stdout",
     "output_type": "stream",
     "text": [
      "<tf.Variable 'v:0' shape=(2,) dtype=float32, numpy=array([1., 2.], dtype=float32)>\n",
      "140023450609792\n",
      "<tf.Variable 'v:0' shape=(2,) dtype=float32, numpy=array([2., 3.], dtype=float32)>\n",
      "140023450609792\n"
     ]
    },
    {
     "data": {
      "application/javascript": "\n            setTimeout(function() {\n                var nbb_cell_id = 13;\n                var nbb_unformatted_code = \"# \\u53d8\\u91cf\\u7684\\u503c\\u53ef\\u4ee5\\u6539\\u53d8\\uff0c\\u53ef\\u4ee5\\u901a\\u8fc7 assign, assign_add \\u7b49\\u65b9\\u6cd5\\u7ed9\\u53d8\\u91cf\\u91cd\\u65b0\\u8d4b\\u503c\\nv = tf.Variable([1.0, 2.0], name=\\\"v\\\")\\nprint(v)\\nprint(id(v))\\nv.assign_add([1.0, 1.0])\\nprint(v)\\nprint(id(v))\";\n                var nbb_formatted_code = \"# \\u53d8\\u91cf\\u7684\\u503c\\u53ef\\u4ee5\\u6539\\u53d8\\uff0c\\u53ef\\u4ee5\\u901a\\u8fc7 assign, assign_add \\u7b49\\u65b9\\u6cd5\\u7ed9\\u53d8\\u91cf\\u91cd\\u65b0\\u8d4b\\u503c\\nv = tf.Variable([1.0, 2.0], name=\\\"v\\\")\\nprint(v)\\nprint(id(v))\\nv.assign_add([1.0, 1.0])\\nprint(v)\\nprint(id(v))\";\n                var nbb_cells = Jupyter.notebook.get_cells();\n                for (var i = 0; i < nbb_cells.length; ++i) {\n                    if (nbb_cells[i].input_prompt_number == nbb_cell_id) {\n                        if (nbb_cells[i].get_text() == nbb_unformatted_code) {\n                             nbb_cells[i].set_text(nbb_formatted_code);\n                        }\n                        break;\n                    }\n                }\n            }, 500);\n            ",
      "text/plain": [
       "<IPython.core.display.Javascript object>"
      ]
     },
     "metadata": {},
     "output_type": "display_data"
    }
   ],
   "source": [
    "# 变量的值可以改变，可以通过 assign, assign_add 等方法给变量重新赋值\n",
    "v = tf.Variable([1.0, 2.0], name=\"v\")\n",
    "print(v)\n",
    "print(id(v))\n",
    "v.assign_add([1.0, 1.0])\n",
    "print(v)\n",
    "print(id(v))"
   ]
  }
 ],
 "metadata": {
  "interpreter": {
   "hash": "f2c115b8898d18cbad3dd22ca2ef56c09a93f1a7aecc0710612fc4d17026bb07"
  },
  "kernelspec": {
   "display_name": "tf",
   "language": "python",
   "name": "python3"
  },
  "language_info": {
   "codemirror_mode": {
    "name": "ipython",
    "version": 3
   },
   "file_extension": ".py",
   "mimetype": "text/x-python",
   "name": "python",
   "nbconvert_exporter": "python",
   "pygments_lexer": "ipython3",
   "version": "3.8.13"
  }
 },
 "nbformat": 4,
 "nbformat_minor": 2
}

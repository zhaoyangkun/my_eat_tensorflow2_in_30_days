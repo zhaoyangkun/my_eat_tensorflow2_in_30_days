{
 "cells": [
  {
   "cell_type": "markdown",
   "id": "1de22948",
   "metadata": {},
   "source": [
    "# 2-2,三种计算图\n",
    "\n",
    "有三种计算图的构建方式：**静态计算图**，**动态计算图**，以及 **Autograph**.\n",
    "\n",
    "在 TensorFlow 1.0 时代，采用的是静态计算图，需要先使用 TensorFlow 的各种算子创建计算图，然后再开启一个会话 Session，显式执行计算图。\n",
    "\n",
    "而在 TensorFlow 2.0 时代，采用的是动态计算图，即每使用一个算子后，该算子会被动态加入到隐含的默认计算图中立即执行得到结果，而无需开启 Session。\n",
    "\n",
    "使用动态计算图即 Eager Excution 的好处是方便调试程序，它会让 TensorFlow 代码的表现和 Python 原生代码的表现一样，写起来就像写 numpy 一样，各种日志打印，控制流全部都是可以使用的。\n",
    "\n",
    "使用动态计算图的缺点是运行效率相对会低一些。因为使用动态图会有许多次 Python 进程和 TensorFlow 的 C++ 进程之间的通信。而静态计算图构建完成之后几乎全部在 TensorFlow 内核上使用 C++ 代码执行，效率更高。此外静态图会对计算步骤进行一定的优化，剪去和结果无关的计算步骤。"
   ]
  },
  {
   "cell_type": "markdown",
   "id": "454581e0",
   "metadata": {},
   "source": [
    "### 一，计算图简介\n",
    "\n",
    "计算图由节点 (nodes) 和线 (edges) 组成。\n",
    "\n",
    "节点表示操作符 Operator，或者称之为算子，线表示计算间的依赖。\n",
    "\n",
    "实线表示有数据传递依赖，传递的数据即张量。\n",
    "\n",
    "虚线通常可以表示控制依赖，即执行先后顺序。\n",
    "\n",
    "![strjoin_graph](./data/strjoin_graph.png)"
   ]
  },
  {
   "cell_type": "markdown",
   "id": "a546ccbd",
   "metadata": {},
   "source": [
    "### 二，静态计算图\n",
    "\n",
    "在 TensorFlow 1.0 中，使用静态计算图分两步，第一步**定义计算图**，第二步**在会话中执行计算图**。\n",
    "\n",
    "TensorFlow 1.0 静态计算图范例"
   ]
  },
  {
   "cell_type": "code",
   "execution_count": 1,
   "id": "39c6daac",
   "metadata": {},
   "outputs": [
    {
     "data": {
      "application/javascript": "\n            setTimeout(function() {\n                var nbb_cell_id = 1;\n                var nbb_unformatted_code = \"%load_ext nb_black\";\n                var nbb_formatted_code = \"%load_ext nb_black\";\n                var nbb_cells = Jupyter.notebook.get_cells();\n                for (var i = 0; i < nbb_cells.length; ++i) {\n                    if (nbb_cells[i].input_prompt_number == nbb_cell_id) {\n                        if (nbb_cells[i].get_text() == nbb_unformatted_code) {\n                             nbb_cells[i].set_text(nbb_formatted_code);\n                        }\n                        break;\n                    }\n                }\n            }, 500);\n            ",
      "text/plain": [
       "<IPython.core.display.Javascript object>"
      ]
     },
     "metadata": {},
     "output_type": "display_data"
    }
   ],
   "source": [
    "%load_ext nb_black"
   ]
  },
  {
   "cell_type": "code",
   "execution_count": null,
   "id": "f06fd0f8",
   "metadata": {},
   "outputs": [],
   "source": [
    "import tensorflow as tf\n",
    "\n",
    "# 定义计算图\n",
    "g = tf.Graph()\n",
    "with g.as_default():\n",
    "    # placeholder 为占位符，执行会话时指定填充对象\n",
    "    x = tf.placeholder(name=\"x\", shape=[], dtype=tf.string)\n",
    "    y = tf.placeholder(name=\"y\", shape=[], dtype=tf.string)\n",
    "    z = tf.string_join([x, y], name=\"join\", separator=\" \")"
   ]
  }
 ],
 "metadata": {
  "interpreter": {
   "hash": "f2c115b8898d18cbad3dd22ca2ef56c09a93f1a7aecc0710612fc4d17026bb07"
  },
  "kernelspec": {
   "display_name": "tf",
   "language": "python",
   "name": "python3"
  },
  "language_info": {
   "codemirror_mode": {
    "name": "ipython",
    "version": 3
   },
   "file_extension": ".py",
   "mimetype": "text/x-python",
   "name": "python",
   "nbconvert_exporter": "python",
   "pygments_lexer": "ipython3",
   "version": "3.8.13"
  }
 },
 "nbformat": 4,
 "nbformat_minor": 5
}

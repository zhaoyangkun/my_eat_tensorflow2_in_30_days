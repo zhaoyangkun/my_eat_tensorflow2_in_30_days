{
 "cells": [
  {
   "cell_type": "markdown",
   "metadata": {
    "pycharm": {
     "name": "#%% md\n"
    }
   },
   "source": [
    "# 1-1 结构化数据建模流程范例\n",
    "\n",
    "### 一、准备数据\n",
    "\n",
    "`titanic` 数据集的目标是根据乘客信息预测他们在 `Titanic` 号撞击冰山沉没后能否生存。\n",
    "\n",
    "结构化数据一般会使用 `Pandas` 中的 `DataFrame` 进行预处理。"
   ]
  },
  {
   "cell_type": "code",
   "execution_count": 7,
   "metadata": {
    "pycharm": {
     "name": "#%%\n"
    }
   },
   "outputs": [
    {
     "data": {
      "text/html": [
       "<div>\n",
       "<style scoped>\n",
       "    .dataframe tbody tr th:only-of-type {\n",
       "        vertical-align: middle;\n",
       "    }\n",
       "\n",
       "    .dataframe tbody tr th {\n",
       "        vertical-align: top;\n",
       "    }\n",
       "\n",
       "    .dataframe thead th {\n",
       "        text-align: right;\n",
       "    }\n",
       "</style>\n",
       "<table border=\"1\" class=\"dataframe\">\n",
       "  <thead>\n",
       "    <tr style=\"text-align: right;\">\n",
       "      <th></th>\n",
       "      <th>PassengerId</th>\n",
       "      <th>Survived</th>\n",
       "      <th>Pclass</th>\n",
       "      <th>Name</th>\n",
       "      <th>Sex</th>\n",
       "      <th>Age</th>\n",
       "      <th>SibSp</th>\n",
       "      <th>Parch</th>\n",
       "      <th>Ticket</th>\n",
       "      <th>Fare</th>\n",
       "      <th>Cabin</th>\n",
       "      <th>Embarked</th>\n",
       "    </tr>\n",
       "  </thead>\n",
       "  <tbody>\n",
       "    <tr>\n",
       "      <th>0</th>\n",
       "      <td>493</td>\n",
       "      <td>0</td>\n",
       "      <td>1</td>\n",
       "      <td>Molson, Mr. Harry Markland</td>\n",
       "      <td>male</td>\n",
       "      <td>55.0</td>\n",
       "      <td>0</td>\n",
       "      <td>0</td>\n",
       "      <td>113787</td>\n",
       "      <td>30.5000</td>\n",
       "      <td>C30</td>\n",
       "      <td>S</td>\n",
       "    </tr>\n",
       "    <tr>\n",
       "      <th>1</th>\n",
       "      <td>53</td>\n",
       "      <td>1</td>\n",
       "      <td>1</td>\n",
       "      <td>Harper, Mrs. Henry Sleeper (Myna Haxtun)</td>\n",
       "      <td>female</td>\n",
       "      <td>49.0</td>\n",
       "      <td>1</td>\n",
       "      <td>0</td>\n",
       "      <td>PC 17572</td>\n",
       "      <td>76.7292</td>\n",
       "      <td>D33</td>\n",
       "      <td>C</td>\n",
       "    </tr>\n",
       "    <tr>\n",
       "      <th>2</th>\n",
       "      <td>388</td>\n",
       "      <td>1</td>\n",
       "      <td>2</td>\n",
       "      <td>Buss, Miss. Kate</td>\n",
       "      <td>female</td>\n",
       "      <td>36.0</td>\n",
       "      <td>0</td>\n",
       "      <td>0</td>\n",
       "      <td>27849</td>\n",
       "      <td>13.0000</td>\n",
       "      <td>NaN</td>\n",
       "      <td>S</td>\n",
       "    </tr>\n",
       "    <tr>\n",
       "      <th>3</th>\n",
       "      <td>192</td>\n",
       "      <td>0</td>\n",
       "      <td>2</td>\n",
       "      <td>Carbines, Mr. William</td>\n",
       "      <td>male</td>\n",
       "      <td>19.0</td>\n",
       "      <td>0</td>\n",
       "      <td>0</td>\n",
       "      <td>28424</td>\n",
       "      <td>13.0000</td>\n",
       "      <td>NaN</td>\n",
       "      <td>S</td>\n",
       "    </tr>\n",
       "    <tr>\n",
       "      <th>4</th>\n",
       "      <td>687</td>\n",
       "      <td>0</td>\n",
       "      <td>3</td>\n",
       "      <td>Panula, Mr. Jaako Arnold</td>\n",
       "      <td>male</td>\n",
       "      <td>14.0</td>\n",
       "      <td>4</td>\n",
       "      <td>1</td>\n",
       "      <td>3101295</td>\n",
       "      <td>39.6875</td>\n",
       "      <td>NaN</td>\n",
       "      <td>S</td>\n",
       "    </tr>\n",
       "    <tr>\n",
       "      <th>5</th>\n",
       "      <td>16</td>\n",
       "      <td>1</td>\n",
       "      <td>2</td>\n",
       "      <td>Hewlett, Mrs. (Mary D Kingcome)</td>\n",
       "      <td>female</td>\n",
       "      <td>55.0</td>\n",
       "      <td>0</td>\n",
       "      <td>0</td>\n",
       "      <td>248706</td>\n",
       "      <td>16.0000</td>\n",
       "      <td>NaN</td>\n",
       "      <td>S</td>\n",
       "    </tr>\n",
       "    <tr>\n",
       "      <th>6</th>\n",
       "      <td>228</td>\n",
       "      <td>0</td>\n",
       "      <td>3</td>\n",
       "      <td>Lovell, Mr. John Hall (\"Henry\")</td>\n",
       "      <td>male</td>\n",
       "      <td>20.5</td>\n",
       "      <td>0</td>\n",
       "      <td>0</td>\n",
       "      <td>A/5 21173</td>\n",
       "      <td>7.2500</td>\n",
       "      <td>NaN</td>\n",
       "      <td>S</td>\n",
       "    </tr>\n",
       "    <tr>\n",
       "      <th>7</th>\n",
       "      <td>884</td>\n",
       "      <td>0</td>\n",
       "      <td>2</td>\n",
       "      <td>Banfield, Mr. Frederick James</td>\n",
       "      <td>male</td>\n",
       "      <td>28.0</td>\n",
       "      <td>0</td>\n",
       "      <td>0</td>\n",
       "      <td>C.A./SOTON 34068</td>\n",
       "      <td>10.5000</td>\n",
       "      <td>NaN</td>\n",
       "      <td>S</td>\n",
       "    </tr>\n",
       "    <tr>\n",
       "      <th>8</th>\n",
       "      <td>168</td>\n",
       "      <td>0</td>\n",
       "      <td>3</td>\n",
       "      <td>Skoog, Mrs. William (Anna Bernhardina Karlsson)</td>\n",
       "      <td>female</td>\n",
       "      <td>45.0</td>\n",
       "      <td>1</td>\n",
       "      <td>4</td>\n",
       "      <td>347088</td>\n",
       "      <td>27.9000</td>\n",
       "      <td>NaN</td>\n",
       "      <td>S</td>\n",
       "    </tr>\n",
       "    <tr>\n",
       "      <th>9</th>\n",
       "      <td>752</td>\n",
       "      <td>1</td>\n",
       "      <td>3</td>\n",
       "      <td>Moor, Master. Meier</td>\n",
       "      <td>male</td>\n",
       "      <td>6.0</td>\n",
       "      <td>0</td>\n",
       "      <td>1</td>\n",
       "      <td>392096</td>\n",
       "      <td>12.4750</td>\n",
       "      <td>E121</td>\n",
       "      <td>S</td>\n",
       "    </tr>\n",
       "  </tbody>\n",
       "</table>\n",
       "</div>"
      ],
      "text/plain": [
       "   PassengerId  Survived  Pclass  \\\n",
       "0          493         0       1   \n",
       "1           53         1       1   \n",
       "2          388         1       2   \n",
       "3          192         0       2   \n",
       "4          687         0       3   \n",
       "5           16         1       2   \n",
       "6          228         0       3   \n",
       "7          884         0       2   \n",
       "8          168         0       3   \n",
       "9          752         1       3   \n",
       "\n",
       "                                              Name     Sex   Age  SibSp  \\\n",
       "0                       Molson, Mr. Harry Markland    male  55.0      0   \n",
       "1         Harper, Mrs. Henry Sleeper (Myna Haxtun)  female  49.0      1   \n",
       "2                                 Buss, Miss. Kate  female  36.0      0   \n",
       "3                            Carbines, Mr. William    male  19.0      0   \n",
       "4                         Panula, Mr. Jaako Arnold    male  14.0      4   \n",
       "5                 Hewlett, Mrs. (Mary D Kingcome)   female  55.0      0   \n",
       "6                  Lovell, Mr. John Hall (\"Henry\")    male  20.5      0   \n",
       "7                    Banfield, Mr. Frederick James    male  28.0      0   \n",
       "8  Skoog, Mrs. William (Anna Bernhardina Karlsson)  female  45.0      1   \n",
       "9                              Moor, Master. Meier    male   6.0      0   \n",
       "\n",
       "   Parch            Ticket     Fare Cabin Embarked  \n",
       "0      0            113787  30.5000   C30        S  \n",
       "1      0          PC 17572  76.7292   D33        C  \n",
       "2      0             27849  13.0000   NaN        S  \n",
       "3      0             28424  13.0000   NaN        S  \n",
       "4      1           3101295  39.6875   NaN        S  \n",
       "5      0            248706  16.0000   NaN        S  \n",
       "6      0         A/5 21173   7.2500   NaN        S  \n",
       "7      0  C.A./SOTON 34068  10.5000   NaN        S  \n",
       "8      4            347088  27.9000   NaN        S  \n",
       "9      1            392096  12.4750  E121        S  "
      ]
     },
     "execution_count": 7,
     "metadata": {},
     "output_type": "execute_result"
    }
   ],
   "source": [
    "import numpy as np\n",
    "import pandas as pd\n",
    "import matplotlib.pyplot as plt\n",
    "import tensorflow as tf\n",
    "from tensorflow.keras import models, layers\n",
    "\n",
    "# 读取 csv 文件\n",
    "df_train_raw = pd.read_csv(\"./data/titanic/train.csv\")\n",
    "df_test_raw = pd.read_csv(\"./data/titanic/test.csv\")\n",
    "\n",
    "# 输出训练数据集的前 10 行\n",
    "df_train_raw.head(10)"
   ]
  },
  {
   "cell_type": "markdown",
   "metadata": {
    "pycharm": {
     "name": "#%% md\n"
    }
   },
   "source": [
    "字段说明：\n",
    "\n",
    "* Survived:0 代表死亡，1 代表存活【 y 标签】\n",
    "* Pclass:乘客所持票类，有三种值(1,2,3) 【转换成 onehot 编码】\n",
    "* Name:乘客姓名 【舍去】\n",
    "* Sex:乘客性别 【转换成 bool 特征】\n",
    "* Age:乘客年龄(有缺失) 【数值特征，添加“年龄是否缺失”作为辅助特征】\n",
    "* SibSp:乘客兄弟姐妹/配偶的个数(整数值) 【数值特征】\n",
    "* Parch:乘客父母/孩子的个数(整数值)【数值特征】\n",
    "* Ticket:票号(字符串)【舍去】\n",
    "* Fare:乘客所持票的价格(浮点数，0-500 不等) 【数值特征】\n",
    "* Cabin:乘客所在船舱(有缺失) 【添加“所在船舱是否缺失”作为辅助特征】\n",
    "* Embarked:乘客登船港口:S、C、Q(有缺失)【转换成 onehot 编码，四维度 S,C,Q,nan】\n",
    "\n",
    "利用 Pandas 的数据可视化功能我们可以简单地进行探索性数据分析 EDA（Exploratory Data Analysis）。\n",
    "\n",
    "label 分布情况"
   ]
  },
  {
   "cell_type": "code",
   "execution_count": 8,
   "metadata": {
    "pycharm": {
     "name": "#%%\n"
    }
   },
   "outputs": [
    {
     "data": {
      "image/png": "[encoded data removed]",
      "text/plain": [
       "<Figure size 864x576 with 1 Axes>"
      ]
     },
     "metadata": {
      "needs_background": "light"
     },
     "output_type": "display_data"
    }
   ],
   "source": [
    "# %matplotlib inline\n",
    "# %config InlineBackend.figure_format = 'png'\n",
    "ax = (\n",
    "    df_train_raw[\"Survived\"]\n",
    "    .value_counts()\n",
    "    .plot(kind=\"bar\", figsize=(12, 8), fontsize=15, rot=0)\n",
    ")\n",
    "ax.set_ylabel(\"Counts\", fontsize=15)\n",
    "ax.set_xlabel(\"Survived\", fontsize=15)\n",
    "plt.show()"
   ]
  },
  {
   "cell_type": "markdown",
   "metadata": {
    "pycharm": {
     "name": "#%% md\n"
    }
   },
   "source": [
    "年龄分布情况"
   ]
  },
  {
   "cell_type": "code",
   "execution_count": 9,
   "metadata": {
    "pycharm": {
     "name": "#%%\n"
    }
   },
   "outputs": [
    {
     "data": {
      "image/png": "[encoded data removed]",
      "text/plain": [
       "<Figure size 864x576 with 1 Axes>"
      ]
     },
     "metadata": {
      "needs_background": "light"
     },
     "output_type": "display_data"
    }
   ],
   "source": [
    "ax = df_train_raw[\"Age\"].plot(\n",
    "    kind=\"hist\", bins=20, color=\"purple\", figsize=(12, 8), fontsize=15\n",
    ")\n",
    "ax.set_ylabel(\"Frequency\", fontsize=15)\n",
    "ax.set_xlabel(\"Age\", fontsize=15)\n",
    "plt.show()"
   ]
  },
  {
   "cell_type": "markdown",
   "metadata": {
    "pycharm": {
     "name": "#%% md\n"
    }
   },
   "source": [
    "年龄和 label 的相关性"
   ]
  },
  {
   "cell_type": "code",
   "execution_count": 10,
   "metadata": {
    "pycharm": {
     "name": "#%%\n"
    }
   },
   "outputs": [
    {
     "data": {
      "image/png": "[encoded data removed]",
      "text/plain": [
       "<Figure size 864x576 with 1 Axes>"
      ]
     },
     "metadata": {
      "needs_background": "light"
     },
     "output_type": "display_data"
    }
   ],
   "source": [
    "ax = df_train_raw.query(\"Survived == 0\")[\"Age\"].plot(\n",
    "    kind=\"density\", figsize=(12, 8), fontsize=15\n",
    ")\n",
    "df_train_raw.query(\"Survived == 1\")[\"Age\"].plot(\n",
    "    kind=\"density\", figsize=(12, 8), fontsize=15\n",
    ")\n",
    "ax.legend([\"Survived==0\", \"Survived==1\"], fontsize=12)\n",
    "ax.set_ylabel(\"Density\", fontsize=15)\n",
    "ax.set_xlabel(\"Age\", fontsize=15)\n",
    "plt.show()"
   ]
  },
  {
   "cell_type": "code",
   "execution_count": 11,
   "metadata": {
    "pycharm": {
     "name": "#%%\n"
    }
   },
   "outputs": [
    {
     "name": "stdout",
     "output_type": "stream",
     "text": [
      "x_test:    Pclass_1  Pclass_2  Pclass_3  female  male   Age  Age_null  SibSp  Parch  \\\n",
      "0         1         0         0       0     1  55.0         0      0      0   \n",
      "1         1         0         0       1     0  49.0         0      1      0   \n",
      "2         0         1         0       1     0  36.0         0      0      0   \n",
      "3         0         1         0       0     1  19.0         0      0      0   \n",
      "4         0         0         1       0     1  14.0         0      4      1   \n",
      "\n",
      "      Fare  Cabin_null  Embarked_C  Embarked_Q  Embarked_S  Embarked_nan  \n",
      "0  30.5000           0           0           0           1             0  \n",
      "1  76.7292           0           1           0           0             0  \n",
      "2  13.0000           1           0           0           1             0  \n",
      "3  13.0000           1           0           0           1             0  \n",
      "4  39.6875           1           0           0           1             0  \n",
      "y_test: [0 1 1 0 0]\n"
     ]
    }
   ],
   "source": [
    "def preprocessing(df_data):\n",
    "    df_result = pd.DataFrame()\n",
    "\n",
    "    # Pclass\n",
    "    df_p_class = pd.get_dummies(df_data[\"Pclass\"])  # one-hot 编码\n",
    "    df_p_class.columns = [\"Pclass_\" + str(x) for x in df_p_class.columns]  # 重命名 columns\n",
    "    df_result = pd.concat([df_result, df_p_class], axis=1)  # 横向合并 DataFrame\n",
    "\n",
    "    # Sex\n",
    "    df_sex = pd.get_dummies(df_data[\"Sex\"])\n",
    "    df_result = pd.concat([df_result, df_sex], axis=1)\n",
    "\n",
    "    # Age\n",
    "    df_result[\"Age\"] = df_data[\"Age\"].fillna(0)  # 用 0 填充 NA/NaN 数据\n",
    "    df_result[\"Age_null\"] = pd.isna(df_data[\"Age\"]).astype(\"int32\")\n",
    "\n",
    "    # SibSp, Parch, Fare\n",
    "    df_result[\"SibSp\"] = df_data[\"SibSp\"]\n",
    "    df_result[\"Parch\"] = df_data[\"Parch\"]\n",
    "    df_result[\"Fare\"] = df_data[\"Fare\"]\n",
    "\n",
    "    # Cabin\n",
    "    df_result[\"Cabin_null\"] = pd.isna(df_data[\"Cabin\"]).astype(\n",
    "        \"int32\"\n",
    "    )  # 判断是否有 NA/NaN，并转换为 int32\n",
    "\n",
    "    # Embarked\n",
    "    df_embarked = pd.get_dummies(df_data[\"Embarked\"], dummy_na=True)\n",
    "    df_embarked.columns = [\"Embarked_\" + str(x) for x in df_embarked.columns]\n",
    "    df_result = pd.concat([df_result, df_embarked], axis=1)\n",
    "\n",
    "    return df_result\n",
    "\n",
    "\n",
    "x_train = preprocessing(df_train_raw)\n",
    "y_train = df_train_raw[\"Survived\"].values\n",
    "\n",
    "x_test = preprocessing(df_test_raw)\n",
    "y_test = df_test_raw[\"Survived\"].values\n",
    "\n",
    "print(\"x_test:\", x_train.head(5))\n",
    "print(\"y_test:\", y_train[:5])"
   ]
  },
  {
   "cell_type": "markdown",
   "metadata": {
    "pycharm": {
     "name": "#%% md\n"
    }
   },
   "source": [
    "### 二、定义模型\n",
    "\n",
    "使用 `Keras` 接口有以下 3 种方式构建模型：使用 `Sequential` 按层顺序构建模型，使用函数式 `API` 构建任意结构模型，继承 `Model` 基类构建自定义模型。\n",
    "\n",
    "此处选择使用最简单的 `Sequential`，按层顺序模型。"
   ]
  },
  {
   "cell_type": "code",
   "execution_count": 12,
   "metadata": {
    "pycharm": {
     "name": "#%%\n"
    }
   },
   "outputs": [
    {
     "name": "stdout",
     "output_type": "stream",
     "text": [
      "Model: \"sequential\"\n",
      "_________________________________________________________________\n",
      " Layer (type)                Output Shape              Param #   \n",
      "=================================================================\n",
      " dense (Dense)               (None, 20)                320       \n",
      "                                                                 \n",
      " dense_1 (Dense)             (None, 10)                210       \n",
      "                                                                 \n",
      " dense_2 (Dense)             (None, 1)                 11        \n",
      "                                                                 \n",
      "=================================================================\n",
      "Total params: 541\n",
      "Trainable params: 541\n",
      "Non-trainable params: 0\n",
      "_________________________________________________________________\n"
     ]
    },
    {
     "name": "stderr",
     "output_type": "stream",
     "text": [
      "2022-04-23 17:03:12.590020: I tensorflow/stream_executor/cuda/cuda_gpu_executor.cc:939] successful NUMA node read from SysFS had negative value (-1), but there must be at least one NUMA node, so returning NUMA node zero\n",
      "2022-04-23 17:03:12.621994: I tensorflow/stream_executor/cuda/cuda_gpu_executor.cc:939] successful NUMA node read from SysFS had negative value (-1), but there must be at least one NUMA node, so returning NUMA node zero\n",
      "2022-04-23 17:03:12.622218: I tensorflow/stream_executor/cuda/cuda_gpu_executor.cc:939] successful NUMA node read from SysFS had negative value (-1), but there must be at least one NUMA node, so returning NUMA node zero\n",
      "2022-04-23 17:03:12.622610: I tensorflow/core/platform/cpu_feature_guard.cc:151] This TensorFlow binary is optimized with oneAPI Deep Neural Network Library (oneDNN) to use the following CPU instructions in performance-critical operations:  AVX2 FMA\n",
      "To enable them in other operations, rebuild TensorFlow with the appropriate compiler flags.\n",
      "2022-04-23 17:03:12.623555: I tensorflow/stream_executor/cuda/cuda_gpu_executor.cc:939] successful NUMA node read from SysFS had negative value (-1), but there must be at least one NUMA node, so returning NUMA node zero\n",
      "2022-04-23 17:03:12.623732: I tensorflow/stream_executor/cuda/cuda_gpu_executor.cc:939] successful NUMA node read from SysFS had negative value (-1), but there must be at least one NUMA node, so returning NUMA node zero\n",
      "2022-04-23 17:03:12.623850: I tensorflow/stream_executor/cuda/cuda_gpu_executor.cc:939] successful NUMA node read from SysFS had negative value (-1), but there must be at least one NUMA node, so returning NUMA node zero\n",
      "2022-04-23 17:03:13.042091: I tensorflow/stream_executor/cuda/cuda_gpu_executor.cc:939] successful NUMA node read from SysFS had negative value (-1), but there must be at least one NUMA node, so returning NUMA node zero\n",
      "2022-04-23 17:03:13.042337: I tensorflow/stream_executor/cuda/cuda_gpu_executor.cc:939] successful NUMA node read from SysFS had negative value (-1), but there must be at least one NUMA node, so returning NUMA node zero\n",
      "2022-04-23 17:03:13.042697: I tensorflow/stream_executor/cuda/cuda_gpu_executor.cc:939] successful NUMA node read from SysFS had negative value (-1), but there must be at least one NUMA node, so returning NUMA node zero\n",
      "2022-04-23 17:03:13.042817: I tensorflow/core/common_runtime/gpu/gpu_device.cc:1525] Created device /job:localhost/replica:0/task:0/device:GPU:0 with 1849 MB memory:  -> device: 0, name: NVIDIA GeForce GTX 1650, pci bus id: 0000:01:00.0, compute capability: 7.5\n"
     ]
    }
   ],
   "source": [
    "tf.keras.backend.clear_session()\n",
    "\n",
    "model = models.Sequential()\n",
    "model.add(layers.Dense(20, activation=\"relu\", input_shape=(15,)))\n",
    "model.add(layers.Dense(10, activation=\"relu\"))\n",
    "model.add(layers.Dense(1, activation=\"sigmoid\"))\n",
    "\n",
    "model.summary()"
   ]
  },
  {
   "cell_type": "markdown",
   "metadata": {
    "pycharm": {
     "name": "#%% md\n"
    }
   },
   "source": [
    "### 三、训练模型\n",
    "\n",
    "训练模型通常有 3 种方法，内置 `fit` 方法，内置 `train_on_batch` 方法，以及自定义训练循环。此处我们选择最常用也最简单的内置 `fit` 方法。"
   ]
  },
  {
   "cell_type": "code",
   "execution_count": 13,
   "metadata": {
    "pycharm": {
     "name": "#%%\n"
    }
   },
   "outputs": [
    {
     "name": "stdout",
     "output_type": "stream",
     "text": [
      "Epoch 1/30\n",
      "9/9 [==============================] - 2s 31ms/step - loss: 2.8660 - auc: 0.6958 - val_loss: 2.0346 - val_auc: 0.6613\n",
      "Epoch 2/30\n",
      "9/9 [==============================] - 0s 5ms/step - loss: 1.5581 - auc: 0.6894 - val_loss: 1.3550 - val_auc: 0.6617\n",
      "Epoch 3/30\n",
      "9/9 [==============================] - 0s 6ms/step - loss: 1.1783 - auc: 0.6583 - val_loss: 1.1818 - val_auc: 0.6371\n",
      "Epoch 4/30\n",
      "9/9 [==============================] - 0s 6ms/step - loss: 1.0681 - auc: 0.6297 - val_loss: 1.0037 - val_auc: 0.6158\n",
      "Epoch 5/30\n",
      "9/9 [==============================] - 0s 5ms/step - loss: 0.8676 - auc: 0.6408 - val_loss: 0.8170 - val_auc: 0.6411\n",
      "Epoch 6/30\n",
      "9/9 [==============================] - 0s 5ms/step - loss: 0.7233 - auc: 0.7128 - val_loss: 0.7120 - val_auc: 0.6922\n",
      "Epoch 7/30\n",
      "9/9 [==============================] - 0s 5ms/step - loss: 0.6436 - auc: 0.7669 - val_loss: 0.6586 - val_auc: 0.6885\n",
      "Epoch 8/30\n",
      "9/9 [==============================] - 0s 5ms/step - loss: 0.5952 - auc: 0.7782 - val_loss: 0.6247 - val_auc: 0.7080\n",
      "Epoch 9/30\n",
      "9/9 [==============================] - 0s 8ms/step - loss: 0.5725 - auc: 0.8033 - val_loss: 0.5983 - val_auc: 0.7423\n",
      "Epoch 10/30\n",
      "9/9 [==============================] - 0s 7ms/step - loss: 0.5577 - auc: 0.7987 - val_loss: 0.5914 - val_auc: 0.7429\n",
      "Epoch 11/30\n",
      "9/9 [==============================] - 0s 5ms/step - loss: 0.5438 - auc: 0.8083 - val_loss: 0.5881 - val_auc: 0.7453\n",
      "Epoch 12/30\n",
      "9/9 [==============================] - 0s 6ms/step - loss: 0.5393 - auc: 0.8115 - val_loss: 0.5887 - val_auc: 0.7403\n",
      "Epoch 13/30\n",
      "9/9 [==============================] - 0s 5ms/step - loss: 0.5335 - auc: 0.8195 - val_loss: 0.5903 - val_auc: 0.7457\n",
      "Epoch 14/30\n",
      "9/9 [==============================] - 0s 5ms/step - loss: 0.5248 - auc: 0.8214 - val_loss: 0.5950 - val_auc: 0.7452\n",
      "Epoch 15/30\n",
      "9/9 [==============================] - 0s 5ms/step - loss: 0.5197 - auc: 0.8265 - val_loss: 0.5994 - val_auc: 0.7417\n",
      "Epoch 16/30\n",
      "9/9 [==============================] - 0s 5ms/step - loss: 0.5091 - auc: 0.8314 - val_loss: 0.5996 - val_auc: 0.7440\n",
      "Epoch 17/30\n",
      "9/9 [==============================] - 0s 5ms/step - loss: 0.5087 - auc: 0.8351 - val_loss: 0.6031 - val_auc: 0.7413\n",
      "Epoch 18/30\n",
      "9/9 [==============================] - 0s 7ms/step - loss: 0.4943 - auc: 0.8391 - val_loss: 0.6042 - val_auc: 0.7438\n",
      "Epoch 19/30\n",
      "9/9 [==============================] - 0s 6ms/step - loss: 0.4955 - auc: 0.8383 - val_loss: 0.6174 - val_auc: 0.7374\n",
      "Epoch 20/30\n",
      "9/9 [==============================] - 0s 6ms/step - loss: 0.4940 - auc: 0.8379 - val_loss: 0.6041 - val_auc: 0.7458\n",
      "Epoch 21/30\n",
      "9/9 [==============================] - 0s 7ms/step - loss: 0.4862 - auc: 0.8477 - val_loss: 0.6076 - val_auc: 0.7463\n",
      "Epoch 22/30\n",
      "9/9 [==============================] - 0s 5ms/step - loss: 0.4858 - auc: 0.8431 - val_loss: 0.6061 - val_auc: 0.7486\n",
      "Epoch 23/30\n",
      "9/9 [==============================] - 0s 4ms/step - loss: 0.4740 - auc: 0.8527 - val_loss: 0.6048 - val_auc: 0.7454\n",
      "Epoch 24/30\n",
      "9/9 [==============================] - 0s 5ms/step - loss: 0.4698 - auc: 0.8567 - val_loss: 0.6049 - val_auc: 0.7502\n",
      "Epoch 25/30\n",
      "9/9 [==============================] - 0s 5ms/step - loss: 0.4679 - auc: 0.8565 - val_loss: 0.6064 - val_auc: 0.7497\n",
      "Epoch 26/30\n",
      "9/9 [==============================] - 0s 5ms/step - loss: 0.4595 - auc: 0.8603 - val_loss: 0.6053 - val_auc: 0.7539\n",
      "Epoch 27/30\n",
      "9/9 [==============================] - 0s 5ms/step - loss: 0.4563 - auc: 0.8610 - val_loss: 0.6060 - val_auc: 0.7496\n",
      "Epoch 28/30\n",
      "9/9 [==============================] - 0s 5ms/step - loss: 0.4515 - auc: 0.8682 - val_loss: 0.6050 - val_auc: 0.7568\n",
      "Epoch 29/30\n",
      "9/9 [==============================] - 0s 5ms/step - loss: 0.4541 - auc: 0.8577 - val_loss: 0.6110 - val_auc: 0.7515\n",
      "Epoch 30/30\n",
      "9/9 [==============================] - 0s 6ms/step - loss: 0.4455 - auc: 0.8675 - val_loss: 0.6045 - val_auc: 0.7550\n"
     ]
    }
   ],
   "source": [
    "# 二分类问题选择二元交叉熵损失函数\n",
    "model.compile(optimizer=\"adam\", loss=\"binary_crossentropy\", metrics=[\"AUC\"])\n",
    "\n",
    "# 进行模型训练，validation_split 表示拆分训练集为训练集和验证集，并设置验证集比例为 0.2\n",
    "history = model.fit(x_train, y_train, batch_size=64, epochs=30, validation_split=0.2)"
   ]
  },
  {
   "cell_type": "markdown",
   "metadata": {
    "pycharm": {
     "name": "#%% md\n"
    }
   },
   "source": [
    "### 四、评估模型\n",
    "\n",
    "我们首先评估一下模型在训练集和验证集上的效果。"
   ]
  },
  {
   "cell_type": "code",
   "execution_count": 14,
   "metadata": {
    "pycharm": {
     "name": "#%%\n"
    }
   },
   "outputs": [],
   "source": [
    "import matplotlib.pyplot as plt\n",
    "\n",
    "\n",
    "def plot_metric(history, metric):\n",
    "    train_metrics = history.history[metric]\n",
    "    val_metrics = history.history['val_'+metric]\n",
    "    epochs = range(1, len(train_metrics) + 1)\n",
    "    plt.plot(epochs, train_metrics, \"bo--\")\n",
    "    plt.plot(epochs, val_metrics, \"ro-\")\n",
    "    plt.title(\"Training and validation \" + metric)\n",
    "    plt.xlabel(\"Epochs\")\n",
    "    plt.ylabel(metric)\n",
    "    plt.legend([\"train_\" + metric, \"val_\" + metric])\n",
    "    plt.show()"
   ]
  },
  {
   "cell_type": "code",
   "execution_count": 15,
   "metadata": {
    "pycharm": {
     "name": "#%%\n"
    }
   },
   "outputs": [
    {
     "data": {
      "image/png": "[encoded data removed]",
      "text/plain": [
       "<Figure size 432x288 with 1 Axes>"
      ]
     },
     "metadata": {
      "needs_background": "light"
     },
     "output_type": "display_data"
    }
   ],
   "source": [
    "plot_metric(history, \"loss\")"
   ]
  },
  {
   "cell_type": "code",
   "execution_count": 16,
   "metadata": {
    "pycharm": {
     "name": "#%%\n"
    }
   },
   "outputs": [
    {
     "data": {
      "image/png": "[encoded data removed]",
      "text/plain": [
       "<Figure size 432x288 with 1 Axes>"
      ]
     },
     "metadata": {
      "needs_background": "light"
     },
     "output_type": "display_data"
    }
   ],
   "source": [
    "plot_metric(history, \"auc\")"
   ]
  },
  {
   "cell_type": "markdown",
   "metadata": {
    "pycharm": {
     "name": "#%% md\n"
    }
   },
   "source": [
    "我们再看一下模型在测试集上的效果"
   ]
  },
  {
   "cell_type": "code",
   "execution_count": 17,
   "metadata": {
    "pycharm": {
     "name": "#%%\n"
    }
   },
   "outputs": [
    {
     "name": "stdout",
     "output_type": "stream",
     "text": [
      "6/6 [==============================] - 0s 2ms/step - loss: 0.4870 - auc: 0.7999\n"
     ]
    },
    {
     "data": {
      "text/plain": [
       "[0.4870416522026062, 0.7999452948570251]"
      ]
     },
     "execution_count": 17,
     "metadata": {},
     "output_type": "execute_result"
    }
   ],
   "source": [
    "model.evaluate(x=x_test, y=y_test)"
   ]
  },
  {
   "cell_type": "markdown",
   "metadata": {
    "pycharm": {
     "name": "#%% md\n"
    }
   },
   "source": [
    "### 五、使用模型"
   ]
  },
  {
   "cell_type": "code",
   "execution_count": 18,
   "metadata": {
    "pycharm": {
     "name": "#%%\n"
    }
   },
   "outputs": [
    {
     "data": {
      "text/plain": [
       "array([[0.48573324],\n",
       "       [0.53170854],\n",
       "       [0.27932197],\n",
       "       [0.79073834],\n",
       "       [0.5181852 ]], dtype=float32)"
      ]
     },
     "execution_count": 18,
     "metadata": {},
     "output_type": "execute_result"
    }
   ],
   "source": [
    "# 预测概率\n",
    "model.predict(x_test[0:5])"
   ]
  },
  {
   "cell_type": "code",
   "execution_count": 19,
   "metadata": {
    "pycharm": {
     "name": "#%%\n"
    }
   },
   "outputs": [
    {
     "data": {
      "text/plain": [
       "array([0, 0, 0, 0, 0])"
      ]
     },
     "execution_count": 19,
     "metadata": {},
     "output_type": "execute_result"
    }
   ],
   "source": [
    "# 预测分类\n",
    "# model.predict_classes(x_test[0:5])\n",
    "classes = np.argmax(model.predict(x_test[0:5]), axis=1)\n",
    "classes"
   ]
  },
  {
   "cell_type": "markdown",
   "metadata": {
    "pycharm": {
     "name": "#%% md\n"
    }
   },
   "source": [
    "### 六、保存模型\n",
    "\n",
    "可以使用 `Keras` 方式保存模型，也可以使用 `TensorFlow` 原生方式保存。前者仅仅适合使用 `Python` 环境恢复模型，后者则可以跨平台进行模型部署。\n",
    "\n",
    "推荐使用后一种方式进行保存。\n",
    "\n",
    "#### 1. Keras方式保存"
   ]
  },
  {
   "cell_type": "code",
   "execution_count": 20,
   "metadata": {
    "pycharm": {
     "name": "#%%\n"
    }
   },
   "outputs": [
    {
     "name": "stdout",
     "output_type": "stream",
     "text": [
      "6/6 [==============================] - 0s 2ms/step - loss: 0.4870 - auc: 0.7999\n"
     ]
    },
    {
     "data": {
      "text/plain": [
       "[0.4870416522026062, 0.7999452948570251]"
      ]
     },
     "execution_count": 20,
     "metadata": {},
     "output_type": "execute_result"
    }
   ],
   "source": [
    "# 保存模型结构及权重\n",
    "model.save('./data/keras_model.h5')\n",
    "\n",
    "# 删除现有模型\n",
    "del model\n",
    "\n",
    "# 加载保存的模型\n",
    "model = models.load_model('./data/keras_model.h5')\n",
    "model.evaluate(x_test, y_test)"
   ]
  },
  {
   "cell_type": "code",
   "execution_count": 21,
   "metadata": {
    "pycharm": {
     "name": "#%%\n"
    }
   },
   "outputs": [],
   "source": [
    "# 保存模型结构\n",
    "json_str = model.to_json()\n",
    "\n",
    "# 恢复模型结构\n",
    "model_json = models.model_from_json(json_str)"
   ]
  },
  {
   "cell_type": "code",
   "execution_count": 22,
   "metadata": {
    "pycharm": {
     "name": "#%%\n"
    }
   },
   "outputs": [
    {
     "name": "stdout",
     "output_type": "stream",
     "text": [
      "6/6 [==============================] - 0s 2ms/step - loss: 0.4870 - auc: 0.7999\n"
     ]
    },
    {
     "data": {
      "text/plain": [
       "[0.4870416522026062, 0.7999452948570251]"
      ]
     },
     "execution_count": 22,
     "metadata": {},
     "output_type": "execute_result"
    }
   ],
   "source": [
    "# 保存模型权重\n",
    "model.save_weights('./data/keras_model_weight.h5')\n",
    "\n",
    "# 恢复模型结构\n",
    "model_json = models.model_from_json(json_str)\n",
    "model_json.compile(optimizer=\"adam\", loss=\"binary_crossentropy\", metrics=[\"AUC\"])\n",
    "\n",
    "# 加载权重\n",
    "model_json.load_weights('./data/keras_model_weight.h5')\n",
    "model_json.evaluate(x_test, y_test)"
   ]
  }
 ],
 "metadata": {
  "interpreter": {
   "hash": "f2c115b8898d18cbad3dd22ca2ef56c09a93f1a7aecc0710612fc4d17026bb07"
  },
  "kernelspec": {
   "display_name": "Python 3.8.13 ('tf')",
   "language": "python",
   "name": "python3"
  },
  "language_info": {
   "codemirror_mode": {
    "name": "ipython",
    "version": 3
   },
   "file_extension": ".py",
   "mimetype": "text/x-python",
   "name": "python",
   "nbconvert_exporter": "python",
   "pygments_lexer": "ipython3",
   "version": "3.8.13"
  }
 },
 "nbformat": 4,
 "nbformat_minor": 2
}

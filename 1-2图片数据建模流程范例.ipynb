{
 "cells": [
  {
   "cell_type": "markdown",
   "metadata": {},
   "source": [
    "### 一、准备数据\n",
    "\n",
    "`cifar2` 数据集为 `cifar10` 数据集的子集，只包括前两种类别 `airplane` 和 `automobile`。\n",
    "\n",
    "训练集有 `airplane` 和 `automobile` 图片各 5000 张，测试集有 `airplane` 和 `automobile` 图片各1000张。\n",
    "\n",
    "`cifar2` 任务的目标是训练一个模型来对飞机 `airplane` 和机动车 `automobile` 两种图片进行分类。\n",
    "\n",
    "我们准备的 `Cifar2` 数据集的文件结构如下所示。\n",
    "\n",
    "![Cifar2](data/cifar2.jpg)\n",
    "\n",
    "在 `tensorflow` 中准备图片数据的常用方案有两种，第一种是使用 `tf.keras` 中的 `ImageDataGenerator` 工具构建图片数据生成器。\n",
    "\n",
    "第二种是使用 `tf.data.Dataset` 搭配 `tf.image` 中的一些图片处理方法构建数据管道。\n",
    "\n",
    "第一种方法更为简单，其使用范例可以参考以下文章。\n",
    "\n",
    "[《Keras图像数据预处理范例——Cifar2图片分类》](https://mp.weixin.qq.com/s?__biz=MzU3OTQzNTU2OA==&mid=2247484795&idx=1&sn=16947726702b87ee535aef0d6ae2db30&chksm=fd676824ca10e1321e77c5fa44339c0a79442cd8d7fbcc58697be166a4b0f990306848724692&mpshare=1&scene=1&srcid=1227ARPw2Ir8nVC4B84CjcIx&sharer_sharetime=1609043128020&sharer_shareid=808295d573831eb57288f1fc0ad3ac69&key=a58ea5adca8c8f06e4a7b7a15ed218f88cbee52ab3ee0fca3f2dd3f0797a36a6de26f8e75bd4787ddf97195c3959d94fe5060be0d3f9f6cd1eba11c0ad1ee37709088084d70034bd03efd43dacc32acd45a231c8359dd84ad73c28b11a9dc50556486b6e1e1ab89ad11da9621e5cdd858fcb53d91037d5116d638d12fced85b3&ascene=0&uin=MTYzMDEzMjAxMg%3D%3D&devicetype=iMac+MacBookAir7%2C2+OSX+OSX+10.14.6+build(18G6032)&version=11020113&lang=zh_CN&exportkey=A8nc9Ve3hcMzsggW3DOY8mU%3D&pass_ticket=JOjUjT6HXslkPfqXrPY1oG3qVEXbIIc1IAKdh8xjlrGyB8OtZ8JjRan45%2Ff%2Bknjb&wx_header=0)\n",
    "\n",
    "第二种方法是 `TensorFlow` 的原生方法，更加灵活，使用得当的话也可以获得更好的性能。\n",
    "\n",
    "我们此处介绍第二种方法。"
   ]
  },
  {
   "cell_type": "code",
   "execution_count": 1,
   "metadata": {},
   "outputs": [],
   "source": [
    "import tensorflow as tf\n",
    "from keras import layers, models\n",
    "\n",
    "BATCH_SIZE = 100\n",
    "EPOCHS = 15\n",
    "\n",
    "def load_image(img_path, size=(32, 32)):\n",
    "    # 构建标签，1 表示汽车，0 表示飞机\n",
    "    label = (\n",
    "        tf.constant(1, tf.int8)\n",
    "        if tf.strings.regex_full_match(img_path, \".*automobile.*\")\n",
    "        else tf.constant(0, tf.int8)\n",
    "    )\n",
    "    img = tf.io.read_file(img_path)  # 读取图片\n",
    "    img = tf.image.decode_jpeg(img)  # 解码 jpeg 图像\n",
    "    img = tf.image.resize(img, size) / 255.0  # 调整图片大小，并归一化\n",
    "    return (img, label)"
   ]
  },
  {
   "cell_type": "code",
   "execution_count": 2,
   "metadata": {},
   "outputs": [
    {
     "name": "stderr",
     "output_type": "stream",
     "text": [
      "2022-04-23 19:29:06.079185: I tensorflow/stream_executor/cuda/cuda_gpu_executor.cc:939] successful NUMA node read from SysFS had negative value (-1), but there must be at least one NUMA node, so returning NUMA node zero\n",
      "2022-04-23 19:29:06.108491: I tensorflow/stream_executor/cuda/cuda_gpu_executor.cc:939] successful NUMA node read from SysFS had negative value (-1), but there must be at least one NUMA node, so returning NUMA node zero\n",
      "2022-04-23 19:29:06.108650: I tensorflow/stream_executor/cuda/cuda_gpu_executor.cc:939] successful NUMA node read from SysFS had negative value (-1), but there must be at least one NUMA node, so returning NUMA node zero\n",
      "2022-04-23 19:29:06.109396: I tensorflow/core/platform/cpu_feature_guard.cc:151] This TensorFlow binary is optimized with oneAPI Deep Neural Network Library (oneDNN) to use the following CPU instructions in performance-critical operations:  AVX2 FMA\n",
      "To enable them in other operations, rebuild TensorFlow with the appropriate compiler flags.\n",
      "2022-04-23 19:29:06.110588: I tensorflow/stream_executor/cuda/cuda_gpu_executor.cc:939] successful NUMA node read from SysFS had negative value (-1), but there must be at least one NUMA node, so returning NUMA node zero\n",
      "2022-04-23 19:29:06.110766: I tensorflow/stream_executor/cuda/cuda_gpu_executor.cc:939] successful NUMA node read from SysFS had negative value (-1), but there must be at least one NUMA node, so returning NUMA node zero\n",
      "2022-04-23 19:29:06.110878: I tensorflow/stream_executor/cuda/cuda_gpu_executor.cc:939] successful NUMA node read from SysFS had negative value (-1), but there must be at least one NUMA node, so returning NUMA node zero\n",
      "2022-04-23 19:29:06.517013: I tensorflow/stream_executor/cuda/cuda_gpu_executor.cc:939] successful NUMA node read from SysFS had negative value (-1), but there must be at least one NUMA node, so returning NUMA node zero\n",
      "2022-04-23 19:29:06.517208: I tensorflow/stream_executor/cuda/cuda_gpu_executor.cc:939] successful NUMA node read from SysFS had negative value (-1), but there must be at least one NUMA node, so returning NUMA node zero\n",
      "2022-04-23 19:29:06.517337: I tensorflow/stream_executor/cuda/cuda_gpu_executor.cc:939] successful NUMA node read from SysFS had negative value (-1), but there must be at least one NUMA node, so returning NUMA node zero\n",
      "2022-04-23 19:29:06.517464: I tensorflow/core/common_runtime/gpu/gpu_device.cc:1525] Created device /job:localhost/replica:0/task:0/device:GPU:0 with 1973 MB memory:  -> device: 0, name: NVIDIA GeForce GTX 1650, pci bus id: 0000:01:00.0, compute capability: 7.5\n"
     ]
    }
   ],
   "source": [
    "# 使用并行化预处理 num_parallel_calls 和预存数据 prefetch 来提升性能\n",
    "ds_train = (\n",
    "    tf.data.Dataset.list_files(\"./data/cifar2/train/*/*.jpg\")\n",
    "    .map(load_image, num_parallel_calls=tf.data.experimental.AUTOTUNE)  #\n",
    "    .shuffle(buffer_size=1000)  # 打乱数据，buffer_size 为缓冲区大小，越大则乱序效果越好，但性能会下降\n",
    "    .batch(BATCH_SIZE)  # 批次大小\n",
    "    .prefetch(tf.data.experimental.AUTOTUNE)\n",
    ")\n",
    "\n",
    "ds_test = (\n",
    "    tf.data.Dataset.list_files(\"./data/cifar2/test/*/*.jpg\")\n",
    "    .map(load_image, num_parallel_calls=tf.data.experimental.AUTOTUNE)\n",
    "    .batch(BATCH_SIZE)\n",
    "    .prefetch(tf.data.experimental.AUTOTUNE)\n",
    ")"
   ]
  },
  {
   "cell_type": "code",
   "execution_count": 3,
   "metadata": {},
   "outputs": [
    {
     "data": {
      "image/svg+xml": "<?xml version=\"1.0\" encoding=\"utf-8\" standalone=\"no\"?>\n<!DOCTYPE svg PUBLIC \"-//W3C//DTD SVG 1.1//EN\"\n  \"http://www.w3.org/Graphics/SVG/1.1/DTD/svg11.dtd\">\n<svg xmlns:xlink=\"http://www.w3.org/1999/xlink\" width=\"460.911765pt\" height=\"467.898125pt\" viewBox=\"0 0 460.911765 467.898125\" xmlns=\"http://www.w3.org/2000/svg\" version=\"1.1\">\n <metadata>\n  <rdf:RDF xmlns:dc=\"http://purl.org/dc/elements/1.1/\" xmlns:cc=\"http://creativecommons.org/ns#\" xmlns:rdf=\"http://www.w3.org/1999/02/22-rdf-syntax-ns#\">\n   <cc:Work>\n    <dc:type rdf:resource=\"http://purl.org/dc/dcmitype/StillImage\"/>\n    <dc:date>2022-04-23T19:29:07.395515</dc:date>\n    <dc:format>image/svg+xml</dc:format>\n    <dc:creator>\n     <cc:Agent>\n      <dc:title>Matplotlib v3.5.1, https://matplotlib.org/</dc:title>\n     </cc:Agent>\n    </dc:creator>\n   </cc:Work>\n  </rdf:RDF>\n </metadata>\n <defs>\n  <style type=\"text/css\">*{stroke-linejoin: round; stroke-linecap: butt}</style>\n </defs>\n <g id=\"figure_1\">\n  <g id=\"patch_1\">\n   <path d=\"M 0 467.898125 \nL 460.911765 467.898125 \nL 460.911765 0 \nL 0 0 \nL 0 467.898125 \nz\n\" style=\"fill: none\"/>\n  </g>\n  <g id=\"axes_1\">\n   <g id=\"patch_2\">\n    <path d=\"M 10.7 150.224007 \nL 138.605882 150.224007 \nL 138.605882 22.318125 \nL 10.7 22.318125 \nz\n\" style=\"fill: #ffffff\"/>\n   </g>\n   <g clip-path=\"url(#p45596ed88b)\">\n    <image xlink:href=\"data:image/png;base64,\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\" id=\"image6ed93c14ed\" transform=\"scale(1 -1)translate(0 -128)\" x=\"10.7\" y=\"-22.224007\" width=\"128\" height=\"128\"/>\n   </g>\n   <g id=\"matplotlib.axis_1\"/>\n   <g id=\"matplotlib.axis_2\"/>\n   <g id=\"patch_3\">\n    <path d=\"M 10.7 150.224007 \nL 10.7 22.318125 \n\" style=\"fill: none; stroke: #000000; stroke-width: 0.8; stroke-linejoin: miter; stroke-linecap: square\"/>\n   </g>\n   <g id=\"patch_4\">\n    <path d=\"M 138.605882 150.224007 \nL 138.605882 22.318125 \n\" style=\"fill: none; stroke: #000000; stroke-width: 0.8; stroke-linejoin: miter; stroke-linecap: square\"/>\n   </g>\n   <g id=\"patch_5\">\n    <path d=\"M 10.7 150.224007 \nL 138.605882 150.224007 \n\" style=\"fill: none; stroke: #000000; stroke-width: 0.8; stroke-linejoin: miter; stroke-linecap: square\"/>\n   </g>\n   <g id=\"patch_6\">\n    <path d=\"M 10.7 22.318125 \nL 138.605882 22.318125 \n\" style=\"fill: none; stroke: #000000; stroke-width: 0.8; stroke-linejoin: miter; stroke-linecap: square\"/>\n   </g>\n   <g id=\"text_1\">\n    <!-- label = 0 -->\n    <g transform=\"translate(47.482316 16.318125)scale(0.12 -0.12)\">\n     <defs>\n      <path id=\"DejaVuSans-6c\" d=\"M 603 4863 \nL 1178 4863 \nL 1178 0 \nL 603 0 \nL 603 4863 \nz\n\" transform=\"scale(0.015625)\"/>\n      <path id=\"DejaVuSans-61\" d=\"M 2194 1759 \nQ 1497 1759 1228 1600 \nQ 959 1441 959 1056 \nQ 959 750 1161 570 \nQ 1363 391 1709 391 \nQ 2188 391 2477 730 \nQ 2766 1069 2766 1631 \nL 2766 1759 \nL 2194 1759 \nz\nM 3341 1997 \nL 3341 0 \nL 2766 0 \nL 2766 531 \nQ 2569 213 2275 61 \nQ 1981 -91 1556 -91 \nQ 1019 -91 701 211 \nQ 384 513 384 1019 \nQ 384 1609 779 1909 \nQ 1175 2209 1959 2209 \nL 2766 2209 \nL 2766 2266 \nQ 2766 2663 2505 2880 \nQ 2244 3097 1772 3097 \nQ 1472 3097 1187 3025 \nQ 903 2953 641 2809 \nL 641 3341 \nQ 956 3463 1253 3523 \nQ 1550 3584 1831 3584 \nQ 2591 3584 2966 3190 \nQ 3341 2797 3341 1997 \nz\n\" transform=\"scale(0.015625)\"/>\n      <path id=\"DejaVuSans-62\" d=\"M 3116 1747 \nQ 3116 2381 2855 2742 \nQ 2594 3103 2138 3103 \nQ 1681 3103 1420 2742 \nQ 1159 2381 1159 1747 \nQ 1159 1113 1420 752 \nQ 1681 391 2138 391 \nQ 2594 391 2855 752 \nQ 3116 1113 3116 1747 \nz\nM 1159 2969 \nQ 1341 3281 1617 3432 \nQ 1894 3584 2278 3584 \nQ 2916 3584 3314 3078 \nQ 3713 2572 3713 1747 \nQ 3713 922 3314 415 \nQ 2916 -91 2278 -91 \nQ 1894 -91 1617 61 \nQ 1341 213 1159 525 \nL 1159 0 \nL 581 0 \nL 581 4863 \nL 1159 4863 \nL 1159 2969 \nz\n\" transform=\"scale(0.015625)\"/>\n      <path id=\"DejaVuSans-65\" d=\"M 3597 1894 \nL 3597 1613 \nL 953 1613 \nQ 991 1019 1311 708 \nQ 1631 397 2203 397 \nQ 2534 397 2845 478 \nQ 3156 559 3463 722 \nL 3463 178 \nQ 3153 47 2828 -22 \nQ 2503 -91 2169 -91 \nQ 1331 -91 842 396 \nQ 353 884 353 1716 \nQ 353 2575 817 3079 \nQ 1281 3584 2069 3584 \nQ 2775 3584 3186 3129 \nQ 3597 2675 3597 1894 \nz\nM 3022 2063 \nQ 3016 2534 2758 2815 \nQ 2500 3097 2075 3097 \nQ 1594 3097 1305 2825 \nQ 1016 2553 972 2059 \nL 3022 2063 \nz\n\" transform=\"scale(0.015625)\"/>\n      <path id=\"DejaVuSans-20\" transform=\"scale(0.015625)\"/>\n      <path id=\"DejaVuSans-3d\" d=\"M 678 2906 \nL 4684 2906 \nL 4684 2381 \nL 678 2381 \nL 678 2906 \nz\nM 678 1631 \nL 4684 1631 \nL 4684 1100 \nL 678 1100 \nL 678 1631 \nz\n\" transform=\"scale(0.015625)\"/>\n      <path id=\"DejaVuSans-30\" d=\"M 2034 4250 \nQ 1547 4250 1301 3770 \nQ 1056 3291 1056 2328 \nQ 1056 1369 1301 889 \nQ 1547 409 2034 409 \nQ 2525 409 2770 889 \nQ 3016 1369 3016 2328 \nQ 3016 3291 2770 3770 \nQ 2525 4250 2034 4250 \nz\nM 2034 4750 \nQ 2819 4750 3233 4129 \nQ 3647 3509 3647 2328 \nQ 3647 1150 3233 529 \nQ 2819 -91 2034 -91 \nQ 1250 -91 836 529 \nQ 422 1150 422 2328 \nQ 422 3509 836 4129 \nQ 1250 4750 2034 4750 \nz\n\" transform=\"scale(0.015625)\"/>\n     </defs>\n     <use xlink:href=\"#DejaVuSans-6c\"/>\n     <use xlink:href=\"#DejaVuSans-61\" x=\"27.783203\"/>\n     <use xlink:href=\"#DejaVuSans-62\" x=\"89.0625\"/>\n     <use xlink:href=\"#DejaVuSans-65\" x=\"152.539062\"/>\n     <use xlink:href=\"#DejaVuSans-6c\" x=\"214.0625\"/>\n     <use xlink:href=\"#DejaVuSans-20\" x=\"241.845703\"/>\n     <use xlink:href=\"#DejaVuSans-3d\" x=\"273.632812\"/>\n     <use xlink:href=\"#DejaVuSans-20\" x=\"357.421875\"/>\n     <use xlink:href=\"#DejaVuSans-30\" x=\"389.208984\"/>\n    </g>\n   </g>\n  </g>\n  <g id=\"axes_2\">\n   <g id=\"patch_7\">\n    <path d=\"M 168.252941 150.224007 \nL 296.158824 150.224007 \nL 296.158824 22.318125 \nL 168.252941 22.318125 \nz\n\" style=\"fill: #ffffff\"/>\n   </g>\n   <g clip-path=\"url(#pc143d37796)\">\n    <image xlink:href=\"data:image/png;base64,\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\" id=\"image60f58acb99\" transform=\"scale(1 -1)translate(0 -128)\" x=\"168.252941\" y=\"-22.224007\" width=\"128\" height=\"128\"/>\n   </g>\n   <g id=\"matplotlib.axis_3\"/>\n   <g id=\"matplotlib.axis_4\"/>\n   <g id=\"patch_8\">\n    <path d=\"M 168.252941 150.224007 \nL 168.252941 22.318125 \n\" style=\"fill: none; stroke: #000000; stroke-width: 0.8; stroke-linejoin: miter; stroke-linecap: square\"/>\n   </g>\n   <g id=\"patch_9\">\n    <path d=\"M 296.158824 150.224007 \nL 296.158824 22.318125 \n\" style=\"fill: none; stroke: #000000; stroke-width: 0.8; stroke-linejoin: miter; stroke-linecap: square\"/>\n   </g>\n   <g id=\"patch_10\">\n    <path d=\"M 168.252941 150.224007 \nL 296.158824 150.224007 \n\" style=\"fill: none; stroke: #000000; stroke-width: 0.8; stroke-linejoin: miter; stroke-linecap: square\"/>\n   </g>\n   <g id=\"patch_11\">\n    <path d=\"M 168.252941 22.318125 \nL 296.158824 22.318125 \n\" style=\"fill: none; stroke: #000000; stroke-width: 0.8; stroke-linejoin: miter; stroke-linecap: square\"/>\n   </g>\n   <g id=\"text_2\">\n    <!-- label = 0 -->\n    <g transform=\"translate(205.035257 16.318125)scale(0.12 -0.12)\">\n     <use xlink:href=\"#DejaVuSans-6c\"/>\n     <use xlink:href=\"#DejaVuSans-61\" x=\"27.783203\"/>\n     <use xlink:href=\"#DejaVuSans-62\" x=\"89.0625\"/>\n     <use xlink:href=\"#DejaVuSans-65\" x=\"152.539062\"/>\n     <use xlink:href=\"#DejaVuSans-6c\" x=\"214.0625\"/>\n     <use xlink:href=\"#DejaVuSans-20\" x=\"241.845703\"/>\n     <use xlink:href=\"#DejaVuSans-3d\" x=\"273.632812\"/>\n     <use xlink:href=\"#DejaVuSans-20\" x=\"357.421875\"/>\n     <use xlink:href=\"#DejaVuSans-30\" x=\"389.208984\"/>\n    </g>\n   </g>\n  </g>\n  <g id=\"axes_3\">\n   <g id=\"patch_12\">\n    <path d=\"M 325.805882 150.224007 \nL 453.711765 150.224007 \nL 453.711765 22.318125 \nL 325.805882 22.318125 \nz\n\" style=\"fill: #ffffff\"/>\n   </g>\n   <g clip-path=\"url(#pc6eb211af9)\">\n    <image xlink:href=\"data:image/png;base64,\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\" id=\"image1e4b482748\" transform=\"scale(1 -1)translate(0 -128)\" x=\"325.805882\" y=\"-22.224007\" width=\"128\" height=\"128\"/>\n   </g>\n   <g id=\"matplotlib.axis_5\"/>\n   <g id=\"matplotlib.axis_6\"/>\n   <g id=\"patch_13\">\n    <path d=\"M 325.805882 150.224007 \nL 325.805882 22.318125 \n\" style=\"fill: none; stroke: #000000; stroke-width: 0.8; stroke-linejoin: miter; stroke-linecap: square\"/>\n   </g>\n   <g id=\"patch_14\">\n    <path d=\"M 453.711765 150.224007 \nL 453.711765 22.318125 \n\" style=\"fill: none; stroke: #000000; stroke-width: 0.8; stroke-linejoin: miter; stroke-linecap: square\"/>\n   </g>\n   <g id=\"patch_15\">\n    <path d=\"M 325.805882 150.224007 \nL 453.711765 150.224007 \n\" style=\"fill: none; stroke: #000000; stroke-width: 0.8; stroke-linejoin: miter; stroke-linecap: square\"/>\n   </g>\n   <g id=\"patch_16\">\n    <path d=\"M 325.805882 22.318125 \nL 453.711765 22.318125 \n\" style=\"fill: none; stroke: #000000; stroke-width: 0.8; stroke-linejoin: miter; stroke-linecap: square\"/>\n   </g>\n   <g id=\"text_3\">\n    <!-- label = 0 -->\n    <g transform=\"translate(362.588199 16.318125)scale(0.12 -0.12)\">\n     <use xlink:href=\"#DejaVuSans-6c\"/>\n     <use xlink:href=\"#DejaVuSans-61\" x=\"27.783203\"/>\n     <use xlink:href=\"#DejaVuSans-62\" x=\"89.0625\"/>\n     <use xlink:href=\"#DejaVuSans-65\" x=\"152.539062\"/>\n     <use xlink:href=\"#DejaVuSans-6c\" x=\"214.0625\"/>\n     <use xlink:href=\"#DejaVuSans-20\" x=\"241.845703\"/>\n     <use xlink:href=\"#DejaVuSans-3d\" x=\"273.632812\"/>\n     <use xlink:href=\"#DejaVuSans-20\" x=\"357.421875\"/>\n     <use xlink:href=\"#DejaVuSans-30\" x=\"389.208984\"/>\n    </g>\n   </g>\n  </g>\n  <g id=\"axes_4\">\n   <g id=\"patch_17\">\n    <path d=\"M 10.7 303.711066 \nL 138.605882 303.711066 \nL 138.605882 175.805184 \nL 10.7 175.805184 \nz\n\" style=\"fill: #ffffff\"/>\n   </g>\n   <g clip-path=\"url(#pa16ce21d69)\">\n    <image xlink:href=\"data:image/png;base64,\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\" id=\"imageadbb823293\" transform=\"scale(1 -1)translate(0 -128)\" x=\"10.7\" y=\"-175.711066\" width=\"128\" height=\"128\"/>\n   </g>\n   <g id=\"matplotlib.axis_7\"/>\n   <g id=\"matplotlib.axis_8\"/>\n   <g id=\"patch_18\">\n    <path d=\"M 10.7 303.711066 \nL 10.7 175.805184 \n\" style=\"fill: none; stroke: #000000; stroke-width: 0.8; stroke-linejoin: miter; stroke-linecap: square\"/>\n   </g>\n   <g id=\"patch_19\">\n    <path d=\"M 138.605882 303.711066 \nL 138.605882 175.805184 \n\" style=\"fill: none; stroke: #000000; stroke-width: 0.8; stroke-linejoin: miter; stroke-linecap: square\"/>\n   </g>\n   <g id=\"patch_20\">\n    <path d=\"M 10.7 303.711066 \nL 138.605882 303.711066 \n\" style=\"fill: none; stroke: #000000; stroke-width: 0.8; stroke-linejoin: miter; stroke-linecap: square\"/>\n   </g>\n   <g id=\"patch_21\">\n    <path d=\"M 10.7 175.805184 \nL 138.605882 175.805184 \n\" style=\"fill: none; stroke: #000000; stroke-width: 0.8; stroke-linejoin: miter; stroke-linecap: square\"/>\n   </g>\n   <g id=\"text_4\">\n    <!-- label = 1 -->\n    <g transform=\"translate(47.482316 169.805184)scale(0.12 -0.12)\">\n     <defs>\n      <path id=\"DejaVuSans-31\" d=\"M 794 531 \nL 1825 531 \nL 1825 4091 \nL 703 3866 \nL 703 4441 \nL 1819 4666 \nL 2450 4666 \nL 2450 531 \nL 3481 531 \nL 3481 0 \nL 794 0 \nL 794 531 \nz\n\" transform=\"scale(0.015625)\"/>\n     </defs>\n     <use xlink:href=\"#DejaVuSans-6c\"/>\n     <use xlink:href=\"#DejaVuSans-61\" x=\"27.783203\"/>\n     <use xlink:href=\"#DejaVuSans-62\" x=\"89.0625\"/>\n     <use xlink:href=\"#DejaVuSans-65\" x=\"152.539062\"/>\n     <use xlink:href=\"#DejaVuSans-6c\" x=\"214.0625\"/>\n     <use xlink:href=\"#DejaVuSans-20\" x=\"241.845703\"/>\n     <use xlink:href=\"#DejaVuSans-3d\" x=\"273.632812\"/>\n     <use xlink:href=\"#DejaVuSans-20\" x=\"357.421875\"/>\n     <use xlink:href=\"#DejaVuSans-31\" x=\"389.208984\"/>\n    </g>\n   </g>\n  </g>\n  <g id=\"axes_5\">\n   <g id=\"patch_22\">\n    <path d=\"M 168.252941 303.711066 \nL 296.158824 303.711066 \nL 296.158824 175.805184 \nL 168.252941 175.805184 \nz\n\" style=\"fill: #ffffff\"/>\n   </g>\n   <g clip-path=\"url(#pda62fdd8fc)\">\n    <image xlink:href=\"data:image/png;base64,\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\" id=\"image643b8eee07\" transform=\"scale(1 -1)translate(0 -128)\" x=\"168.252941\" y=\"-175.711066\" width=\"128\" height=\"128\"/>\n   </g>\n   <g id=\"matplotlib.axis_9\"/>\n   <g id=\"matplotlib.axis_10\"/>\n   <g id=\"patch_23\">\n    <path d=\"M 168.252941 303.711066 \nL 168.252941 175.805184 \n\" style=\"fill: none; stroke: #000000; stroke-width: 0.8; stroke-linejoin: miter; stroke-linecap: square\"/>\n   </g>\n   <g id=\"patch_24\">\n    <path d=\"M 296.158824 303.711066 \nL 296.158824 175.805184 \n\" style=\"fill: none; stroke: #000000; stroke-width: 0.8; stroke-linejoin: miter; stroke-linecap: square\"/>\n   </g>\n   <g id=\"patch_25\">\n    <path d=\"M 168.252941 303.711066 \nL 296.158824 303.711066 \n\" style=\"fill: none; stroke: #000000; stroke-width: 0.8; stroke-linejoin: miter; stroke-linecap: square\"/>\n   </g>\n   <g id=\"patch_26\">\n    <path d=\"M 168.252941 175.805184 \nL 296.158824 175.805184 \n\" style=\"fill: none; stroke: #000000; stroke-width: 0.8; stroke-linejoin: miter; stroke-linecap: square\"/>\n   </g>\n   <g id=\"text_5\">\n    <!-- label = 0 -->\n    <g transform=\"translate(205.035257 169.805184)scale(0.12 -0.12)\">\n     <use xlink:href=\"#DejaVuSans-6c\"/>\n     <use xlink:href=\"#DejaVuSans-61\" x=\"27.783203\"/>\n     <use xlink:href=\"#DejaVuSans-62\" x=\"89.0625\"/>\n     <use xlink:href=\"#DejaVuSans-65\" x=\"152.539062\"/>\n     <use xlink:href=\"#DejaVuSans-6c\" x=\"214.0625\"/>\n     <use xlink:href=\"#DejaVuSans-20\" x=\"241.845703\"/>\n     <use xlink:href=\"#DejaVuSans-3d\" x=\"273.632812\"/>\n     <use xlink:href=\"#DejaVuSans-20\" x=\"357.421875\"/>\n     <use xlink:href=\"#DejaVuSans-30\" x=\"389.208984\"/>\n    </g>\n   </g>\n  </g>\n  <g id=\"axes_6\">\n   <g id=\"patch_27\">\n    <path d=\"M 325.805882 303.711066 \nL 453.711765 303.711066 \nL 453.711765 175.805184 \nL 325.805882 175.805184 \nz\n\" style=\"fill: #ffffff\"/>\n   </g>\n   <g clip-path=\"url(#pcf4f02306b)\">\n    <image xlink:href=\"data:image/png;base64,\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\" id=\"imageb12afd5233\" transform=\"scale(1 -1)translate(0 -128)\" x=\"325.805882\" y=\"-175.711066\" width=\"128\" height=\"128\"/>\n   </g>\n   <g id=\"matplotlib.axis_11\"/>\n   <g id=\"matplotlib.axis_12\"/>\n   <g id=\"patch_28\">\n    <path d=\"M 325.805882 303.711066 \nL 325.805882 175.805184 \n\" style=\"fill: none; stroke: #000000; stroke-width: 0.8; stroke-linejoin: miter; stroke-linecap: square\"/>\n   </g>\n   <g id=\"patch_29\">\n    <path d=\"M 453.711765 303.711066 \nL 453.711765 175.805184 \n\" style=\"fill: none; stroke: #000000; stroke-width: 0.8; stroke-linejoin: miter; stroke-linecap: square\"/>\n   </g>\n   <g id=\"patch_30\">\n    <path d=\"M 325.805882 303.711066 \nL 453.711765 303.711066 \n\" style=\"fill: none; stroke: #000000; stroke-width: 0.8; stroke-linejoin: miter; stroke-linecap: square\"/>\n   </g>\n   <g id=\"patch_31\">\n    <path d=\"M 325.805882 175.805184 \nL 453.711765 175.805184 \n\" style=\"fill: none; stroke: #000000; stroke-width: 0.8; stroke-linejoin: miter; stroke-linecap: square\"/>\n   </g>\n   <g id=\"text_6\">\n    <!-- label = 0 -->\n    <g transform=\"translate(362.588199 169.805184)scale(0.12 -0.12)\">\n     <use xlink:href=\"#DejaVuSans-6c\"/>\n     <use xlink:href=\"#DejaVuSans-61\" x=\"27.783203\"/>\n     <use xlink:href=\"#DejaVuSans-62\" x=\"89.0625\"/>\n     <use xlink:href=\"#DejaVuSans-65\" x=\"152.539062\"/>\n     <use xlink:href=\"#DejaVuSans-6c\" x=\"214.0625\"/>\n     <use xlink:href=\"#DejaVuSans-20\" x=\"241.845703\"/>\n     <use xlink:href=\"#DejaVuSans-3d\" x=\"273.632812\"/>\n     <use xlink:href=\"#DejaVuSans-20\" x=\"357.421875\"/>\n     <use xlink:href=\"#DejaVuSans-30\" x=\"389.208984\"/>\n    </g>\n   </g>\n  </g>\n  <g id=\"axes_7\">\n   <g id=\"patch_32\">\n    <path d=\"M 10.7 457.198125 \nL 138.605882 457.198125 \nL 138.605882 329.292243 \nL 10.7 329.292243 \nz\n\" style=\"fill: #ffffff\"/>\n   </g>\n   <g clip-path=\"url(#p228b8c75e9)\">\n    <image xlink:href=\"data:image/png;base64,\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\" id=\"imagef6dd9665ab\" transform=\"scale(1 -1)translate(0 -128)\" x=\"10.7\" y=\"-329.198125\" width=\"128\" height=\"128\"/>\n   </g>\n   <g id=\"matplotlib.axis_13\"/>\n   <g id=\"matplotlib.axis_14\"/>\n   <g id=\"patch_33\">\n    <path d=\"M 10.7 457.198125 \nL 10.7 329.292243 \n\" style=\"fill: none; stroke: #000000; stroke-width: 0.8; stroke-linejoin: miter; stroke-linecap: square\"/>\n   </g>\n   <g id=\"patch_34\">\n    <path d=\"M 138.605882 457.198125 \nL 138.605882 329.292243 \n\" style=\"fill: none; stroke: #000000; stroke-width: 0.8; stroke-linejoin: miter; stroke-linecap: square\"/>\n   </g>\n   <g id=\"patch_35\">\n    <path d=\"M 10.7 457.198125 \nL 138.605882 457.198125 \n\" style=\"fill: none; stroke: #000000; stroke-width: 0.8; stroke-linejoin: miter; stroke-linecap: square\"/>\n   </g>\n   <g id=\"patch_36\">\n    <path d=\"M 10.7 329.292243 \nL 138.605882 329.292243 \n\" style=\"fill: none; stroke: #000000; stroke-width: 0.8; stroke-linejoin: miter; stroke-linecap: square\"/>\n   </g>\n   <g id=\"text_7\">\n    <!-- label = 1 -->\n    <g transform=\"translate(47.482316 323.292243)scale(0.12 -0.12)\">\n     <use xlink:href=\"#DejaVuSans-6c\"/>\n     <use xlink:href=\"#DejaVuSans-61\" x=\"27.783203\"/>\n     <use xlink:href=\"#DejaVuSans-62\" x=\"89.0625\"/>\n     <use xlink:href=\"#DejaVuSans-65\" x=\"152.539062\"/>\n     <use xlink:href=\"#DejaVuSans-6c\" x=\"214.0625\"/>\n     <use xlink:href=\"#DejaVuSans-20\" x=\"241.845703\"/>\n     <use xlink:href=\"#DejaVuSans-3d\" x=\"273.632812\"/>\n     <use xlink:href=\"#DejaVuSans-20\" x=\"357.421875\"/>\n     <use xlink:href=\"#DejaVuSans-31\" x=\"389.208984\"/>\n    </g>\n   </g>\n  </g>\n  <g id=\"axes_8\">\n   <g id=\"patch_37\">\n    <path d=\"M 168.252941 457.198125 \nL 296.158824 457.198125 \nL 296.158824 329.292243 \nL 168.252941 329.292243 \nz\n\" style=\"fill: #ffffff\"/>\n   </g>\n   <g clip-path=\"url(#pabae55d312)\">\n    <image xlink:href=\"data:image/png;base64,\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\" id=\"imagee6daab3b54\" transform=\"scale(1 -1)translate(0 -128)\" x=\"168.252941\" y=\"-329.198125\" width=\"128\" height=\"128\"/>\n   </g>\n   <g id=\"matplotlib.axis_15\"/>\n   <g id=\"matplotlib.axis_16\"/>\n   <g id=\"patch_38\">\n    <path d=\"M 168.252941 457.198125 \nL 168.252941 329.292243 \n\" style=\"fill: none; stroke: #000000; stroke-width: 0.8; stroke-linejoin: miter; stroke-linecap: square\"/>\n   </g>\n   <g id=\"patch_39\">\n    <path d=\"M 296.158824 457.198125 \nL 296.158824 329.292243 \n\" style=\"fill: none; stroke: #000000; stroke-width: 0.8; stroke-linejoin: miter; stroke-linecap: square\"/>\n   </g>\n   <g id=\"patch_40\">\n    <path d=\"M 168.252941 457.198125 \nL 296.158824 457.198125 \n\" style=\"fill: none; stroke: #000000; stroke-width: 0.8; stroke-linejoin: miter; stroke-linecap: square\"/>\n   </g>\n   <g id=\"patch_41\">\n    <path d=\"M 168.252941 329.292243 \nL 296.158824 329.292243 \n\" style=\"fill: none; stroke: #000000; stroke-width: 0.8; stroke-linejoin: miter; stroke-linecap: square\"/>\n   </g>\n   <g id=\"text_8\">\n    <!-- label = 0 -->\n    <g transform=\"translate(205.035257 323.292243)scale(0.12 -0.12)\">\n     <use xlink:href=\"#DejaVuSans-6c\"/>\n     <use xlink:href=\"#DejaVuSans-61\" x=\"27.783203\"/>\n     <use xlink:href=\"#DejaVuSans-62\" x=\"89.0625\"/>\n     <use xlink:href=\"#DejaVuSans-65\" x=\"152.539062\"/>\n     <use xlink:href=\"#DejaVuSans-6c\" x=\"214.0625\"/>\n     <use xlink:href=\"#DejaVuSans-20\" x=\"241.845703\"/>\n     <use xlink:href=\"#DejaVuSans-3d\" x=\"273.632812\"/>\n     <use xlink:href=\"#DejaVuSans-20\" x=\"357.421875\"/>\n     <use xlink:href=\"#DejaVuSans-30\" x=\"389.208984\"/>\n    </g>\n   </g>\n  </g>\n  <g id=\"axes_9\">\n   <g id=\"patch_42\">\n    <path d=\"M 325.805882 457.198125 \nL 453.711765 457.198125 \nL 453.711765 329.292243 \nL 325.805882 329.292243 \nz\n\" style=\"fill: #ffffff\"/>\n   </g>\n   <g clip-path=\"url(#pb61c0089be)\">\n    <image xlink:href=\"data:image/png;base64,\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\" id=\"image5b8c33411f\" transform=\"scale(1 -1)translate(0 -128)\" x=\"325.805882\" y=\"-329.198125\" width=\"128\" height=\"128\"/>\n   </g>\n   <g id=\"matplotlib.axis_17\"/>\n   <g id=\"matplotlib.axis_18\"/>\n   <g id=\"patch_43\">\n    <path d=\"M 325.805882 457.198125 \nL 325.805882 329.292243 \n\" style=\"fill: none; stroke: #000000; stroke-width: 0.8; stroke-linejoin: miter; stroke-linecap: square\"/>\n   </g>\n   <g id=\"patch_44\">\n    <path d=\"M 453.711765 457.198125 \nL 453.711765 329.292243 \n\" style=\"fill: none; stroke: #000000; stroke-width: 0.8; stroke-linejoin: miter; stroke-linecap: square\"/>\n   </g>\n   <g id=\"patch_45\">\n    <path d=\"M 325.805882 457.198125 \nL 453.711765 457.198125 \n\" style=\"fill: none; stroke: #000000; stroke-width: 0.8; stroke-linejoin: miter; stroke-linecap: square\"/>\n   </g>\n   <g id=\"patch_46\">\n    <path d=\"M 325.805882 329.292243 \nL 453.711765 329.292243 \n\" style=\"fill: none; stroke: #000000; stroke-width: 0.8; stroke-linejoin: miter; stroke-linecap: square\"/>\n   </g>\n   <g id=\"text_9\">\n    <!-- label = 1 -->\n    <g transform=\"translate(362.588199 323.292243)scale(0.12 -0.12)\">\n     <use xlink:href=\"#DejaVuSans-6c\"/>\n     <use xlink:href=\"#DejaVuSans-61\" x=\"27.783203\"/>\n     <use xlink:href=\"#DejaVuSans-62\" x=\"89.0625\"/>\n     <use xlink:href=\"#DejaVuSans-65\" x=\"152.539062\"/>\n     <use xlink:href=\"#DejaVuSans-6c\" x=\"214.0625\"/>\n     <use xlink:href=\"#DejaVuSans-20\" x=\"241.845703\"/>\n     <use xlink:href=\"#DejaVuSans-3d\" x=\"273.632812\"/>\n     <use xlink:href=\"#DejaVuSans-20\" x=\"357.421875\"/>\n     <use xlink:href=\"#DejaVuSans-31\" x=\"389.208984\"/>\n    </g>\n   </g>\n  </g>\n </g>\n <defs>\n  <clipPath id=\"p45596ed88b\">\n   <rect x=\"10.7\" y=\"22.318125\" width=\"127.905882\" height=\"127.905882\"/>\n  </clipPath>\n  <clipPath id=\"pc143d37796\">\n   <rect x=\"168.252941\" y=\"22.318125\" width=\"127.905882\" height=\"127.905882\"/>\n  </clipPath>\n  <clipPath id=\"pc6eb211af9\">\n   <rect x=\"325.805882\" y=\"22.318125\" width=\"127.905882\" height=\"127.905882\"/>\n  </clipPath>\n  <clipPath id=\"pa16ce21d69\">\n   <rect x=\"10.7\" y=\"175.805184\" width=\"127.905882\" height=\"127.905882\"/>\n  </clipPath>\n  <clipPath id=\"pda62fdd8fc\">\n   <rect x=\"168.252941\" y=\"175.805184\" width=\"127.905882\" height=\"127.905882\"/>\n  </clipPath>\n  <clipPath id=\"pcf4f02306b\">\n   <rect x=\"325.805882\" y=\"175.805184\" width=\"127.905882\" height=\"127.905882\"/>\n  </clipPath>\n  <clipPath id=\"p228b8c75e9\">\n   <rect x=\"10.7\" y=\"329.292243\" width=\"127.905882\" height=\"127.905882\"/>\n  </clipPath>\n  <clipPath id=\"pabae55d312\">\n   <rect x=\"168.252941\" y=\"329.292243\" width=\"127.905882\" height=\"127.905882\"/>\n  </clipPath>\n  <clipPath id=\"pb61c0089be\">\n   <rect x=\"325.805882\" y=\"329.292243\" width=\"127.905882\" height=\"127.905882\"/>\n  </clipPath>\n </defs>\n</svg>\n",
      "text/plain": [
       "<Figure size 576x576 with 9 Axes>"
      ]
     },
     "metadata": {},
     "output_type": "display_data"
    }
   ],
   "source": [
    "%matplotlib inline\n",
    "%config InlineBackend.figure_format = 'svg'\n",
    "\n",
    "import matplotlib.pyplot as plt\n",
    "\n",
    "# 查看部分样本\n",
    "plt.figure(figsize=(8, 8))\n",
    "for i, (img, label) in enumerate(ds_train.unbatch().take(9)):\n",
    "    ax = plt.subplot(3, 3, i + 1)\n",
    "    ax.imshow(img.numpy())\n",
    "    ax.set_title(\"label = %d\" % label)\n",
    "    ax.set_xticks([])\n",
    "    ax.set_yticks([])\n",
    "plt.show()"
   ]
  },
  {
   "cell_type": "code",
   "execution_count": 4,
   "metadata": {},
   "outputs": [
    {
     "name": "stdout",
     "output_type": "stream",
     "text": [
      "x.shape: (100, 32, 32, 3) \n",
      "y.shape: (100,)\n"
     ]
    }
   ],
   "source": [
    "for x, y in ds_train.take(1):\n",
    "    print(\"x.shape:\", x.shape, \"\\ny.shape:\", y.shape)"
   ]
  },
  {
   "cell_type": "markdown",
   "metadata": {},
   "source": [
    "### 二、定义模型\n",
    "\n",
    "使用 `Keras` 接口有以下 3 种方式构建模型：\n",
    "- 使用 `Sequential` 按层顺序构建模型\n",
    "- 使用函数式 `API` 构建任意结构模型\n",
    "- 继承 `Model` 基类构建自定义模型。\n",
    "\n",
    "此处选择使用函数式 `API` 构建模型。"
   ]
  },
  {
   "cell_type": "code",
   "execution_count": 5,
   "metadata": {},
   "outputs": [
    {
     "name": "stdout",
     "output_type": "stream",
     "text": [
      "Model: \"model\"\n",
      "_________________________________________________________________\n",
      " Layer (type)                Output Shape              Param #   \n",
      "=================================================================\n",
      " input_1 (InputLayer)        [(None, 32, 32, 3)]       0         \n",
      "                                                                 \n",
      " conv2d (Conv2D)             (None, 30, 30, 32)        896       \n",
      "                                                                 \n",
      " max_pooling2d (MaxPooling2D  (None, 15, 15, 32)       0         \n",
      " )                                                               \n",
      "                                                                 \n",
      " conv2d_1 (Conv2D)           (None, 11, 11, 64)        51264     \n",
      "                                                                 \n",
      " max_pooling2d_1 (MaxPooling  (None, 5, 5, 64)         0         \n",
      " 2D)                                                             \n",
      "                                                                 \n",
      " dropout (Dropout)           (None, 5, 5, 64)          0         \n",
      "                                                                 \n",
      " flatten (Flatten)           (None, 1600)              0         \n",
      "                                                                 \n",
      " dense (Dense)               (None, 32)                51232     \n",
      "                                                                 \n",
      " dense_1 (Dense)             (None, 1)                 33        \n",
      "                                                                 \n",
      "=================================================================\n",
      "Total params: 103,425\n",
      "Trainable params: 103,425\n",
      "Non-trainable params: 0\n",
      "_________________________________________________________________\n"
     ]
    }
   ],
   "source": [
    "tf.keras.backend.clear_session()  # 清除会话\n",
    "\n",
    "# 构建模型\n",
    "inputs = layers.Input(shape=(32, 32, 3))\n",
    "x = layers.Conv2D(32, kernel_size=(3, 3))(inputs)\n",
    "x = layers.MaxPool2D()(x)\n",
    "x = layers.Conv2D(64, kernel_size=(5, 5))(x)\n",
    "x = layers.MaxPool2D()(x)\n",
    "x = layers.Dropout(rate=0.1)(x)\n",
    "x = layers.Flatten()(x)\n",
    "x = layers.Dense(32, activation=\"relu\")(x)\n",
    "outputs = layers.Dense(1, activation=\"sigmoid\")(x)\n",
    "\n",
    "model = models.Model(inputs=inputs, outputs=outputs)\n",
    "\n",
    "# 输出模型概要信息\n",
    "model.summary()"
   ]
  },
  {
   "cell_type": "markdown",
   "metadata": {},
   "source": [
    "### 三，训练模型\n",
    "\n",
    "训练模型通常有 3 种方法，内置 `fit` 方法，内置 `train_on_batch` 方法，以及自定义训练循环。此处我们选择最常用也最简单的内置 `fit` 方法。"
   ]
  },
  {
   "cell_type": "code",
   "execution_count": 6,
   "metadata": {},
   "outputs": [
    {
     "name": "stdout",
     "output_type": "stream",
     "text": [
      "Epoch 1/15\n"
     ]
    },
    {
     "name": "stderr",
     "output_type": "stream",
     "text": [
      "2022-04-23 19:29:08.682499: I tensorflow/stream_executor/cuda/cuda_dnn.cc:366] Loaded cuDNN version 8303\n"
     ]
    },
    {
     "name": "stdout",
     "output_type": "stream",
     "text": [
      "100/100 [==============================] - 3s 8ms/step - loss: 0.4385 - accuracy: 0.7923 - val_loss: 0.3142 - val_accuracy: 0.8665\n",
      "Epoch 2/15\n",
      "100/100 [==============================] - 1s 8ms/step - loss: 0.3151 - accuracy: 0.8633 - val_loss: 0.2873 - val_accuracy: 0.8755\n",
      "Epoch 3/15\n",
      "100/100 [==============================] - 1s 7ms/step - loss: 0.2520 - accuracy: 0.8945 - val_loss: 0.2077 - val_accuracy: 0.9175\n",
      "Epoch 4/15\n",
      "100/100 [==============================] - 1s 7ms/step - loss: 0.2048 - accuracy: 0.9177 - val_loss: 0.1832 - val_accuracy: 0.9205\n",
      "Epoch 5/15\n",
      "100/100 [==============================] - 1s 7ms/step - loss: 0.1723 - accuracy: 0.9312 - val_loss: 0.1742 - val_accuracy: 0.9250\n",
      "Epoch 6/15\n",
      "100/100 [==============================] - 1s 7ms/step - loss: 0.1494 - accuracy: 0.9431 - val_loss: 0.1699 - val_accuracy: 0.9265\n",
      "Epoch 7/15\n",
      "100/100 [==============================] - 1s 7ms/step - loss: 0.1341 - accuracy: 0.9460 - val_loss: 0.1568 - val_accuracy: 0.9355\n",
      "Epoch 8/15\n",
      "100/100 [==============================] - 1s 7ms/step - loss: 0.1115 - accuracy: 0.9582 - val_loss: 0.1769 - val_accuracy: 0.9265\n",
      "Epoch 9/15\n",
      "100/100 [==============================] - 1s 7ms/step - loss: 0.1012 - accuracy: 0.9633 - val_loss: 0.1574 - val_accuracy: 0.9380\n",
      "Epoch 10/15\n",
      "100/100 [==============================] - 1s 7ms/step - loss: 0.0867 - accuracy: 0.9681 - val_loss: 0.1674 - val_accuracy: 0.9360\n",
      "Epoch 11/15\n",
      "100/100 [==============================] - 1s 7ms/step - loss: 0.0768 - accuracy: 0.9730 - val_loss: 0.1840 - val_accuracy: 0.9295\n",
      "Epoch 12/15\n",
      "100/100 [==============================] - 1s 7ms/step - loss: 0.0669 - accuracy: 0.9767 - val_loss: 0.1677 - val_accuracy: 0.9375\n",
      "Epoch 13/15\n",
      "100/100 [==============================] - 1s 7ms/step - loss: 0.0569 - accuracy: 0.9801 - val_loss: 0.1847 - val_accuracy: 0.9350\n",
      "Epoch 14/15\n",
      "100/100 [==============================] - 1s 7ms/step - loss: 0.0468 - accuracy: 0.9849 - val_loss: 0.1751 - val_accuracy: 0.9380\n",
      "Epoch 15/15\n",
      "100/100 [==============================] - 1s 7ms/step - loss: 0.0370 - accuracy: 0.9892 - val_loss: 0.1787 - val_accuracy: 0.9345\n"
     ]
    }
   ],
   "source": [
    "import datetime\n",
    "import os\n",
    "\n",
    "stamp = datetime.datetime.now().strftime(\"%Y%m%d-%H%M%S\")\n",
    "logdir = os.path.join(\"./data/autograph\", stamp)\n",
    "\n",
    "if not os.path.isdir(logdir):\n",
    "    os.makedirs(logdir)\n",
    "\n",
    "tensorboard_callback = tf.keras.callbacks.TensorBoard(logdir, histogram_freq=1)\n",
    "\n",
    "model.compile(\n",
    "    optimizer=tf.keras.optimizers.Adam(learning_rate=0.001),\n",
    "    loss=tf.keras.losses.binary_crossentropy,\n",
    "    metrics=[\"accuracy\"],\n",
    ")\n",
    "\n",
    "history = model.fit(\n",
    "    ds_train,\n",
    "    epochs=EPOCHS,\n",
    "    validation_data=ds_test,\n",
    "    callbacks=[tensorboard_callback],\n",
    "    workers=4,\n",
    ")"
   ]
  },
  {
   "cell_type": "markdown",
   "metadata": {},
   "source": [
    "### 四、评估模型"
   ]
  },
  {
   "cell_type": "code",
   "execution_count": 7,
   "metadata": {},
   "outputs": [
    {
     "name": "stdout",
     "output_type": "stream",
     "text": [
      "No known TensorBoard instances running.\n"
     ]
    },
    {
     "data": {
      "text/html": [
       "\n",
       "      <iframe id=\"tensorboard-frame-b7f99a5bf796f3f5\" width=\"100%\" height=\"800\" frameborder=\"0\">\n",
       "      </iframe>\n",
       "      <script>\n",
       "        (function() {\n",
       "          const frame = document.getElementById(\"tensorboard-frame-b7f99a5bf796f3f5\");\n",
       "          const url = new URL(\"/\", window.location);\n",
       "          const port = 6006;\n",
       "          if (port) {\n",
       "            url.port = port;\n",
       "          }\n",
       "          frame.src = url;\n",
       "        })();\n",
       "      </script>\n",
       "    "
      ],
      "text/plain": [
       "<IPython.core.display.HTML object>"
      ]
     },
     "metadata": {},
     "output_type": "display_data"
    }
   ],
   "source": [
    "# %load_ext tensorboard\n",
    "%reload_ext tensorboard\n",
    "# %tensorboard --logdir ./data/autograph\n",
    "\n",
    "from tensorboard import notebook\n",
    "notebook.list()\n",
    "\n",
    "# 在 tensorboard 中查看模型\n",
    "notebook.start(\"--logdir ./data/autograph\")"
   ]
  },
  {
   "cell_type": "code",
   "execution_count": 8,
   "metadata": {
    "vscode": {
     "languageId": "powershell"
    }
   },
   "outputs": [],
   "source": [
    "# !kill $(lsof -t -i:6006) # 终止 tensorboard 进程"
   ]
  },
  {
   "cell_type": "code",
   "execution_count": 9,
   "metadata": {},
   "outputs": [
    {
     "data": {
      "text/html": [
       "<div>\n",
       "<style scoped>\n",
       "    .dataframe tbody tr th:only-of-type {\n",
       "        vertical-align: middle;\n",
       "    }\n",
       "\n",
       "    .dataframe tbody tr th {\n",
       "        vertical-align: top;\n",
       "    }\n",
       "\n",
       "    .dataframe thead th {\n",
       "        text-align: right;\n",
       "    }\n",
       "</style>\n",
       "<table border=\"1\" class=\"dataframe\">\n",
       "  <thead>\n",
       "    <tr style=\"text-align: right;\">\n",
       "      <th></th>\n",
       "      <th>loss</th>\n",
       "      <th>accuracy</th>\n",
       "      <th>val_loss</th>\n",
       "      <th>val_accuracy</th>\n",
       "    </tr>\n",
       "    <tr>\n",
       "      <th>epoch</th>\n",
       "      <th></th>\n",
       "      <th></th>\n",
       "      <th></th>\n",
       "      <th></th>\n",
       "    </tr>\n",
       "  </thead>\n",
       "  <tbody>\n",
       "    <tr>\n",
       "      <th>1</th>\n",
       "      <td>0.438497</td>\n",
       "      <td>0.7923</td>\n",
       "      <td>0.314177</td>\n",
       "      <td>0.8665</td>\n",
       "    </tr>\n",
       "    <tr>\n",
       "      <th>2</th>\n",
       "      <td>0.315068</td>\n",
       "      <td>0.8633</td>\n",
       "      <td>0.287315</td>\n",
       "      <td>0.8755</td>\n",
       "    </tr>\n",
       "    <tr>\n",
       "      <th>3</th>\n",
       "      <td>0.252006</td>\n",
       "      <td>0.8945</td>\n",
       "      <td>0.207724</td>\n",
       "      <td>0.9175</td>\n",
       "    </tr>\n",
       "    <tr>\n",
       "      <th>4</th>\n",
       "      <td>0.204771</td>\n",
       "      <td>0.9177</td>\n",
       "      <td>0.183154</td>\n",
       "      <td>0.9205</td>\n",
       "    </tr>\n",
       "    <tr>\n",
       "      <th>5</th>\n",
       "      <td>0.172332</td>\n",
       "      <td>0.9312</td>\n",
       "      <td>0.174246</td>\n",
       "      <td>0.9250</td>\n",
       "    </tr>\n",
       "    <tr>\n",
       "      <th>6</th>\n",
       "      <td>0.149413</td>\n",
       "      <td>0.9431</td>\n",
       "      <td>0.169901</td>\n",
       "      <td>0.9265</td>\n",
       "    </tr>\n",
       "    <tr>\n",
       "      <th>7</th>\n",
       "      <td>0.134060</td>\n",
       "      <td>0.9460</td>\n",
       "      <td>0.156774</td>\n",
       "      <td>0.9355</td>\n",
       "    </tr>\n",
       "    <tr>\n",
       "      <th>8</th>\n",
       "      <td>0.111524</td>\n",
       "      <td>0.9582</td>\n",
       "      <td>0.176931</td>\n",
       "      <td>0.9265</td>\n",
       "    </tr>\n",
       "    <tr>\n",
       "      <th>9</th>\n",
       "      <td>0.101229</td>\n",
       "      <td>0.9633</td>\n",
       "      <td>0.157380</td>\n",
       "      <td>0.9380</td>\n",
       "    </tr>\n",
       "    <tr>\n",
       "      <th>10</th>\n",
       "      <td>0.086710</td>\n",
       "      <td>0.9681</td>\n",
       "      <td>0.167382</td>\n",
       "      <td>0.9360</td>\n",
       "    </tr>\n",
       "    <tr>\n",
       "      <th>11</th>\n",
       "      <td>0.076778</td>\n",
       "      <td>0.9730</td>\n",
       "      <td>0.183986</td>\n",
       "      <td>0.9295</td>\n",
       "    </tr>\n",
       "    <tr>\n",
       "      <th>12</th>\n",
       "      <td>0.066893</td>\n",
       "      <td>0.9767</td>\n",
       "      <td>0.167732</td>\n",
       "      <td>0.9375</td>\n",
       "    </tr>\n",
       "    <tr>\n",
       "      <th>13</th>\n",
       "      <td>0.056932</td>\n",
       "      <td>0.9801</td>\n",
       "      <td>0.184658</td>\n",
       "      <td>0.9350</td>\n",
       "    </tr>\n",
       "    <tr>\n",
       "      <th>14</th>\n",
       "      <td>0.046804</td>\n",
       "      <td>0.9849</td>\n",
       "      <td>0.175110</td>\n",
       "      <td>0.9380</td>\n",
       "    </tr>\n",
       "    <tr>\n",
       "      <th>15</th>\n",
       "      <td>0.037031</td>\n",
       "      <td>0.9892</td>\n",
       "      <td>0.178666</td>\n",
       "      <td>0.9345</td>\n",
       "    </tr>\n",
       "  </tbody>\n",
       "</table>\n",
       "</div>"
      ],
      "text/plain": [
       "           loss  accuracy  val_loss  val_accuracy\n",
       "epoch                                            \n",
       "1      0.438497    0.7923  0.314177        0.8665\n",
       "2      0.315068    0.8633  0.287315        0.8755\n",
       "3      0.252006    0.8945  0.207724        0.9175\n",
       "4      0.204771    0.9177  0.183154        0.9205\n",
       "5      0.172332    0.9312  0.174246        0.9250\n",
       "6      0.149413    0.9431  0.169901        0.9265\n",
       "7      0.134060    0.9460  0.156774        0.9355\n",
       "8      0.111524    0.9582  0.176931        0.9265\n",
       "9      0.101229    0.9633  0.157380        0.9380\n",
       "10     0.086710    0.9681  0.167382        0.9360\n",
       "11     0.076778    0.9730  0.183986        0.9295\n",
       "12     0.066893    0.9767  0.167732        0.9375\n",
       "13     0.056932    0.9801  0.184658        0.9350\n",
       "14     0.046804    0.9849  0.175110        0.9380\n",
       "15     0.037031    0.9892  0.178666        0.9345"
      ]
     },
     "execution_count": 9,
     "metadata": {},
     "output_type": "execute_result"
    }
   ],
   "source": [
    "import pandas as pd\n",
    "\n",
    "df_history = pd.DataFrame(history.history)\n",
    "df_history.index = range(1, len(df_history) + 1)\n",
    "df_history.index.name = \"epoch\"\n",
    "\n",
    "df_history"
   ]
  },
  {
   "cell_type": "code",
   "execution_count": 10,
   "metadata": {},
   "outputs": [],
   "source": [
    "import matplotlib.pyplot as plt\n",
    "\n",
    "\n",
    "def plot_metric(history, metric):\n",
    "    train_metrics = history.history[metric]\n",
    "    val_metrics = history.history[\"val_\" + metric]\n",
    "    epochs = range(1, len(train_metrics) + 1)\n",
    "    plt.plot(epochs, train_metrics, \"bo--\")\n",
    "    plt.plot(epochs, val_metrics, \"ro-\")\n",
    "    plt.title(\"Training and validation \" + metric)\n",
    "    plt.xlabel(\"Epochs\")\n",
    "    plt.ylabel(metric)\n",
    "    plt.legend([\"train_\" + metric, \"val_\" + metric])\n",
    "    plt.show()"
   ]
  },
  {
   "cell_type": "code",
   "execution_count": 11,
   "metadata": {},
   "outputs": [
    {
     "data": {
      "image/svg+xml": "<?xml version=\"1.0\" encoding=\"utf-8\" standalone=\"no\"?>\n<!DOCTYPE svg PUBLIC \"-//W3C//DTD SVG 1.1//EN\"\n  \"http://www.w3.org/Graphics/SVG/1.1/DTD/svg11.dtd\">\n<svg xmlns:xlink=\"http://www.w3.org/1999/xlink\" width=\"392.14375pt\" height=\"277.314375pt\" viewBox=\"0 0 392.14375 277.314375\" xmlns=\"http://www.w3.org/2000/svg\" version=\"1.1\">\n <metadata>\n  <rdf:RDF xmlns:dc=\"http://purl.org/dc/elements/1.1/\" xmlns:cc=\"http://creativecommons.org/ns#\" xmlns:rdf=\"http://www.w3.org/1999/02/22-rdf-syntax-ns#\">\n   <cc:Work>\n    <dc:type rdf:resource=\"http://purl.org/dc/dcmitype/StillImage\"/>\n    <dc:date>2022-04-23T19:29:25.079472</dc:date>\n    <dc:format>image/svg+xml</dc:format>\n    <dc:creator>\n     <cc:Agent>\n      <dc:title>Matplotlib v3.5.1, https://matplotlib.org/</dc:title>\n     </cc:Agent>\n    </dc:creator>\n   </cc:Work>\n  </rdf:RDF>\n </metadata>\n <defs>\n  <style type=\"text/css\">*{stroke-linejoin: round; stroke-linecap: butt}</style>\n </defs>\n <g id=\"figure_1\">\n  <g id=\"patch_1\">\n   <path d=\"M 0 277.314375 \nL 392.14375 277.314375 \nL 392.14375 0 \nL 0 0 \nL 0 277.314375 \nz\n\" style=\"fill: none\"/>\n  </g>\n  <g id=\"axes_1\">\n   <g id=\"patch_2\">\n    <path d=\"M 50.14375 239.758125 \nL 384.94375 239.758125 \nL 384.94375 22.318125 \nL 50.14375 22.318125 \nz\n\" style=\"fill: #ffffff\"/>\n   </g>\n   <g id=\"matplotlib.axis_1\">\n    <g id=\"xtick_1\">\n     <g id=\"line2d_1\">\n      <defs>\n       <path id=\"mb8b0637989\" d=\"M 0 0 \nL 0 3.5 \n\" style=\"stroke: #000000; stroke-width: 0.8\"/>\n      </defs>\n      <g>\n       <use xlink:href=\"#mb8b0637989\" x=\"87.102192\" y=\"239.758125\" style=\"stroke: #000000; stroke-width: 0.8\"/>\n      </g>\n     </g>\n     <g id=\"text_1\">\n      <!-- 2 -->\n      <g transform=\"translate(83.920942 254.356562)scale(0.1 -0.1)\">\n       <defs>\n        <path id=\"DejaVuSans-32\" d=\"M 1228 531 \nL 3431 531 \nL 3431 0 \nL 469 0 \nL 469 531 \nQ 828 903 1448 1529 \nQ 2069 2156 2228 2338 \nQ 2531 2678 2651 2914 \nQ 2772 3150 2772 3378 \nQ 2772 3750 2511 3984 \nQ 2250 4219 1831 4219 \nQ 1534 4219 1204 4116 \nQ 875 4013 500 3803 \nL 500 4441 \nQ 881 4594 1212 4672 \nQ 1544 4750 1819 4750 \nQ 2544 4750 2975 4387 \nQ 3406 4025 3406 3419 \nQ 3406 3131 3298 2873 \nQ 3191 2616 2906 2266 \nQ 2828 2175 2409 1742 \nQ 1991 1309 1228 531 \nz\n\" transform=\"scale(0.015625)\"/>\n       </defs>\n       <use xlink:href=\"#DejaVuSans-32\"/>\n      </g>\n     </g>\n    </g>\n    <g id=\"xtick_2\">\n     <g id=\"line2d_2\">\n      <g>\n       <use xlink:href=\"#mb8b0637989\" x=\"130.582711\" y=\"239.758125\" style=\"stroke: #000000; stroke-width: 0.8\"/>\n      </g>\n     </g>\n     <g id=\"text_2\">\n      <!-- 4 -->\n      <g transform=\"translate(127.401461 254.356562)scale(0.1 -0.1)\">\n       <defs>\n        <path id=\"DejaVuSans-34\" d=\"M 2419 4116 \nL 825 1625 \nL 2419 1625 \nL 2419 4116 \nz\nM 2253 4666 \nL 3047 4666 \nL 3047 1625 \nL 3713 1625 \nL 3713 1100 \nL 3047 1100 \nL 3047 0 \nL 2419 0 \nL 2419 1100 \nL 313 1100 \nL 313 1709 \nL 2253 4666 \nz\n\" transform=\"scale(0.015625)\"/>\n       </defs>\n       <use xlink:href=\"#DejaVuSans-34\"/>\n      </g>\n     </g>\n    </g>\n    <g id=\"xtick_3\">\n     <g id=\"line2d_3\">\n      <g>\n       <use xlink:href=\"#mb8b0637989\" x=\"174.063231\" y=\"239.758125\" style=\"stroke: #000000; stroke-width: 0.8\"/>\n      </g>\n     </g>\n     <g id=\"text_3\">\n      <!-- 6 -->\n      <g transform=\"translate(170.881981 254.356562)scale(0.1 -0.1)\">\n       <defs>\n        <path id=\"DejaVuSans-36\" d=\"M 2113 2584 \nQ 1688 2584 1439 2293 \nQ 1191 2003 1191 1497 \nQ 1191 994 1439 701 \nQ 1688 409 2113 409 \nQ 2538 409 2786 701 \nQ 3034 994 3034 1497 \nQ 3034 2003 2786 2293 \nQ 2538 2584 2113 2584 \nz\nM 3366 4563 \nL 3366 3988 \nQ 3128 4100 2886 4159 \nQ 2644 4219 2406 4219 \nQ 1781 4219 1451 3797 \nQ 1122 3375 1075 2522 \nQ 1259 2794 1537 2939 \nQ 1816 3084 2150 3084 \nQ 2853 3084 3261 2657 \nQ 3669 2231 3669 1497 \nQ 3669 778 3244 343 \nQ 2819 -91 2113 -91 \nQ 1303 -91 875 529 \nQ 447 1150 447 2328 \nQ 447 3434 972 4092 \nQ 1497 4750 2381 4750 \nQ 2619 4750 2861 4703 \nQ 3103 4656 3366 4563 \nz\n\" transform=\"scale(0.015625)\"/>\n       </defs>\n       <use xlink:href=\"#DejaVuSans-36\"/>\n      </g>\n     </g>\n    </g>\n    <g id=\"xtick_4\">\n     <g id=\"line2d_4\">\n      <g>\n       <use xlink:href=\"#mb8b0637989\" x=\"217.54375\" y=\"239.758125\" style=\"stroke: #000000; stroke-width: 0.8\"/>\n      </g>\n     </g>\n     <g id=\"text_4\">\n      <!-- 8 -->\n      <g transform=\"translate(214.3625 254.356562)scale(0.1 -0.1)\">\n       <defs>\n        <path id=\"DejaVuSans-38\" d=\"M 2034 2216 \nQ 1584 2216 1326 1975 \nQ 1069 1734 1069 1313 \nQ 1069 891 1326 650 \nQ 1584 409 2034 409 \nQ 2484 409 2743 651 \nQ 3003 894 3003 1313 \nQ 3003 1734 2745 1975 \nQ 2488 2216 2034 2216 \nz\nM 1403 2484 \nQ 997 2584 770 2862 \nQ 544 3141 544 3541 \nQ 544 4100 942 4425 \nQ 1341 4750 2034 4750 \nQ 2731 4750 3128 4425 \nQ 3525 4100 3525 3541 \nQ 3525 3141 3298 2862 \nQ 3072 2584 2669 2484 \nQ 3125 2378 3379 2068 \nQ 3634 1759 3634 1313 \nQ 3634 634 3220 271 \nQ 2806 -91 2034 -91 \nQ 1263 -91 848 271 \nQ 434 634 434 1313 \nQ 434 1759 690 2068 \nQ 947 2378 1403 2484 \nz\nM 1172 3481 \nQ 1172 3119 1398 2916 \nQ 1625 2713 2034 2713 \nQ 2441 2713 2670 2916 \nQ 2900 3119 2900 3481 \nQ 2900 3844 2670 4047 \nQ 2441 4250 2034 4250 \nQ 1625 4250 1398 4047 \nQ 1172 3844 1172 3481 \nz\n\" transform=\"scale(0.015625)\"/>\n       </defs>\n       <use xlink:href=\"#DejaVuSans-38\"/>\n      </g>\n     </g>\n    </g>\n    <g id=\"xtick_5\">\n     <g id=\"line2d_5\">\n      <g>\n       <use xlink:href=\"#mb8b0637989\" x=\"261.024269\" y=\"239.758125\" style=\"stroke: #000000; stroke-width: 0.8\"/>\n      </g>\n     </g>\n     <g id=\"text_5\">\n      <!-- 10 -->\n      <g transform=\"translate(254.661769 254.356562)scale(0.1 -0.1)\">\n       <defs>\n        <path id=\"DejaVuSans-31\" d=\"M 794 531 \nL 1825 531 \nL 1825 4091 \nL 703 3866 \nL 703 4441 \nL 1819 4666 \nL 2450 4666 \nL 2450 531 \nL 3481 531 \nL 3481 0 \nL 794 0 \nL 794 531 \nz\n\" transform=\"scale(0.015625)\"/>\n        <path id=\"DejaVuSans-30\" d=\"M 2034 4250 \nQ 1547 4250 1301 3770 \nQ 1056 3291 1056 2328 \nQ 1056 1369 1301 889 \nQ 1547 409 2034 409 \nQ 2525 409 2770 889 \nQ 3016 1369 3016 2328 \nQ 3016 3291 2770 3770 \nQ 2525 4250 2034 4250 \nz\nM 2034 4750 \nQ 2819 4750 3233 4129 \nQ 3647 3509 3647 2328 \nQ 3647 1150 3233 529 \nQ 2819 -91 2034 -91 \nQ 1250 -91 836 529 \nQ 422 1150 422 2328 \nQ 422 3509 836 4129 \nQ 1250 4750 2034 4750 \nz\n\" transform=\"scale(0.015625)\"/>\n       </defs>\n       <use xlink:href=\"#DejaVuSans-31\"/>\n       <use xlink:href=\"#DejaVuSans-30\" x=\"63.623047\"/>\n      </g>\n     </g>\n    </g>\n    <g id=\"xtick_6\">\n     <g id=\"line2d_6\">\n      <g>\n       <use xlink:href=\"#mb8b0637989\" x=\"304.504789\" y=\"239.758125\" style=\"stroke: #000000; stroke-width: 0.8\"/>\n      </g>\n     </g>\n     <g id=\"text_6\">\n      <!-- 12 -->\n      <g transform=\"translate(298.142289 254.356562)scale(0.1 -0.1)\">\n       <use xlink:href=\"#DejaVuSans-31\"/>\n       <use xlink:href=\"#DejaVuSans-32\" x=\"63.623047\"/>\n      </g>\n     </g>\n    </g>\n    <g id=\"xtick_7\">\n     <g id=\"line2d_7\">\n      <g>\n       <use xlink:href=\"#mb8b0637989\" x=\"347.985308\" y=\"239.758125\" style=\"stroke: #000000; stroke-width: 0.8\"/>\n      </g>\n     </g>\n     <g id=\"text_7\">\n      <!-- 14 -->\n      <g transform=\"translate(341.622808 254.356562)scale(0.1 -0.1)\">\n       <use xlink:href=\"#DejaVuSans-31\"/>\n       <use xlink:href=\"#DejaVuSans-34\" x=\"63.623047\"/>\n      </g>\n     </g>\n    </g>\n    <g id=\"text_8\">\n     <!-- Epochs -->\n     <g transform=\"translate(199.628125 268.034687)scale(0.1 -0.1)\">\n      <defs>\n       <path id=\"DejaVuSans-45\" d=\"M 628 4666 \nL 3578 4666 \nL 3578 4134 \nL 1259 4134 \nL 1259 2753 \nL 3481 2753 \nL 3481 2222 \nL 1259 2222 \nL 1259 531 \nL 3634 531 \nL 3634 0 \nL 628 0 \nL 628 4666 \nz\n\" transform=\"scale(0.015625)\"/>\n       <path id=\"DejaVuSans-70\" d=\"M 1159 525 \nL 1159 -1331 \nL 581 -1331 \nL 581 3500 \nL 1159 3500 \nL 1159 2969 \nQ 1341 3281 1617 3432 \nQ 1894 3584 2278 3584 \nQ 2916 3584 3314 3078 \nQ 3713 2572 3713 1747 \nQ 3713 922 3314 415 \nQ 2916 -91 2278 -91 \nQ 1894 -91 1617 61 \nQ 1341 213 1159 525 \nz\nM 3116 1747 \nQ 3116 2381 2855 2742 \nQ 2594 3103 2138 3103 \nQ 1681 3103 1420 2742 \nQ 1159 2381 1159 1747 \nQ 1159 1113 1420 752 \nQ 1681 391 2138 391 \nQ 2594 391 2855 752 \nQ 3116 1113 3116 1747 \nz\n\" transform=\"scale(0.015625)\"/>\n       <path id=\"DejaVuSans-6f\" d=\"M 1959 3097 \nQ 1497 3097 1228 2736 \nQ 959 2375 959 1747 \nQ 959 1119 1226 758 \nQ 1494 397 1959 397 \nQ 2419 397 2687 759 \nQ 2956 1122 2956 1747 \nQ 2956 2369 2687 2733 \nQ 2419 3097 1959 3097 \nz\nM 1959 3584 \nQ 2709 3584 3137 3096 \nQ 3566 2609 3566 1747 \nQ 3566 888 3137 398 \nQ 2709 -91 1959 -91 \nQ 1206 -91 779 398 \nQ 353 888 353 1747 \nQ 353 2609 779 3096 \nQ 1206 3584 1959 3584 \nz\n\" transform=\"scale(0.015625)\"/>\n       <path id=\"DejaVuSans-63\" d=\"M 3122 3366 \nL 3122 2828 \nQ 2878 2963 2633 3030 \nQ 2388 3097 2138 3097 \nQ 1578 3097 1268 2742 \nQ 959 2388 959 1747 \nQ 959 1106 1268 751 \nQ 1578 397 2138 397 \nQ 2388 397 2633 464 \nQ 2878 531 3122 666 \nL 3122 134 \nQ 2881 22 2623 -34 \nQ 2366 -91 2075 -91 \nQ 1284 -91 818 406 \nQ 353 903 353 1747 \nQ 353 2603 823 3093 \nQ 1294 3584 2113 3584 \nQ 2378 3584 2631 3529 \nQ 2884 3475 3122 3366 \nz\n\" transform=\"scale(0.015625)\"/>\n       <path id=\"DejaVuSans-68\" d=\"M 3513 2113 \nL 3513 0 \nL 2938 0 \nL 2938 2094 \nQ 2938 2591 2744 2837 \nQ 2550 3084 2163 3084 \nQ 1697 3084 1428 2787 \nQ 1159 2491 1159 1978 \nL 1159 0 \nL 581 0 \nL 581 4863 \nL 1159 4863 \nL 1159 2956 \nQ 1366 3272 1645 3428 \nQ 1925 3584 2291 3584 \nQ 2894 3584 3203 3211 \nQ 3513 2838 3513 2113 \nz\n\" transform=\"scale(0.015625)\"/>\n       <path id=\"DejaVuSans-73\" d=\"M 2834 3397 \nL 2834 2853 \nQ 2591 2978 2328 3040 \nQ 2066 3103 1784 3103 \nQ 1356 3103 1142 2972 \nQ 928 2841 928 2578 \nQ 928 2378 1081 2264 \nQ 1234 2150 1697 2047 \nL 1894 2003 \nQ 2506 1872 2764 1633 \nQ 3022 1394 3022 966 \nQ 3022 478 2636 193 \nQ 2250 -91 1575 -91 \nQ 1294 -91 989 -36 \nQ 684 19 347 128 \nL 347 722 \nQ 666 556 975 473 \nQ 1284 391 1588 391 \nQ 1994 391 2212 530 \nQ 2431 669 2431 922 \nQ 2431 1156 2273 1281 \nQ 2116 1406 1581 1522 \nL 1381 1569 \nQ 847 1681 609 1914 \nQ 372 2147 372 2553 \nQ 372 3047 722 3315 \nQ 1072 3584 1716 3584 \nQ 2034 3584 2315 3537 \nQ 2597 3491 2834 3397 \nz\n\" transform=\"scale(0.015625)\"/>\n      </defs>\n      <use xlink:href=\"#DejaVuSans-45\"/>\n      <use xlink:href=\"#DejaVuSans-70\" x=\"63.183594\"/>\n      <use xlink:href=\"#DejaVuSans-6f\" x=\"126.660156\"/>\n      <use xlink:href=\"#DejaVuSans-63\" x=\"187.841797\"/>\n      <use xlink:href=\"#DejaVuSans-68\" x=\"242.822266\"/>\n      <use xlink:href=\"#DejaVuSans-73\" x=\"306.201172\"/>\n     </g>\n    </g>\n   </g>\n   <g id=\"matplotlib.axis_2\">\n    <g id=\"ytick_1\">\n     <g id=\"line2d_8\">\n      <defs>\n       <path id=\"m188f68b3b9\" d=\"M 0 0 \nL -3.5 0 \n\" style=\"stroke: #000000; stroke-width: 0.8\"/>\n      </defs>\n      <g>\n       <use xlink:href=\"#m188f68b3b9\" x=\"50.14375\" y=\"223.488628\" style=\"stroke: #000000; stroke-width: 0.8\"/>\n      </g>\n     </g>\n     <g id=\"text_9\">\n      <!-- 0.05 -->\n      <g transform=\"translate(20.878125 227.287847)scale(0.1 -0.1)\">\n       <defs>\n        <path id=\"DejaVuSans-2e\" d=\"M 684 794 \nL 1344 794 \nL 1344 0 \nL 684 0 \nL 684 794 \nz\n\" transform=\"scale(0.015625)\"/>\n        <path id=\"DejaVuSans-35\" d=\"M 691 4666 \nL 3169 4666 \nL 3169 4134 \nL 1269 4134 \nL 1269 2991 \nQ 1406 3038 1543 3061 \nQ 1681 3084 1819 3084 \nQ 2600 3084 3056 2656 \nQ 3513 2228 3513 1497 \nQ 3513 744 3044 326 \nQ 2575 -91 1722 -91 \nQ 1428 -91 1123 -41 \nQ 819 9 494 109 \nL 494 744 \nQ 775 591 1075 516 \nQ 1375 441 1709 441 \nQ 2250 441 2565 725 \nQ 2881 1009 2881 1497 \nQ 2881 1984 2565 2268 \nQ 2250 2553 1709 2553 \nQ 1456 2553 1204 2497 \nQ 953 2441 691 2322 \nL 691 4666 \nz\n\" transform=\"scale(0.015625)\"/>\n       </defs>\n       <use xlink:href=\"#DejaVuSans-30\"/>\n       <use xlink:href=\"#DejaVuSans-2e\" x=\"63.623047\"/>\n       <use xlink:href=\"#DejaVuSans-30\" x=\"95.410156\"/>\n       <use xlink:href=\"#DejaVuSans-35\" x=\"159.033203\"/>\n      </g>\n     </g>\n    </g>\n    <g id=\"ytick_2\">\n     <g id=\"line2d_9\">\n      <g>\n       <use xlink:href=\"#m188f68b3b9\" x=\"50.14375\" y=\"198.869803\" style=\"stroke: #000000; stroke-width: 0.8\"/>\n      </g>\n     </g>\n     <g id=\"text_10\">\n      <!-- 0.10 -->\n      <g transform=\"translate(20.878125 202.669022)scale(0.1 -0.1)\">\n       <use xlink:href=\"#DejaVuSans-30\"/>\n       <use xlink:href=\"#DejaVuSans-2e\" x=\"63.623047\"/>\n       <use xlink:href=\"#DejaVuSans-31\" x=\"95.410156\"/>\n       <use xlink:href=\"#DejaVuSans-30\" x=\"159.033203\"/>\n      </g>\n     </g>\n    </g>\n    <g id=\"ytick_3\">\n     <g id=\"line2d_10\">\n      <g>\n       <use xlink:href=\"#m188f68b3b9\" x=\"50.14375\" y=\"174.250979\" style=\"stroke: #000000; stroke-width: 0.8\"/>\n      </g>\n     </g>\n     <g id=\"text_11\">\n      <!-- 0.15 -->\n      <g transform=\"translate(20.878125 178.050198)scale(0.1 -0.1)\">\n       <use xlink:href=\"#DejaVuSans-30\"/>\n       <use xlink:href=\"#DejaVuSans-2e\" x=\"63.623047\"/>\n       <use xlink:href=\"#DejaVuSans-31\" x=\"95.410156\"/>\n       <use xlink:href=\"#DejaVuSans-35\" x=\"159.033203\"/>\n      </g>\n     </g>\n    </g>\n    <g id=\"ytick_4\">\n     <g id=\"line2d_11\">\n      <g>\n       <use xlink:href=\"#m188f68b3b9\" x=\"50.14375\" y=\"149.632154\" style=\"stroke: #000000; stroke-width: 0.8\"/>\n      </g>\n     </g>\n     <g id=\"text_12\">\n      <!-- 0.20 -->\n      <g transform=\"translate(20.878125 153.431373)scale(0.1 -0.1)\">\n       <use xlink:href=\"#DejaVuSans-30\"/>\n       <use xlink:href=\"#DejaVuSans-2e\" x=\"63.623047\"/>\n       <use xlink:href=\"#DejaVuSans-32\" x=\"95.410156\"/>\n       <use xlink:href=\"#DejaVuSans-30\" x=\"159.033203\"/>\n      </g>\n     </g>\n    </g>\n    <g id=\"ytick_5\">\n     <g id=\"line2d_12\">\n      <g>\n       <use xlink:href=\"#m188f68b3b9\" x=\"50.14375\" y=\"125.01333\" style=\"stroke: #000000; stroke-width: 0.8\"/>\n      </g>\n     </g>\n     <g id=\"text_13\">\n      <!-- 0.25 -->\n      <g transform=\"translate(20.878125 128.812548)scale(0.1 -0.1)\">\n       <use xlink:href=\"#DejaVuSans-30\"/>\n       <use xlink:href=\"#DejaVuSans-2e\" x=\"63.623047\"/>\n       <use xlink:href=\"#DejaVuSans-32\" x=\"95.410156\"/>\n       <use xlink:href=\"#DejaVuSans-35\" x=\"159.033203\"/>\n      </g>\n     </g>\n    </g>\n    <g id=\"ytick_6\">\n     <g id=\"line2d_13\">\n      <g>\n       <use xlink:href=\"#m188f68b3b9\" x=\"50.14375\" y=\"100.394505\" style=\"stroke: #000000; stroke-width: 0.8\"/>\n      </g>\n     </g>\n     <g id=\"text_14\">\n      <!-- 0.30 -->\n      <g transform=\"translate(20.878125 104.193724)scale(0.1 -0.1)\">\n       <defs>\n        <path id=\"DejaVuSans-33\" d=\"M 2597 2516 \nQ 3050 2419 3304 2112 \nQ 3559 1806 3559 1356 \nQ 3559 666 3084 287 \nQ 2609 -91 1734 -91 \nQ 1441 -91 1130 -33 \nQ 819 25 488 141 \nL 488 750 \nQ 750 597 1062 519 \nQ 1375 441 1716 441 \nQ 2309 441 2620 675 \nQ 2931 909 2931 1356 \nQ 2931 1769 2642 2001 \nQ 2353 2234 1838 2234 \nL 1294 2234 \nL 1294 2753 \nL 1863 2753 \nQ 2328 2753 2575 2939 \nQ 2822 3125 2822 3475 \nQ 2822 3834 2567 4026 \nQ 2313 4219 1838 4219 \nQ 1578 4219 1281 4162 \nQ 984 4106 628 3988 \nL 628 4550 \nQ 988 4650 1302 4700 \nQ 1616 4750 1894 4750 \nQ 2613 4750 3031 4423 \nQ 3450 4097 3450 3541 \nQ 3450 3153 3228 2886 \nQ 3006 2619 2597 2516 \nz\n\" transform=\"scale(0.015625)\"/>\n       </defs>\n       <use xlink:href=\"#DejaVuSans-30\"/>\n       <use xlink:href=\"#DejaVuSans-2e\" x=\"63.623047\"/>\n       <use xlink:href=\"#DejaVuSans-33\" x=\"95.410156\"/>\n       <use xlink:href=\"#DejaVuSans-30\" x=\"159.033203\"/>\n      </g>\n     </g>\n    </g>\n    <g id=\"ytick_7\">\n     <g id=\"line2d_14\">\n      <g>\n       <use xlink:href=\"#m188f68b3b9\" x=\"50.14375\" y=\"75.77568\" style=\"stroke: #000000; stroke-width: 0.8\"/>\n      </g>\n     </g>\n     <g id=\"text_15\">\n      <!-- 0.35 -->\n      <g transform=\"translate(20.878125 79.574899)scale(0.1 -0.1)\">\n       <use xlink:href=\"#DejaVuSans-30\"/>\n       <use xlink:href=\"#DejaVuSans-2e\" x=\"63.623047\"/>\n       <use xlink:href=\"#DejaVuSans-33\" x=\"95.410156\"/>\n       <use xlink:href=\"#DejaVuSans-35\" x=\"159.033203\"/>\n      </g>\n     </g>\n    </g>\n    <g id=\"ytick_8\">\n     <g id=\"line2d_15\">\n      <g>\n       <use xlink:href=\"#m188f68b3b9\" x=\"50.14375\" y=\"51.156856\" style=\"stroke: #000000; stroke-width: 0.8\"/>\n      </g>\n     </g>\n     <g id=\"text_16\">\n      <!-- 0.40 -->\n      <g transform=\"translate(20.878125 54.956075)scale(0.1 -0.1)\">\n       <use xlink:href=\"#DejaVuSans-30\"/>\n       <use xlink:href=\"#DejaVuSans-2e\" x=\"63.623047\"/>\n       <use xlink:href=\"#DejaVuSans-34\" x=\"95.410156\"/>\n       <use xlink:href=\"#DejaVuSans-30\" x=\"159.033203\"/>\n      </g>\n     </g>\n    </g>\n    <g id=\"ytick_9\">\n     <g id=\"line2d_16\">\n      <g>\n       <use xlink:href=\"#m188f68b3b9\" x=\"50.14375\" y=\"26.538031\" style=\"stroke: #000000; stroke-width: 0.8\"/>\n      </g>\n     </g>\n     <g id=\"text_17\">\n      <!-- 0.45 -->\n      <g transform=\"translate(20.878125 30.33725)scale(0.1 -0.1)\">\n       <use xlink:href=\"#DejaVuSans-30\"/>\n       <use xlink:href=\"#DejaVuSans-2e\" x=\"63.623047\"/>\n       <use xlink:href=\"#DejaVuSans-34\" x=\"95.410156\"/>\n       <use xlink:href=\"#DejaVuSans-35\" x=\"159.033203\"/>\n      </g>\n     </g>\n    </g>\n    <g id=\"text_18\">\n     <!-- loss -->\n     <g transform=\"translate(14.798438 140.695937)rotate(-90)scale(0.1 -0.1)\">\n      <defs>\n       <path id=\"DejaVuSans-6c\" d=\"M 603 4863 \nL 1178 4863 \nL 1178 0 \nL 603 0 \nL 603 4863 \nz\n\" transform=\"scale(0.015625)\"/>\n      </defs>\n      <use xlink:href=\"#DejaVuSans-6c\"/>\n      <use xlink:href=\"#DejaVuSans-6f\" x=\"27.783203\"/>\n      <use xlink:href=\"#DejaVuSans-73\" x=\"88.964844\"/>\n      <use xlink:href=\"#DejaVuSans-73\" x=\"141.064453\"/>\n     </g>\n    </g>\n   </g>\n   <g id=\"line2d_17\">\n    <path d=\"M 65.361932 32.201761 \nL 87.102192 92.975241 \nL 108.842451 124.025743 \nL 130.582711 147.283108 \nL 152.322971 163.255321 \nL 174.063231 174.540229 \nL 195.80349 182.099675 \nL 217.54375 193.195616 \nL 239.28401 198.264755 \nL 261.024269 205.41366 \nL 282.764529 210.30356 \nL 304.504789 215.171057 \nL 326.245049 220.075645 \nL 347.985308 225.062291 \nL 369.725568 229.874489 \n\" clip-path=\"url(#p710b1ae390)\" style=\"fill: none; stroke-dasharray: 5.55,2.4; stroke-dashoffset: 0; stroke: #0000ff; stroke-width: 1.5\"/>\n    <defs>\n     <path id=\"mf5d9acbc28\" d=\"M 0 3 \nC 0.795609 3 1.55874 2.683901 2.12132 2.12132 \nC 2.683901 1.55874 3 0.795609 3 0 \nC 3 -0.795609 2.683901 -1.55874 2.12132 -2.12132 \nC 1.55874 -2.683901 0.795609 -3 0 -3 \nC -0.795609 -3 -1.55874 -2.683901 -2.12132 -2.12132 \nC -2.683901 -1.55874 -3 -0.795609 -3 0 \nC -3 0.795609 -2.683901 1.55874 -2.12132 2.12132 \nC -1.55874 2.683901 -0.795609 3 0 3 \nz\n\" style=\"stroke: #0000ff\"/>\n    </defs>\n    <g clip-path=\"url(#p710b1ae390)\">\n     <use xlink:href=\"#mf5d9acbc28\" x=\"65.361932\" y=\"32.201761\" style=\"fill: #0000ff; stroke: #0000ff\"/>\n     <use xlink:href=\"#mf5d9acbc28\" x=\"87.102192\" y=\"92.975241\" style=\"fill: #0000ff; stroke: #0000ff\"/>\n     <use xlink:href=\"#mf5d9acbc28\" x=\"108.842451\" y=\"124.025743\" style=\"fill: #0000ff; stroke: #0000ff\"/>\n     <use xlink:href=\"#mf5d9acbc28\" x=\"130.582711\" y=\"147.283108\" style=\"fill: #0000ff; stroke: #0000ff\"/>\n     <use xlink:href=\"#mf5d9acbc28\" x=\"152.322971\" y=\"163.255321\" style=\"fill: #0000ff; stroke: #0000ff\"/>\n     <use xlink:href=\"#mf5d9acbc28\" x=\"174.063231\" y=\"174.540229\" style=\"fill: #0000ff; stroke: #0000ff\"/>\n     <use xlink:href=\"#mf5d9acbc28\" x=\"195.80349\" y=\"182.099675\" style=\"fill: #0000ff; stroke: #0000ff\"/>\n     <use xlink:href=\"#mf5d9acbc28\" x=\"217.54375\" y=\"193.195616\" style=\"fill: #0000ff; stroke: #0000ff\"/>\n     <use xlink:href=\"#mf5d9acbc28\" x=\"239.28401\" y=\"198.264755\" style=\"fill: #0000ff; stroke: #0000ff\"/>\n     <use xlink:href=\"#mf5d9acbc28\" x=\"261.024269\" y=\"205.41366\" style=\"fill: #0000ff; stroke: #0000ff\"/>\n     <use xlink:href=\"#mf5d9acbc28\" x=\"282.764529\" y=\"210.30356\" style=\"fill: #0000ff; stroke: #0000ff\"/>\n     <use xlink:href=\"#mf5d9acbc28\" x=\"304.504789\" y=\"215.171057\" style=\"fill: #0000ff; stroke: #0000ff\"/>\n     <use xlink:href=\"#mf5d9acbc28\" x=\"326.245049\" y=\"220.075645\" style=\"fill: #0000ff; stroke: #0000ff\"/>\n     <use xlink:href=\"#mf5d9acbc28\" x=\"347.985308\" y=\"225.062291\" style=\"fill: #0000ff; stroke: #0000ff\"/>\n     <use xlink:href=\"#mf5d9acbc28\" x=\"369.725568\" y=\"229.874489\" style=\"fill: #0000ff; stroke: #0000ff\"/>\n    </g>\n   </g>\n   <g id=\"line2d_18\">\n    <path d=\"M 65.361932 93.414315 \nL 87.102192 106.640178 \nL 108.842451 145.829182 \nL 130.582711 157.926632 \nL 152.322971 162.312665 \nL 174.063231 164.452408 \nL 195.80349 170.915753 \nL 217.54375 160.990813 \nL 239.28401 170.61724 \nL 261.024269 165.692424 \nL 282.764529 157.516891 \nL 304.504789 165.520261 \nL 326.245049 157.18636 \nL 347.985308 161.887597 \nL 369.725568 160.136671 \n\" clip-path=\"url(#p710b1ae390)\" style=\"fill: none; stroke: #ff0000; stroke-width: 1.5; stroke-linecap: square\"/>\n    <defs>\n     <path id=\"m9574dfda58\" d=\"M 0 3 \nC 0.795609 3 1.55874 2.683901 2.12132 2.12132 \nC 2.683901 1.55874 3 0.795609 3 0 \nC 3 -0.795609 2.683901 -1.55874 2.12132 -2.12132 \nC 1.55874 -2.683901 0.795609 -3 0 -3 \nC -0.795609 -3 -1.55874 -2.683901 -2.12132 -2.12132 \nC -2.683901 -1.55874 -3 -0.795609 -3 0 \nC -3 0.795609 -2.683901 1.55874 -2.12132 2.12132 \nC -1.55874 2.683901 -0.795609 3 0 3 \nz\n\" style=\"stroke: #ff0000\"/>\n    </defs>\n    <g clip-path=\"url(#p710b1ae390)\">\n     <use xlink:href=\"#m9574dfda58\" x=\"65.361932\" y=\"93.414315\" style=\"fill: #ff0000; stroke: #ff0000\"/>\n     <use xlink:href=\"#m9574dfda58\" x=\"87.102192\" y=\"106.640178\" style=\"fill: #ff0000; stroke: #ff0000\"/>\n     <use xlink:href=\"#m9574dfda58\" x=\"108.842451\" y=\"145.829182\" style=\"fill: #ff0000; stroke: #ff0000\"/>\n     <use xlink:href=\"#m9574dfda58\" x=\"130.582711\" y=\"157.926632\" style=\"fill: #ff0000; stroke: #ff0000\"/>\n     <use xlink:href=\"#m9574dfda58\" x=\"152.322971\" y=\"162.312665\" style=\"fill: #ff0000; stroke: #ff0000\"/>\n     <use xlink:href=\"#m9574dfda58\" x=\"174.063231\" y=\"164.452408\" style=\"fill: #ff0000; stroke: #ff0000\"/>\n     <use xlink:href=\"#m9574dfda58\" x=\"195.80349\" y=\"170.915753\" style=\"fill: #ff0000; stroke: #ff0000\"/>\n     <use xlink:href=\"#m9574dfda58\" x=\"217.54375\" y=\"160.990813\" style=\"fill: #ff0000; stroke: #ff0000\"/>\n     <use xlink:href=\"#m9574dfda58\" x=\"239.28401\" y=\"170.61724\" style=\"fill: #ff0000; stroke: #ff0000\"/>\n     <use xlink:href=\"#m9574dfda58\" x=\"261.024269\" y=\"165.692424\" style=\"fill: #ff0000; stroke: #ff0000\"/>\n     <use xlink:href=\"#m9574dfda58\" x=\"282.764529\" y=\"157.516891\" style=\"fill: #ff0000; stroke: #ff0000\"/>\n     <use xlink:href=\"#m9574dfda58\" x=\"304.504789\" y=\"165.520261\" style=\"fill: #ff0000; stroke: #ff0000\"/>\n     <use xlink:href=\"#m9574dfda58\" x=\"326.245049\" y=\"157.18636\" style=\"fill: #ff0000; stroke: #ff0000\"/>\n     <use xlink:href=\"#m9574dfda58\" x=\"347.985308\" y=\"161.887597\" style=\"fill: #ff0000; stroke: #ff0000\"/>\n     <use xlink:href=\"#m9574dfda58\" x=\"369.725568\" y=\"160.136671\" style=\"fill: #ff0000; stroke: #ff0000\"/>\n    </g>\n   </g>\n   <g id=\"patch_3\">\n    <path d=\"M 50.14375 239.758125 \nL 50.14375 22.318125 \n\" style=\"fill: none; stroke: #000000; stroke-width: 0.8; stroke-linejoin: miter; stroke-linecap: square\"/>\n   </g>\n   <g id=\"patch_4\">\n    <path d=\"M 384.94375 239.758125 \nL 384.94375 22.318125 \n\" style=\"fill: none; stroke: #000000; stroke-width: 0.8; stroke-linejoin: miter; stroke-linecap: square\"/>\n   </g>\n   <g id=\"patch_5\">\n    <path d=\"M 50.14375 239.758125 \nL 384.94375 239.758125 \n\" style=\"fill: none; stroke: #000000; stroke-width: 0.8; stroke-linejoin: miter; stroke-linecap: square\"/>\n   </g>\n   <g id=\"patch_6\">\n    <path d=\"M 50.14375 22.318125 \nL 384.94375 22.318125 \n\" style=\"fill: none; stroke: #000000; stroke-width: 0.8; stroke-linejoin: miter; stroke-linecap: square\"/>\n   </g>\n   <g id=\"text_19\">\n    <!-- Training and validation loss -->\n    <g transform=\"translate(135.73375 16.318125)scale(0.12 -0.12)\">\n     <defs>\n      <path id=\"DejaVuSans-54\" d=\"M -19 4666 \nL 3928 4666 \nL 3928 4134 \nL 2272 4134 \nL 2272 0 \nL 1638 0 \nL 1638 4134 \nL -19 4134 \nL -19 4666 \nz\n\" transform=\"scale(0.015625)\"/>\n      <path id=\"DejaVuSans-72\" d=\"M 2631 2963 \nQ 2534 3019 2420 3045 \nQ 2306 3072 2169 3072 \nQ 1681 3072 1420 2755 \nQ 1159 2438 1159 1844 \nL 1159 0 \nL 581 0 \nL 581 3500 \nL 1159 3500 \nL 1159 2956 \nQ 1341 3275 1631 3429 \nQ 1922 3584 2338 3584 \nQ 2397 3584 2469 3576 \nQ 2541 3569 2628 3553 \nL 2631 2963 \nz\n\" transform=\"scale(0.015625)\"/>\n      <path id=\"DejaVuSans-61\" d=\"M 2194 1759 \nQ 1497 1759 1228 1600 \nQ 959 1441 959 1056 \nQ 959 750 1161 570 \nQ 1363 391 1709 391 \nQ 2188 391 2477 730 \nQ 2766 1069 2766 1631 \nL 2766 1759 \nL 2194 1759 \nz\nM 3341 1997 \nL 3341 0 \nL 2766 0 \nL 2766 531 \nQ 2569 213 2275 61 \nQ 1981 -91 1556 -91 \nQ 1019 -91 701 211 \nQ 384 513 384 1019 \nQ 384 1609 779 1909 \nQ 1175 2209 1959 2209 \nL 2766 2209 \nL 2766 2266 \nQ 2766 2663 2505 2880 \nQ 2244 3097 1772 3097 \nQ 1472 3097 1187 3025 \nQ 903 2953 641 2809 \nL 641 3341 \nQ 956 3463 1253 3523 \nQ 1550 3584 1831 3584 \nQ 2591 3584 2966 3190 \nQ 3341 2797 3341 1997 \nz\n\" transform=\"scale(0.015625)\"/>\n      <path id=\"DejaVuSans-69\" d=\"M 603 3500 \nL 1178 3500 \nL 1178 0 \nL 603 0 \nL 603 3500 \nz\nM 603 4863 \nL 1178 4863 \nL 1178 4134 \nL 603 4134 \nL 603 4863 \nz\n\" transform=\"scale(0.015625)\"/>\n      <path id=\"DejaVuSans-6e\" d=\"M 3513 2113 \nL 3513 0 \nL 2938 0 \nL 2938 2094 \nQ 2938 2591 2744 2837 \nQ 2550 3084 2163 3084 \nQ 1697 3084 1428 2787 \nQ 1159 2491 1159 1978 \nL 1159 0 \nL 581 0 \nL 581 3500 \nL 1159 3500 \nL 1159 2956 \nQ 1366 3272 1645 3428 \nQ 1925 3584 2291 3584 \nQ 2894 3584 3203 3211 \nQ 3513 2838 3513 2113 \nz\n\" transform=\"scale(0.015625)\"/>\n      <path id=\"DejaVuSans-67\" d=\"M 2906 1791 \nQ 2906 2416 2648 2759 \nQ 2391 3103 1925 3103 \nQ 1463 3103 1205 2759 \nQ 947 2416 947 1791 \nQ 947 1169 1205 825 \nQ 1463 481 1925 481 \nQ 2391 481 2648 825 \nQ 2906 1169 2906 1791 \nz\nM 3481 434 \nQ 3481 -459 3084 -895 \nQ 2688 -1331 1869 -1331 \nQ 1566 -1331 1297 -1286 \nQ 1028 -1241 775 -1147 \nL 775 -588 \nQ 1028 -725 1275 -790 \nQ 1522 -856 1778 -856 \nQ 2344 -856 2625 -561 \nQ 2906 -266 2906 331 \nL 2906 616 \nQ 2728 306 2450 153 \nQ 2172 0 1784 0 \nQ 1141 0 747 490 \nQ 353 981 353 1791 \nQ 353 2603 747 3093 \nQ 1141 3584 1784 3584 \nQ 2172 3584 2450 3431 \nQ 2728 3278 2906 2969 \nL 2906 3500 \nL 3481 3500 \nL 3481 434 \nz\n\" transform=\"scale(0.015625)\"/>\n      <path id=\"DejaVuSans-20\" transform=\"scale(0.015625)\"/>\n      <path id=\"DejaVuSans-64\" d=\"M 2906 2969 \nL 2906 4863 \nL 3481 4863 \nL 3481 0 \nL 2906 0 \nL 2906 525 \nQ 2725 213 2448 61 \nQ 2172 -91 1784 -91 \nQ 1150 -91 751 415 \nQ 353 922 353 1747 \nQ 353 2572 751 3078 \nQ 1150 3584 1784 3584 \nQ 2172 3584 2448 3432 \nQ 2725 3281 2906 2969 \nz\nM 947 1747 \nQ 947 1113 1208 752 \nQ 1469 391 1925 391 \nQ 2381 391 2643 752 \nQ 2906 1113 2906 1747 \nQ 2906 2381 2643 2742 \nQ 2381 3103 1925 3103 \nQ 1469 3103 1208 2742 \nQ 947 2381 947 1747 \nz\n\" transform=\"scale(0.015625)\"/>\n      <path id=\"DejaVuSans-76\" d=\"M 191 3500 \nL 800 3500 \nL 1894 563 \nL 2988 3500 \nL 3597 3500 \nL 2284 0 \nL 1503 0 \nL 191 3500 \nz\n\" transform=\"scale(0.015625)\"/>\n      <path id=\"DejaVuSans-74\" d=\"M 1172 4494 \nL 1172 3500 \nL 2356 3500 \nL 2356 3053 \nL 1172 3053 \nL 1172 1153 \nQ 1172 725 1289 603 \nQ 1406 481 1766 481 \nL 2356 481 \nL 2356 0 \nL 1766 0 \nQ 1100 0 847 248 \nQ 594 497 594 1153 \nL 594 3053 \nL 172 3053 \nL 172 3500 \nL 594 3500 \nL 594 4494 \nL 1172 4494 \nz\n\" transform=\"scale(0.015625)\"/>\n     </defs>\n     <use xlink:href=\"#DejaVuSans-54\"/>\n     <use xlink:href=\"#DejaVuSans-72\" x=\"46.333984\"/>\n     <use xlink:href=\"#DejaVuSans-61\" x=\"87.447266\"/>\n     <use xlink:href=\"#DejaVuSans-69\" x=\"148.726562\"/>\n     <use xlink:href=\"#DejaVuSans-6e\" x=\"176.509766\"/>\n     <use xlink:href=\"#DejaVuSans-69\" x=\"239.888672\"/>\n     <use xlink:href=\"#DejaVuSans-6e\" x=\"267.671875\"/>\n     <use xlink:href=\"#DejaVuSans-67\" x=\"331.050781\"/>\n     <use xlink:href=\"#DejaVuSans-20\" x=\"394.527344\"/>\n     <use xlink:href=\"#DejaVuSans-61\" x=\"426.314453\"/>\n     <use xlink:href=\"#DejaVuSans-6e\" x=\"487.59375\"/>\n     <use xlink:href=\"#DejaVuSans-64\" x=\"550.972656\"/>\n     <use xlink:href=\"#DejaVuSans-20\" x=\"614.449219\"/>\n     <use xlink:href=\"#DejaVuSans-76\" x=\"646.236328\"/>\n     <use xlink:href=\"#DejaVuSans-61\" x=\"705.416016\"/>\n     <use xlink:href=\"#DejaVuSans-6c\" x=\"766.695312\"/>\n     <use xlink:href=\"#DejaVuSans-69\" x=\"794.478516\"/>\n     <use xlink:href=\"#DejaVuSans-64\" x=\"822.261719\"/>\n     <use xlink:href=\"#DejaVuSans-61\" x=\"885.738281\"/>\n     <use xlink:href=\"#DejaVuSans-74\" x=\"947.017578\"/>\n     <use xlink:href=\"#DejaVuSans-69\" x=\"986.226562\"/>\n     <use xlink:href=\"#DejaVuSans-6f\" x=\"1014.009766\"/>\n     <use xlink:href=\"#DejaVuSans-6e\" x=\"1075.191406\"/>\n     <use xlink:href=\"#DejaVuSans-20\" x=\"1138.570312\"/>\n     <use xlink:href=\"#DejaVuSans-6c\" x=\"1170.357422\"/>\n     <use xlink:href=\"#DejaVuSans-6f\" x=\"1198.140625\"/>\n     <use xlink:href=\"#DejaVuSans-73\" x=\"1259.322266\"/>\n     <use xlink:href=\"#DejaVuSans-73\" x=\"1311.421875\"/>\n    </g>\n   </g>\n   <g id=\"legend_1\">\n    <g id=\"patch_7\">\n     <path d=\"M 298.353125 60.230625 \nL 377.94375 60.230625 \nQ 379.94375 60.230625 379.94375 58.230625 \nL 379.94375 29.318125 \nQ 379.94375 27.318125 377.94375 27.318125 \nL 298.353125 27.318125 \nQ 296.353125 27.318125 296.353125 29.318125 \nL 296.353125 58.230625 \nQ 296.353125 60.230625 298.353125 60.230625 \nz\n\" style=\"fill: #ffffff; opacity: 0.8; stroke: #cccccc; stroke-linejoin: miter\"/>\n    </g>\n    <g id=\"line2d_19\">\n     <path d=\"M 300.353125 35.416562 \nL 310.353125 35.416562 \nL 320.353125 35.416562 \n\" style=\"fill: none; stroke-dasharray: 5.55,2.4; stroke-dashoffset: 0; stroke: #0000ff; stroke-width: 1.5\"/>\n     <g>\n      <use xlink:href=\"#mf5d9acbc28\" x=\"310.353125\" y=\"35.416562\" style=\"fill: #0000ff; stroke: #0000ff\"/>\n     </g>\n    </g>\n    <g id=\"text_20\">\n     <!-- train_loss -->\n     <g transform=\"translate(328.353125 38.916562)scale(0.1 -0.1)\">\n      <defs>\n       <path id=\"DejaVuSans-5f\" d=\"M 3263 -1063 \nL 3263 -1509 \nL -63 -1509 \nL -63 -1063 \nL 3263 -1063 \nz\n\" transform=\"scale(0.015625)\"/>\n      </defs>\n      <use xlink:href=\"#DejaVuSans-74\"/>\n      <use xlink:href=\"#DejaVuSans-72\" x=\"39.208984\"/>\n      <use xlink:href=\"#DejaVuSans-61\" x=\"80.322266\"/>\n      <use xlink:href=\"#DejaVuSans-69\" x=\"141.601562\"/>\n      <use xlink:href=\"#DejaVuSans-6e\" x=\"169.384766\"/>\n      <use xlink:href=\"#DejaVuSans-5f\" x=\"232.763672\"/>\n      <use xlink:href=\"#DejaVuSans-6c\" x=\"282.763672\"/>\n      <use xlink:href=\"#DejaVuSans-6f\" x=\"310.546875\"/>\n      <use xlink:href=\"#DejaVuSans-73\" x=\"371.728516\"/>\n      <use xlink:href=\"#DejaVuSans-73\" x=\"423.828125\"/>\n     </g>\n    </g>\n    <g id=\"line2d_20\">\n     <path d=\"M 300.353125 50.372812 \nL 310.353125 50.372812 \nL 320.353125 50.372812 \n\" style=\"fill: none; stroke: #ff0000; stroke-width: 1.5; stroke-linecap: square\"/>\n     <g>\n      <use xlink:href=\"#m9574dfda58\" x=\"310.353125\" y=\"50.372812\" style=\"fill: #ff0000; stroke: #ff0000\"/>\n     </g>\n    </g>\n    <g id=\"text_21\">\n     <!-- val_loss -->\n     <g transform=\"translate(328.353125 53.872812)scale(0.1 -0.1)\">\n      <use xlink:href=\"#DejaVuSans-76\"/>\n      <use xlink:href=\"#DejaVuSans-61\" x=\"59.179688\"/>\n      <use xlink:href=\"#DejaVuSans-6c\" x=\"120.458984\"/>\n      <use xlink:href=\"#DejaVuSans-5f\" x=\"148.242188\"/>\n      <use xlink:href=\"#DejaVuSans-6c\" x=\"198.242188\"/>\n      <use xlink:href=\"#DejaVuSans-6f\" x=\"226.025391\"/>\n      <use xlink:href=\"#DejaVuSans-73\" x=\"287.207031\"/>\n      <use xlink:href=\"#DejaVuSans-73\" x=\"339.306641\"/>\n     </g>\n    </g>\n   </g>\n  </g>\n </g>\n <defs>\n  <clipPath id=\"p710b1ae390\">\n   <rect x=\"50.14375\" y=\"22.318125\" width=\"334.8\" height=\"217.44\"/>\n  </clipPath>\n </defs>\n</svg>\n",
      "text/plain": [
       "<Figure size 432x288 with 1 Axes>"
      ]
     },
     "metadata": {
      "needs_background": "light"
     },
     "output_type": "display_data"
    }
   ],
   "source": [
    "plot_metric(history, \"loss\")"
   ]
  },
  {
   "cell_type": "code",
   "execution_count": 12,
   "metadata": {},
   "outputs": [
    {
     "data": {
      "image/svg+xml": "<?xml version=\"1.0\" encoding=\"utf-8\" standalone=\"no\"?>\n<!DOCTYPE svg PUBLIC \"-//W3C//DTD SVG 1.1//EN\"\n  \"http://www.w3.org/Graphics/SVG/1.1/DTD/svg11.dtd\">\n<svg xmlns:xlink=\"http://www.w3.org/1999/xlink\" width=\"398.50625pt\" height=\"277.314375pt\" viewBox=\"0 0 398.50625 277.314375\" xmlns=\"http://www.w3.org/2000/svg\" version=\"1.1\">\n <metadata>\n  <rdf:RDF xmlns:dc=\"http://purl.org/dc/elements/1.1/\" xmlns:cc=\"http://creativecommons.org/ns#\" xmlns:rdf=\"http://www.w3.org/1999/02/22-rdf-syntax-ns#\">\n   <cc:Work>\n    <dc:type rdf:resource=\"http://purl.org/dc/dcmitype/StillImage\"/>\n    <dc:date>2022-04-23T19:29:25.191956</dc:date>\n    <dc:format>image/svg+xml</dc:format>\n    <dc:creator>\n     <cc:Agent>\n      <dc:title>Matplotlib v3.5.1, https://matplotlib.org/</dc:title>\n     </cc:Agent>\n    </dc:creator>\n   </cc:Work>\n  </rdf:RDF>\n </metadata>\n <defs>\n  <style type=\"text/css\">*{stroke-linejoin: round; stroke-linecap: butt}</style>\n </defs>\n <g id=\"figure_1\">\n  <g id=\"patch_1\">\n   <path d=\"M 0 277.314375 \nL 398.50625 277.314375 \nL 398.50625 0 \nL 0 0 \nL 0 277.314375 \nz\n\" style=\"fill: none\"/>\n  </g>\n  <g id=\"axes_1\">\n   <g id=\"patch_2\">\n    <path d=\"M 56.50625 239.758125 \nL 391.30625 239.758125 \nL 391.30625 22.318125 \nL 56.50625 22.318125 \nz\n\" style=\"fill: #ffffff\"/>\n   </g>\n   <g id=\"matplotlib.axis_1\">\n    <g id=\"xtick_1\">\n     <g id=\"line2d_1\">\n      <defs>\n       <path id=\"ma42056df58\" d=\"M 0 0 \nL 0 3.5 \n\" style=\"stroke: #000000; stroke-width: 0.8\"/>\n      </defs>\n      <g>\n       <use xlink:href=\"#ma42056df58\" x=\"93.464692\" y=\"239.758125\" style=\"stroke: #000000; stroke-width: 0.8\"/>\n      </g>\n     </g>\n     <g id=\"text_1\">\n      <!-- 2 -->\n      <g transform=\"translate(90.283442 254.356562)scale(0.1 -0.1)\">\n       <defs>\n        <path id=\"DejaVuSans-32\" d=\"M 1228 531 \nL 3431 531 \nL 3431 0 \nL 469 0 \nL 469 531 \nQ 828 903 1448 1529 \nQ 2069 2156 2228 2338 \nQ 2531 2678 2651 2914 \nQ 2772 3150 2772 3378 \nQ 2772 3750 2511 3984 \nQ 2250 4219 1831 4219 \nQ 1534 4219 1204 4116 \nQ 875 4013 500 3803 \nL 500 4441 \nQ 881 4594 1212 4672 \nQ 1544 4750 1819 4750 \nQ 2544 4750 2975 4387 \nQ 3406 4025 3406 3419 \nQ 3406 3131 3298 2873 \nQ 3191 2616 2906 2266 \nQ 2828 2175 2409 1742 \nQ 1991 1309 1228 531 \nz\n\" transform=\"scale(0.015625)\"/>\n       </defs>\n       <use xlink:href=\"#DejaVuSans-32\"/>\n      </g>\n     </g>\n    </g>\n    <g id=\"xtick_2\">\n     <g id=\"line2d_2\">\n      <g>\n       <use xlink:href=\"#ma42056df58\" x=\"136.945211\" y=\"239.758125\" style=\"stroke: #000000; stroke-width: 0.8\"/>\n      </g>\n     </g>\n     <g id=\"text_2\">\n      <!-- 4 -->\n      <g transform=\"translate(133.763961 254.356562)scale(0.1 -0.1)\">\n       <defs>\n        <path id=\"DejaVuSans-34\" d=\"M 2419 4116 \nL 825 1625 \nL 2419 1625 \nL 2419 4116 \nz\nM 2253 4666 \nL 3047 4666 \nL 3047 1625 \nL 3713 1625 \nL 3713 1100 \nL 3047 1100 \nL 3047 0 \nL 2419 0 \nL 2419 1100 \nL 313 1100 \nL 313 1709 \nL 2253 4666 \nz\n\" transform=\"scale(0.015625)\"/>\n       </defs>\n       <use xlink:href=\"#DejaVuSans-34\"/>\n      </g>\n     </g>\n    </g>\n    <g id=\"xtick_3\">\n     <g id=\"line2d_3\">\n      <g>\n       <use xlink:href=\"#ma42056df58\" x=\"180.425731\" y=\"239.758125\" style=\"stroke: #000000; stroke-width: 0.8\"/>\n      </g>\n     </g>\n     <g id=\"text_3\">\n      <!-- 6 -->\n      <g transform=\"translate(177.244481 254.356562)scale(0.1 -0.1)\">\n       <defs>\n        <path id=\"DejaVuSans-36\" d=\"M 2113 2584 \nQ 1688 2584 1439 2293 \nQ 1191 2003 1191 1497 \nQ 1191 994 1439 701 \nQ 1688 409 2113 409 \nQ 2538 409 2786 701 \nQ 3034 994 3034 1497 \nQ 3034 2003 2786 2293 \nQ 2538 2584 2113 2584 \nz\nM 3366 4563 \nL 3366 3988 \nQ 3128 4100 2886 4159 \nQ 2644 4219 2406 4219 \nQ 1781 4219 1451 3797 \nQ 1122 3375 1075 2522 \nQ 1259 2794 1537 2939 \nQ 1816 3084 2150 3084 \nQ 2853 3084 3261 2657 \nQ 3669 2231 3669 1497 \nQ 3669 778 3244 343 \nQ 2819 -91 2113 -91 \nQ 1303 -91 875 529 \nQ 447 1150 447 2328 \nQ 447 3434 972 4092 \nQ 1497 4750 2381 4750 \nQ 2619 4750 2861 4703 \nQ 3103 4656 3366 4563 \nz\n\" transform=\"scale(0.015625)\"/>\n       </defs>\n       <use xlink:href=\"#DejaVuSans-36\"/>\n      </g>\n     </g>\n    </g>\n    <g id=\"xtick_4\">\n     <g id=\"line2d_4\">\n      <g>\n       <use xlink:href=\"#ma42056df58\" x=\"223.90625\" y=\"239.758125\" style=\"stroke: #000000; stroke-width: 0.8\"/>\n      </g>\n     </g>\n     <g id=\"text_4\">\n      <!-- 8 -->\n      <g transform=\"translate(220.725 254.356562)scale(0.1 -0.1)\">\n       <defs>\n        <path id=\"DejaVuSans-38\" d=\"M 2034 2216 \nQ 1584 2216 1326 1975 \nQ 1069 1734 1069 1313 \nQ 1069 891 1326 650 \nQ 1584 409 2034 409 \nQ 2484 409 2743 651 \nQ 3003 894 3003 1313 \nQ 3003 1734 2745 1975 \nQ 2488 2216 2034 2216 \nz\nM 1403 2484 \nQ 997 2584 770 2862 \nQ 544 3141 544 3541 \nQ 544 4100 942 4425 \nQ 1341 4750 2034 4750 \nQ 2731 4750 3128 4425 \nQ 3525 4100 3525 3541 \nQ 3525 3141 3298 2862 \nQ 3072 2584 2669 2484 \nQ 3125 2378 3379 2068 \nQ 3634 1759 3634 1313 \nQ 3634 634 3220 271 \nQ 2806 -91 2034 -91 \nQ 1263 -91 848 271 \nQ 434 634 434 1313 \nQ 434 1759 690 2068 \nQ 947 2378 1403 2484 \nz\nM 1172 3481 \nQ 1172 3119 1398 2916 \nQ 1625 2713 2034 2713 \nQ 2441 2713 2670 2916 \nQ 2900 3119 2900 3481 \nQ 2900 3844 2670 4047 \nQ 2441 4250 2034 4250 \nQ 1625 4250 1398 4047 \nQ 1172 3844 1172 3481 \nz\n\" transform=\"scale(0.015625)\"/>\n       </defs>\n       <use xlink:href=\"#DejaVuSans-38\"/>\n      </g>\n     </g>\n    </g>\n    <g id=\"xtick_5\">\n     <g id=\"line2d_5\">\n      <g>\n       <use xlink:href=\"#ma42056df58\" x=\"267.386769\" y=\"239.758125\" style=\"stroke: #000000; stroke-width: 0.8\"/>\n      </g>\n     </g>\n     <g id=\"text_5\">\n      <!-- 10 -->\n      <g transform=\"translate(261.024269 254.356562)scale(0.1 -0.1)\">\n       <defs>\n        <path id=\"DejaVuSans-31\" d=\"M 794 531 \nL 1825 531 \nL 1825 4091 \nL 703 3866 \nL 703 4441 \nL 1819 4666 \nL 2450 4666 \nL 2450 531 \nL 3481 531 \nL 3481 0 \nL 794 0 \nL 794 531 \nz\n\" transform=\"scale(0.015625)\"/>\n        <path id=\"DejaVuSans-30\" d=\"M 2034 4250 \nQ 1547 4250 1301 3770 \nQ 1056 3291 1056 2328 \nQ 1056 1369 1301 889 \nQ 1547 409 2034 409 \nQ 2525 409 2770 889 \nQ 3016 1369 3016 2328 \nQ 3016 3291 2770 3770 \nQ 2525 4250 2034 4250 \nz\nM 2034 4750 \nQ 2819 4750 3233 4129 \nQ 3647 3509 3647 2328 \nQ 3647 1150 3233 529 \nQ 2819 -91 2034 -91 \nQ 1250 -91 836 529 \nQ 422 1150 422 2328 \nQ 422 3509 836 4129 \nQ 1250 4750 2034 4750 \nz\n\" transform=\"scale(0.015625)\"/>\n       </defs>\n       <use xlink:href=\"#DejaVuSans-31\"/>\n       <use xlink:href=\"#DejaVuSans-30\" x=\"63.623047\"/>\n      </g>\n     </g>\n    </g>\n    <g id=\"xtick_6\">\n     <g id=\"line2d_6\">\n      <g>\n       <use xlink:href=\"#ma42056df58\" x=\"310.867289\" y=\"239.758125\" style=\"stroke: #000000; stroke-width: 0.8\"/>\n      </g>\n     </g>\n     <g id=\"text_6\">\n      <!-- 12 -->\n      <g transform=\"translate(304.504789 254.356562)scale(0.1 -0.1)\">\n       <use xlink:href=\"#DejaVuSans-31\"/>\n       <use xlink:href=\"#DejaVuSans-32\" x=\"63.623047\"/>\n      </g>\n     </g>\n    </g>\n    <g id=\"xtick_7\">\n     <g id=\"line2d_7\">\n      <g>\n       <use xlink:href=\"#ma42056df58\" x=\"354.347808\" y=\"239.758125\" style=\"stroke: #000000; stroke-width: 0.8\"/>\n      </g>\n     </g>\n     <g id=\"text_7\">\n      <!-- 14 -->\n      <g transform=\"translate(347.985308 254.356562)scale(0.1 -0.1)\">\n       <use xlink:href=\"#DejaVuSans-31\"/>\n       <use xlink:href=\"#DejaVuSans-34\" x=\"63.623047\"/>\n      </g>\n     </g>\n    </g>\n    <g id=\"text_8\">\n     <!-- Epochs -->\n     <g transform=\"translate(205.990625 268.034687)scale(0.1 -0.1)\">\n      <defs>\n       <path id=\"DejaVuSans-45\" d=\"M 628 4666 \nL 3578 4666 \nL 3578 4134 \nL 1259 4134 \nL 1259 2753 \nL 3481 2753 \nL 3481 2222 \nL 1259 2222 \nL 1259 531 \nL 3634 531 \nL 3634 0 \nL 628 0 \nL 628 4666 \nz\n\" transform=\"scale(0.015625)\"/>\n       <path id=\"DejaVuSans-70\" d=\"M 1159 525 \nL 1159 -1331 \nL 581 -1331 \nL 581 3500 \nL 1159 3500 \nL 1159 2969 \nQ 1341 3281 1617 3432 \nQ 1894 3584 2278 3584 \nQ 2916 3584 3314 3078 \nQ 3713 2572 3713 1747 \nQ 3713 922 3314 415 \nQ 2916 -91 2278 -91 \nQ 1894 -91 1617 61 \nQ 1341 213 1159 525 \nz\nM 3116 1747 \nQ 3116 2381 2855 2742 \nQ 2594 3103 2138 3103 \nQ 1681 3103 1420 2742 \nQ 1159 2381 1159 1747 \nQ 1159 1113 1420 752 \nQ 1681 391 2138 391 \nQ 2594 391 2855 752 \nQ 3116 1113 3116 1747 \nz\n\" transform=\"scale(0.015625)\"/>\n       <path id=\"DejaVuSans-6f\" d=\"M 1959 3097 \nQ 1497 3097 1228 2736 \nQ 959 2375 959 1747 \nQ 959 1119 1226 758 \nQ 1494 397 1959 397 \nQ 2419 397 2687 759 \nQ 2956 1122 2956 1747 \nQ 2956 2369 2687 2733 \nQ 2419 3097 1959 3097 \nz\nM 1959 3584 \nQ 2709 3584 3137 3096 \nQ 3566 2609 3566 1747 \nQ 3566 888 3137 398 \nQ 2709 -91 1959 -91 \nQ 1206 -91 779 398 \nQ 353 888 353 1747 \nQ 353 2609 779 3096 \nQ 1206 3584 1959 3584 \nz\n\" transform=\"scale(0.015625)\"/>\n       <path id=\"DejaVuSans-63\" d=\"M 3122 3366 \nL 3122 2828 \nQ 2878 2963 2633 3030 \nQ 2388 3097 2138 3097 \nQ 1578 3097 1268 2742 \nQ 959 2388 959 1747 \nQ 959 1106 1268 751 \nQ 1578 397 2138 397 \nQ 2388 397 2633 464 \nQ 2878 531 3122 666 \nL 3122 134 \nQ 2881 22 2623 -34 \nQ 2366 -91 2075 -91 \nQ 1284 -91 818 406 \nQ 353 903 353 1747 \nQ 353 2603 823 3093 \nQ 1294 3584 2113 3584 \nQ 2378 3584 2631 3529 \nQ 2884 3475 3122 3366 \nz\n\" transform=\"scale(0.015625)\"/>\n       <path id=\"DejaVuSans-68\" d=\"M 3513 2113 \nL 3513 0 \nL 2938 0 \nL 2938 2094 \nQ 2938 2591 2744 2837 \nQ 2550 3084 2163 3084 \nQ 1697 3084 1428 2787 \nQ 1159 2491 1159 1978 \nL 1159 0 \nL 581 0 \nL 581 4863 \nL 1159 4863 \nL 1159 2956 \nQ 1366 3272 1645 3428 \nQ 1925 3584 2291 3584 \nQ 2894 3584 3203 3211 \nQ 3513 2838 3513 2113 \nz\n\" transform=\"scale(0.015625)\"/>\n       <path id=\"DejaVuSans-73\" d=\"M 2834 3397 \nL 2834 2853 \nQ 2591 2978 2328 3040 \nQ 2066 3103 1784 3103 \nQ 1356 3103 1142 2972 \nQ 928 2841 928 2578 \nQ 928 2378 1081 2264 \nQ 1234 2150 1697 2047 \nL 1894 2003 \nQ 2506 1872 2764 1633 \nQ 3022 1394 3022 966 \nQ 3022 478 2636 193 \nQ 2250 -91 1575 -91 \nQ 1294 -91 989 -36 \nQ 684 19 347 128 \nL 347 722 \nQ 666 556 975 473 \nQ 1284 391 1588 391 \nQ 1994 391 2212 530 \nQ 2431 669 2431 922 \nQ 2431 1156 2273 1281 \nQ 2116 1406 1581 1522 \nL 1381 1569 \nQ 847 1681 609 1914 \nQ 372 2147 372 2553 \nQ 372 3047 722 3315 \nQ 1072 3584 1716 3584 \nQ 2034 3584 2315 3537 \nQ 2597 3491 2834 3397 \nz\n\" transform=\"scale(0.015625)\"/>\n      </defs>\n      <use xlink:href=\"#DejaVuSans-45\"/>\n      <use xlink:href=\"#DejaVuSans-70\" x=\"63.183594\"/>\n      <use xlink:href=\"#DejaVuSans-6f\" x=\"126.660156\"/>\n      <use xlink:href=\"#DejaVuSans-63\" x=\"187.841797\"/>\n      <use xlink:href=\"#DejaVuSans-68\" x=\"242.822266\"/>\n      <use xlink:href=\"#DejaVuSans-73\" x=\"306.201172\"/>\n     </g>\n    </g>\n   </g>\n   <g id=\"matplotlib.axis_2\">\n    <g id=\"ytick_1\">\n     <g id=\"line2d_8\">\n      <defs>\n       <path id=\"m09b41a763b\" d=\"M 0 0 \nL -3.5 0 \n\" style=\"stroke: #000000; stroke-width: 0.8\"/>\n      </defs>\n      <g>\n       <use xlink:href=\"#m09b41a763b\" x=\"56.50625\" y=\"222.144256\" style=\"stroke: #000000; stroke-width: 0.8\"/>\n      </g>\n     </g>\n     <g id=\"text_9\">\n      <!-- 0.800 -->\n      <g transform=\"translate(20.878125 225.943475)scale(0.1 -0.1)\">\n       <defs>\n        <path id=\"DejaVuSans-2e\" d=\"M 684 794 \nL 1344 794 \nL 1344 0 \nL 684 0 \nL 684 794 \nz\n\" transform=\"scale(0.015625)\"/>\n       </defs>\n       <use xlink:href=\"#DejaVuSans-30\"/>\n       <use xlink:href=\"#DejaVuSans-2e\" x=\"63.623047\"/>\n       <use xlink:href=\"#DejaVuSans-38\" x=\"95.410156\"/>\n       <use xlink:href=\"#DejaVuSans-30\" x=\"159.033203\"/>\n       <use xlink:href=\"#DejaVuSans-30\" x=\"222.65625\"/>\n      </g>\n     </g>\n    </g>\n    <g id=\"ytick_2\">\n     <g id=\"line2d_9\">\n      <g>\n       <use xlink:href=\"#m09b41a763b\" x=\"56.50625\" y=\"197.046146\" style=\"stroke: #000000; stroke-width: 0.8\"/>\n      </g>\n     </g>\n     <g id=\"text_10\">\n      <!-- 0.825 -->\n      <g transform=\"translate(20.878125 200.845365)scale(0.1 -0.1)\">\n       <defs>\n        <path id=\"DejaVuSans-35\" d=\"M 691 4666 \nL 3169 4666 \nL 3169 4134 \nL 1269 4134 \nL 1269 2991 \nQ 1406 3038 1543 3061 \nQ 1681 3084 1819 3084 \nQ 2600 3084 3056 2656 \nQ 3513 2228 3513 1497 \nQ 3513 744 3044 326 \nQ 2575 -91 1722 -91 \nQ 1428 -91 1123 -41 \nQ 819 9 494 109 \nL 494 744 \nQ 775 591 1075 516 \nQ 1375 441 1709 441 \nQ 2250 441 2565 725 \nQ 2881 1009 2881 1497 \nQ 2881 1984 2565 2268 \nQ 2250 2553 1709 2553 \nQ 1456 2553 1204 2497 \nQ 953 2441 691 2322 \nL 691 4666 \nz\n\" transform=\"scale(0.015625)\"/>\n       </defs>\n       <use xlink:href=\"#DejaVuSans-30\"/>\n       <use xlink:href=\"#DejaVuSans-2e\" x=\"63.623047\"/>\n       <use xlink:href=\"#DejaVuSans-38\" x=\"95.410156\"/>\n       <use xlink:href=\"#DejaVuSans-32\" x=\"159.033203\"/>\n       <use xlink:href=\"#DejaVuSans-35\" x=\"222.65625\"/>\n      </g>\n     </g>\n    </g>\n    <g id=\"ytick_3\">\n     <g id=\"line2d_10\">\n      <g>\n       <use xlink:href=\"#m09b41a763b\" x=\"56.50625\" y=\"171.948036\" style=\"stroke: #000000; stroke-width: 0.8\"/>\n      </g>\n     </g>\n     <g id=\"text_11\">\n      <!-- 0.850 -->\n      <g transform=\"translate(20.878125 175.747255)scale(0.1 -0.1)\">\n       <use xlink:href=\"#DejaVuSans-30\"/>\n       <use xlink:href=\"#DejaVuSans-2e\" x=\"63.623047\"/>\n       <use xlink:href=\"#DejaVuSans-38\" x=\"95.410156\"/>\n       <use xlink:href=\"#DejaVuSans-35\" x=\"159.033203\"/>\n       <use xlink:href=\"#DejaVuSans-30\" x=\"222.65625\"/>\n      </g>\n     </g>\n    </g>\n    <g id=\"ytick_4\">\n     <g id=\"line2d_11\">\n      <g>\n       <use xlink:href=\"#m09b41a763b\" x=\"56.50625\" y=\"146.849925\" style=\"stroke: #000000; stroke-width: 0.8\"/>\n      </g>\n     </g>\n     <g id=\"text_12\">\n      <!-- 0.875 -->\n      <g transform=\"translate(20.878125 150.649144)scale(0.1 -0.1)\">\n       <defs>\n        <path id=\"DejaVuSans-37\" d=\"M 525 4666 \nL 3525 4666 \nL 3525 4397 \nL 1831 0 \nL 1172 0 \nL 2766 4134 \nL 525 4134 \nL 525 4666 \nz\n\" transform=\"scale(0.015625)\"/>\n       </defs>\n       <use xlink:href=\"#DejaVuSans-30\"/>\n       <use xlink:href=\"#DejaVuSans-2e\" x=\"63.623047\"/>\n       <use xlink:href=\"#DejaVuSans-38\" x=\"95.410156\"/>\n       <use xlink:href=\"#DejaVuSans-37\" x=\"159.033203\"/>\n       <use xlink:href=\"#DejaVuSans-35\" x=\"222.65625\"/>\n      </g>\n     </g>\n    </g>\n    <g id=\"ytick_5\">\n     <g id=\"line2d_12\">\n      <g>\n       <use xlink:href=\"#m09b41a763b\" x=\"56.50625\" y=\"121.751815\" style=\"stroke: #000000; stroke-width: 0.8\"/>\n      </g>\n     </g>\n     <g id=\"text_13\">\n      <!-- 0.900 -->\n      <g transform=\"translate(20.878125 125.551034)scale(0.1 -0.1)\">\n       <defs>\n        <path id=\"DejaVuSans-39\" d=\"M 703 97 \nL 703 672 \nQ 941 559 1184 500 \nQ 1428 441 1663 441 \nQ 2288 441 2617 861 \nQ 2947 1281 2994 2138 \nQ 2813 1869 2534 1725 \nQ 2256 1581 1919 1581 \nQ 1219 1581 811 2004 \nQ 403 2428 403 3163 \nQ 403 3881 828 4315 \nQ 1253 4750 1959 4750 \nQ 2769 4750 3195 4129 \nQ 3622 3509 3622 2328 \nQ 3622 1225 3098 567 \nQ 2575 -91 1691 -91 \nQ 1453 -91 1209 -44 \nQ 966 3 703 97 \nz\nM 1959 2075 \nQ 2384 2075 2632 2365 \nQ 2881 2656 2881 3163 \nQ 2881 3666 2632 3958 \nQ 2384 4250 1959 4250 \nQ 1534 4250 1286 3958 \nQ 1038 3666 1038 3163 \nQ 1038 2656 1286 2365 \nQ 1534 2075 1959 2075 \nz\n\" transform=\"scale(0.015625)\"/>\n       </defs>\n       <use xlink:href=\"#DejaVuSans-30\"/>\n       <use xlink:href=\"#DejaVuSans-2e\" x=\"63.623047\"/>\n       <use xlink:href=\"#DejaVuSans-39\" x=\"95.410156\"/>\n       <use xlink:href=\"#DejaVuSans-30\" x=\"159.033203\"/>\n       <use xlink:href=\"#DejaVuSans-30\" x=\"222.65625\"/>\n      </g>\n     </g>\n    </g>\n    <g id=\"ytick_6\">\n     <g id=\"line2d_13\">\n      <g>\n       <use xlink:href=\"#m09b41a763b\" x=\"56.50625\" y=\"96.653705\" style=\"stroke: #000000; stroke-width: 0.8\"/>\n      </g>\n     </g>\n     <g id=\"text_14\">\n      <!-- 0.925 -->\n      <g transform=\"translate(20.878125 100.452923)scale(0.1 -0.1)\">\n       <use xlink:href=\"#DejaVuSans-30\"/>\n       <use xlink:href=\"#DejaVuSans-2e\" x=\"63.623047\"/>\n       <use xlink:href=\"#DejaVuSans-39\" x=\"95.410156\"/>\n       <use xlink:href=\"#DejaVuSans-32\" x=\"159.033203\"/>\n       <use xlink:href=\"#DejaVuSans-35\" x=\"222.65625\"/>\n      </g>\n     </g>\n    </g>\n    <g id=\"ytick_7\">\n     <g id=\"line2d_14\">\n      <g>\n       <use xlink:href=\"#m09b41a763b\" x=\"56.50625\" y=\"71.555594\" style=\"stroke: #000000; stroke-width: 0.8\"/>\n      </g>\n     </g>\n     <g id=\"text_15\">\n      <!-- 0.950 -->\n      <g transform=\"translate(20.878125 75.354813)scale(0.1 -0.1)\">\n       <use xlink:href=\"#DejaVuSans-30\"/>\n       <use xlink:href=\"#DejaVuSans-2e\" x=\"63.623047\"/>\n       <use xlink:href=\"#DejaVuSans-39\" x=\"95.410156\"/>\n       <use xlink:href=\"#DejaVuSans-35\" x=\"159.033203\"/>\n       <use xlink:href=\"#DejaVuSans-30\" x=\"222.65625\"/>\n      </g>\n     </g>\n    </g>\n    <g id=\"ytick_8\">\n     <g id=\"line2d_15\">\n      <g>\n       <use xlink:href=\"#m09b41a763b\" x=\"56.50625\" y=\"46.457484\" style=\"stroke: #000000; stroke-width: 0.8\"/>\n      </g>\n     </g>\n     <g id=\"text_16\">\n      <!-- 0.975 -->\n      <g transform=\"translate(20.878125 50.256703)scale(0.1 -0.1)\">\n       <use xlink:href=\"#DejaVuSans-30\"/>\n       <use xlink:href=\"#DejaVuSans-2e\" x=\"63.623047\"/>\n       <use xlink:href=\"#DejaVuSans-39\" x=\"95.410156\"/>\n       <use xlink:href=\"#DejaVuSans-37\" x=\"159.033203\"/>\n       <use xlink:href=\"#DejaVuSans-35\" x=\"222.65625\"/>\n      </g>\n     </g>\n    </g>\n    <g id=\"text_17\">\n     <!-- accuracy -->\n     <g transform=\"translate(14.798437 153.5975)rotate(-90)scale(0.1 -0.1)\">\n      <defs>\n       <path id=\"DejaVuSans-61\" d=\"M 2194 1759 \nQ 1497 1759 1228 1600 \nQ 959 1441 959 1056 \nQ 959 750 1161 570 \nQ 1363 391 1709 391 \nQ 2188 391 2477 730 \nQ 2766 1069 2766 1631 \nL 2766 1759 \nL 2194 1759 \nz\nM 3341 1997 \nL 3341 0 \nL 2766 0 \nL 2766 531 \nQ 2569 213 2275 61 \nQ 1981 -91 1556 -91 \nQ 1019 -91 701 211 \nQ 384 513 384 1019 \nQ 384 1609 779 1909 \nQ 1175 2209 1959 2209 \nL 2766 2209 \nL 2766 2266 \nQ 2766 2663 2505 2880 \nQ 2244 3097 1772 3097 \nQ 1472 3097 1187 3025 \nQ 903 2953 641 2809 \nL 641 3341 \nQ 956 3463 1253 3523 \nQ 1550 3584 1831 3584 \nQ 2591 3584 2966 3190 \nQ 3341 2797 3341 1997 \nz\n\" transform=\"scale(0.015625)\"/>\n       <path id=\"DejaVuSans-75\" d=\"M 544 1381 \nL 544 3500 \nL 1119 3500 \nL 1119 1403 \nQ 1119 906 1312 657 \nQ 1506 409 1894 409 \nQ 2359 409 2629 706 \nQ 2900 1003 2900 1516 \nL 2900 3500 \nL 3475 3500 \nL 3475 0 \nL 2900 0 \nL 2900 538 \nQ 2691 219 2414 64 \nQ 2138 -91 1772 -91 \nQ 1169 -91 856 284 \nQ 544 659 544 1381 \nz\nM 1991 3584 \nL 1991 3584 \nz\n\" transform=\"scale(0.015625)\"/>\n       <path id=\"DejaVuSans-72\" d=\"M 2631 2963 \nQ 2534 3019 2420 3045 \nQ 2306 3072 2169 3072 \nQ 1681 3072 1420 2755 \nQ 1159 2438 1159 1844 \nL 1159 0 \nL 581 0 \nL 581 3500 \nL 1159 3500 \nL 1159 2956 \nQ 1341 3275 1631 3429 \nQ 1922 3584 2338 3584 \nQ 2397 3584 2469 3576 \nQ 2541 3569 2628 3553 \nL 2631 2963 \nz\n\" transform=\"scale(0.015625)\"/>\n       <path id=\"DejaVuSans-79\" d=\"M 2059 -325 \nQ 1816 -950 1584 -1140 \nQ 1353 -1331 966 -1331 \nL 506 -1331 \nL 506 -850 \nL 844 -850 \nQ 1081 -850 1212 -737 \nQ 1344 -625 1503 -206 \nL 1606 56 \nL 191 3500 \nL 800 3500 \nL 1894 763 \nL 2988 3500 \nL 3597 3500 \nL 2059 -325 \nz\n\" transform=\"scale(0.015625)\"/>\n      </defs>\n      <use xlink:href=\"#DejaVuSans-61\"/>\n      <use xlink:href=\"#DejaVuSans-63\" x=\"61.279297\"/>\n      <use xlink:href=\"#DejaVuSans-63\" x=\"116.259766\"/>\n      <use xlink:href=\"#DejaVuSans-75\" x=\"171.240234\"/>\n      <use xlink:href=\"#DejaVuSans-72\" x=\"234.619141\"/>\n      <use xlink:href=\"#DejaVuSans-61\" x=\"275.732422\"/>\n      <use xlink:href=\"#DejaVuSans-63\" x=\"337.011719\"/>\n      <use xlink:href=\"#DejaVuSans-79\" x=\"391.992188\"/>\n     </g>\n    </g>\n   </g>\n   <g id=\"line2d_16\">\n    <path d=\"M 71.724432 229.874489 \nL 93.464692 158.595816 \nL 115.204951 127.273382 \nL 136.945211 103.98236 \nL 158.685471 90.429346 \nL 180.425731 78.482697 \nL 202.16599 75.571312 \nL 223.90625 63.323436 \nL 245.64651 58.20341 \nL 267.386769 53.384551 \nL 289.127029 48.465343 \nL 310.867289 44.750805 \nL 332.607549 41.337494 \nL 354.347808 36.518635 \nL 376.088068 32.201761 \n\" clip-path=\"url(#p9a06c0abc9)\" style=\"fill: none; stroke-dasharray: 5.55,2.4; stroke-dashoffset: 0; stroke: #0000ff; stroke-width: 1.5\"/>\n    <defs>\n     <path id=\"m59e37ed843\" d=\"M 0 3 \nC 0.795609 3 1.55874 2.683901 2.12132 2.12132 \nC 2.683901 1.55874 3 0.795609 3 0 \nC 3 -0.795609 2.683901 -1.55874 2.12132 -2.12132 \nC 1.55874 -2.683901 0.795609 -3 0 -3 \nC -0.795609 -3 -1.55874 -2.683901 -2.12132 -2.12132 \nC -2.683901 -1.55874 -3 -0.795609 -3 0 \nC -3 0.795609 -2.683901 1.55874 -2.12132 2.12132 \nC -1.55874 2.683901 -0.795609 3 0 3 \nz\n\" style=\"stroke: #0000ff\"/>\n    </defs>\n    <g clip-path=\"url(#p9a06c0abc9)\">\n     <use xlink:href=\"#m59e37ed843\" x=\"71.724432\" y=\"229.874489\" style=\"fill: #0000ff; stroke: #0000ff\"/>\n     <use xlink:href=\"#m59e37ed843\" x=\"93.464692\" y=\"158.595816\" style=\"fill: #0000ff; stroke: #0000ff\"/>\n     <use xlink:href=\"#m59e37ed843\" x=\"115.204951\" y=\"127.273382\" style=\"fill: #0000ff; stroke: #0000ff\"/>\n     <use xlink:href=\"#m59e37ed843\" x=\"136.945211\" y=\"103.98236\" style=\"fill: #0000ff; stroke: #0000ff\"/>\n     <use xlink:href=\"#m59e37ed843\" x=\"158.685471\" y=\"90.429346\" style=\"fill: #0000ff; stroke: #0000ff\"/>\n     <use xlink:href=\"#m59e37ed843\" x=\"180.425731\" y=\"78.482697\" style=\"fill: #0000ff; stroke: #0000ff\"/>\n     <use xlink:href=\"#m59e37ed843\" x=\"202.16599\" y=\"75.571312\" style=\"fill: #0000ff; stroke: #0000ff\"/>\n     <use xlink:href=\"#m59e37ed843\" x=\"223.90625\" y=\"63.323436\" style=\"fill: #0000ff; stroke: #0000ff\"/>\n     <use xlink:href=\"#m59e37ed843\" x=\"245.64651\" y=\"58.20341\" style=\"fill: #0000ff; stroke: #0000ff\"/>\n     <use xlink:href=\"#m59e37ed843\" x=\"267.386769\" y=\"53.384551\" style=\"fill: #0000ff; stroke: #0000ff\"/>\n     <use xlink:href=\"#m59e37ed843\" x=\"289.127029\" y=\"48.465343\" style=\"fill: #0000ff; stroke: #0000ff\"/>\n     <use xlink:href=\"#m59e37ed843\" x=\"310.867289\" y=\"44.750805\" style=\"fill: #0000ff; stroke: #0000ff\"/>\n     <use xlink:href=\"#m59e37ed843\" x=\"332.607549\" y=\"41.337494\" style=\"fill: #0000ff; stroke: #0000ff\"/>\n     <use xlink:href=\"#m59e37ed843\" x=\"354.347808\" y=\"36.518635\" style=\"fill: #0000ff; stroke: #0000ff\"/>\n     <use xlink:href=\"#m59e37ed843\" x=\"376.088068\" y=\"32.201761\" style=\"fill: #0000ff; stroke: #0000ff\"/>\n    </g>\n   </g>\n   <g id=\"line2d_17\">\n    <path d=\"M 71.724432 155.383263 \nL 93.464692 146.34794 \nL 115.204951 104.183119 \nL 136.945211 101.171384 \nL 158.685471 96.653693 \nL 180.425731 95.147796 \nL 202.16599 86.112473 \nL 223.90625 95.147796 \nL 245.64651 83.602664 \nL 267.386769 85.610547 \nL 289.127029 92.136061 \nL 310.867289 84.10465 \nL 332.607549 86.614458 \nL 354.347808 83.602664 \nL 376.088068 87.116444 \n\" clip-path=\"url(#p9a06c0abc9)\" style=\"fill: none; stroke: #ff0000; stroke-width: 1.5; stroke-linecap: square\"/>\n    <defs>\n     <path id=\"md368a3d5af\" d=\"M 0 3 \nC 0.795609 3 1.55874 2.683901 2.12132 2.12132 \nC 2.683901 1.55874 3 0.795609 3 0 \nC 3 -0.795609 2.683901 -1.55874 2.12132 -2.12132 \nC 1.55874 -2.683901 0.795609 -3 0 -3 \nC -0.795609 -3 -1.55874 -2.683901 -2.12132 -2.12132 \nC -2.683901 -1.55874 -3 -0.795609 -3 0 \nC -3 0.795609 -2.683901 1.55874 -2.12132 2.12132 \nC -1.55874 2.683901 -0.795609 3 0 3 \nz\n\" style=\"stroke: #ff0000\"/>\n    </defs>\n    <g clip-path=\"url(#p9a06c0abc9)\">\n     <use xlink:href=\"#md368a3d5af\" x=\"71.724432\" y=\"155.383263\" style=\"fill: #ff0000; stroke: #ff0000\"/>\n     <use xlink:href=\"#md368a3d5af\" x=\"93.464692\" y=\"146.34794\" style=\"fill: #ff0000; stroke: #ff0000\"/>\n     <use xlink:href=\"#md368a3d5af\" x=\"115.204951\" y=\"104.183119\" style=\"fill: #ff0000; stroke: #ff0000\"/>\n     <use xlink:href=\"#md368a3d5af\" x=\"136.945211\" y=\"101.171384\" style=\"fill: #ff0000; stroke: #ff0000\"/>\n     <use xlink:href=\"#md368a3d5af\" x=\"158.685471\" y=\"96.653693\" style=\"fill: #ff0000; stroke: #ff0000\"/>\n     <use xlink:href=\"#md368a3d5af\" x=\"180.425731\" y=\"95.147796\" style=\"fill: #ff0000; stroke: #ff0000\"/>\n     <use xlink:href=\"#md368a3d5af\" x=\"202.16599\" y=\"86.112473\" style=\"fill: #ff0000; stroke: #ff0000\"/>\n     <use xlink:href=\"#md368a3d5af\" x=\"223.90625\" y=\"95.147796\" style=\"fill: #ff0000; stroke: #ff0000\"/>\n     <use xlink:href=\"#md368a3d5af\" x=\"245.64651\" y=\"83.602664\" style=\"fill: #ff0000; stroke: #ff0000\"/>\n     <use xlink:href=\"#md368a3d5af\" x=\"267.386769\" y=\"85.610547\" style=\"fill: #ff0000; stroke: #ff0000\"/>\n     <use xlink:href=\"#md368a3d5af\" x=\"289.127029\" y=\"92.136061\" style=\"fill: #ff0000; stroke: #ff0000\"/>\n     <use xlink:href=\"#md368a3d5af\" x=\"310.867289\" y=\"84.10465\" style=\"fill: #ff0000; stroke: #ff0000\"/>\n     <use xlink:href=\"#md368a3d5af\" x=\"332.607549\" y=\"86.614458\" style=\"fill: #ff0000; stroke: #ff0000\"/>\n     <use xlink:href=\"#md368a3d5af\" x=\"354.347808\" y=\"83.602664\" style=\"fill: #ff0000; stroke: #ff0000\"/>\n     <use xlink:href=\"#md368a3d5af\" x=\"376.088068\" y=\"87.116444\" style=\"fill: #ff0000; stroke: #ff0000\"/>\n    </g>\n   </g>\n   <g id=\"patch_3\">\n    <path d=\"M 56.50625 239.758125 \nL 56.50625 22.318125 \n\" style=\"fill: none; stroke: #000000; stroke-width: 0.8; stroke-linejoin: miter; stroke-linecap: square\"/>\n   </g>\n   <g id=\"patch_4\">\n    <path d=\"M 391.30625 239.758125 \nL 391.30625 22.318125 \n\" style=\"fill: none; stroke: #000000; stroke-width: 0.8; stroke-linejoin: miter; stroke-linecap: square\"/>\n   </g>\n   <g id=\"patch_5\">\n    <path d=\"M 56.50625 239.758125 \nL 391.30625 239.758125 \n\" style=\"fill: none; stroke: #000000; stroke-width: 0.8; stroke-linejoin: miter; stroke-linecap: square\"/>\n   </g>\n   <g id=\"patch_6\">\n    <path d=\"M 56.50625 22.318125 \nL 391.30625 22.318125 \n\" style=\"fill: none; stroke: #000000; stroke-width: 0.8; stroke-linejoin: miter; stroke-linecap: square\"/>\n   </g>\n   <g id=\"text_18\">\n    <!-- Training and validation accuracy -->\n    <g transform=\"translate(126.614375 16.318125)scale(0.12 -0.12)\">\n     <defs>\n      <path id=\"DejaVuSans-54\" d=\"M -19 4666 \nL 3928 4666 \nL 3928 4134 \nL 2272 4134 \nL 2272 0 \nL 1638 0 \nL 1638 4134 \nL -19 4134 \nL -19 4666 \nz\n\" transform=\"scale(0.015625)\"/>\n      <path id=\"DejaVuSans-69\" d=\"M 603 3500 \nL 1178 3500 \nL 1178 0 \nL 603 0 \nL 603 3500 \nz\nM 603 4863 \nL 1178 4863 \nL 1178 4134 \nL 603 4134 \nL 603 4863 \nz\n\" transform=\"scale(0.015625)\"/>\n      <path id=\"DejaVuSans-6e\" d=\"M 3513 2113 \nL 3513 0 \nL 2938 0 \nL 2938 2094 \nQ 2938 2591 2744 2837 \nQ 2550 3084 2163 3084 \nQ 1697 3084 1428 2787 \nQ 1159 2491 1159 1978 \nL 1159 0 \nL 581 0 \nL 581 3500 \nL 1159 3500 \nL 1159 2956 \nQ 1366 3272 1645 3428 \nQ 1925 3584 2291 3584 \nQ 2894 3584 3203 3211 \nQ 3513 2838 3513 2113 \nz\n\" transform=\"scale(0.015625)\"/>\n      <path id=\"DejaVuSans-67\" d=\"M 2906 1791 \nQ 2906 2416 2648 2759 \nQ 2391 3103 1925 3103 \nQ 1463 3103 1205 2759 \nQ 947 2416 947 1791 \nQ 947 1169 1205 825 \nQ 1463 481 1925 481 \nQ 2391 481 2648 825 \nQ 2906 1169 2906 1791 \nz\nM 3481 434 \nQ 3481 -459 3084 -895 \nQ 2688 -1331 1869 -1331 \nQ 1566 -1331 1297 -1286 \nQ 1028 -1241 775 -1147 \nL 775 -588 \nQ 1028 -725 1275 -790 \nQ 1522 -856 1778 -856 \nQ 2344 -856 2625 -561 \nQ 2906 -266 2906 331 \nL 2906 616 \nQ 2728 306 2450 153 \nQ 2172 0 1784 0 \nQ 1141 0 747 490 \nQ 353 981 353 1791 \nQ 353 2603 747 3093 \nQ 1141 3584 1784 3584 \nQ 2172 3584 2450 3431 \nQ 2728 3278 2906 2969 \nL 2906 3500 \nL 3481 3500 \nL 3481 434 \nz\n\" transform=\"scale(0.015625)\"/>\n      <path id=\"DejaVuSans-20\" transform=\"scale(0.015625)\"/>\n      <path id=\"DejaVuSans-64\" d=\"M 2906 2969 \nL 2906 4863 \nL 3481 4863 \nL 3481 0 \nL 2906 0 \nL 2906 525 \nQ 2725 213 2448 61 \nQ 2172 -91 1784 -91 \nQ 1150 -91 751 415 \nQ 353 922 353 1747 \nQ 353 2572 751 3078 \nQ 1150 3584 1784 3584 \nQ 2172 3584 2448 3432 \nQ 2725 3281 2906 2969 \nz\nM 947 1747 \nQ 947 1113 1208 752 \nQ 1469 391 1925 391 \nQ 2381 391 2643 752 \nQ 2906 1113 2906 1747 \nQ 2906 2381 2643 2742 \nQ 2381 3103 1925 3103 \nQ 1469 3103 1208 2742 \nQ 947 2381 947 1747 \nz\n\" transform=\"scale(0.015625)\"/>\n      <path id=\"DejaVuSans-76\" d=\"M 191 3500 \nL 800 3500 \nL 1894 563 \nL 2988 3500 \nL 3597 3500 \nL 2284 0 \nL 1503 0 \nL 191 3500 \nz\n\" transform=\"scale(0.015625)\"/>\n      <path id=\"DejaVuSans-6c\" d=\"M 603 4863 \nL 1178 4863 \nL 1178 0 \nL 603 0 \nL 603 4863 \nz\n\" transform=\"scale(0.015625)\"/>\n      <path id=\"DejaVuSans-74\" d=\"M 1172 4494 \nL 1172 3500 \nL 2356 3500 \nL 2356 3053 \nL 1172 3053 \nL 1172 1153 \nQ 1172 725 1289 603 \nQ 1406 481 1766 481 \nL 2356 481 \nL 2356 0 \nL 1766 0 \nQ 1100 0 847 248 \nQ 594 497 594 1153 \nL 594 3053 \nL 172 3053 \nL 172 3500 \nL 594 3500 \nL 594 4494 \nL 1172 4494 \nz\n\" transform=\"scale(0.015625)\"/>\n     </defs>\n     <use xlink:href=\"#DejaVuSans-54\"/>\n     <use xlink:href=\"#DejaVuSans-72\" x=\"46.333984\"/>\n     <use xlink:href=\"#DejaVuSans-61\" x=\"87.447266\"/>\n     <use xlink:href=\"#DejaVuSans-69\" x=\"148.726562\"/>\n     <use xlink:href=\"#DejaVuSans-6e\" x=\"176.509766\"/>\n     <use xlink:href=\"#DejaVuSans-69\" x=\"239.888672\"/>\n     <use xlink:href=\"#DejaVuSans-6e\" x=\"267.671875\"/>\n     <use xlink:href=\"#DejaVuSans-67\" x=\"331.050781\"/>\n     <use xlink:href=\"#DejaVuSans-20\" x=\"394.527344\"/>\n     <use xlink:href=\"#DejaVuSans-61\" x=\"426.314453\"/>\n     <use xlink:href=\"#DejaVuSans-6e\" x=\"487.59375\"/>\n     <use xlink:href=\"#DejaVuSans-64\" x=\"550.972656\"/>\n     <use xlink:href=\"#DejaVuSans-20\" x=\"614.449219\"/>\n     <use xlink:href=\"#DejaVuSans-76\" x=\"646.236328\"/>\n     <use xlink:href=\"#DejaVuSans-61\" x=\"705.416016\"/>\n     <use xlink:href=\"#DejaVuSans-6c\" x=\"766.695312\"/>\n     <use xlink:href=\"#DejaVuSans-69\" x=\"794.478516\"/>\n     <use xlink:href=\"#DejaVuSans-64\" x=\"822.261719\"/>\n     <use xlink:href=\"#DejaVuSans-61\" x=\"885.738281\"/>\n     <use xlink:href=\"#DejaVuSans-74\" x=\"947.017578\"/>\n     <use xlink:href=\"#DejaVuSans-69\" x=\"986.226562\"/>\n     <use xlink:href=\"#DejaVuSans-6f\" x=\"1014.009766\"/>\n     <use xlink:href=\"#DejaVuSans-6e\" x=\"1075.191406\"/>\n     <use xlink:href=\"#DejaVuSans-20\" x=\"1138.570312\"/>\n     <use xlink:href=\"#DejaVuSans-61\" x=\"1170.357422\"/>\n     <use xlink:href=\"#DejaVuSans-63\" x=\"1231.636719\"/>\n     <use xlink:href=\"#DejaVuSans-63\" x=\"1286.617188\"/>\n     <use xlink:href=\"#DejaVuSans-75\" x=\"1341.597656\"/>\n     <use xlink:href=\"#DejaVuSans-72\" x=\"1404.976562\"/>\n     <use xlink:href=\"#DejaVuSans-61\" x=\"1446.089844\"/>\n     <use xlink:href=\"#DejaVuSans-63\" x=\"1507.369141\"/>\n     <use xlink:href=\"#DejaVuSans-79\" x=\"1562.349609\"/>\n    </g>\n   </g>\n   <g id=\"legend_1\">\n    <g id=\"patch_7\">\n     <path d=\"M 63.50625 60.230625 \nL 168.9 60.230625 \nQ 170.9 60.230625 170.9 58.230625 \nL 170.9 29.318125 \nQ 170.9 27.318125 168.9 27.318125 \nL 63.50625 27.318125 \nQ 61.50625 27.318125 61.50625 29.318125 \nL 61.50625 58.230625 \nQ 61.50625 60.230625 63.50625 60.230625 \nz\n\" style=\"fill: #ffffff; opacity: 0.8; stroke: #cccccc; stroke-linejoin: miter\"/>\n    </g>\n    <g id=\"line2d_18\">\n     <path d=\"M 65.50625 35.416562 \nL 75.50625 35.416562 \nL 85.50625 35.416562 \n\" style=\"fill: none; stroke-dasharray: 5.55,2.4; stroke-dashoffset: 0; stroke: #0000ff; stroke-width: 1.5\"/>\n     <g>\n      <use xlink:href=\"#m59e37ed843\" x=\"75.50625\" y=\"35.416562\" style=\"fill: #0000ff; stroke: #0000ff\"/>\n     </g>\n    </g>\n    <g id=\"text_19\">\n     <!-- train_accuracy -->\n     <g transform=\"translate(93.50625 38.916562)scale(0.1 -0.1)\">\n      <defs>\n       <path id=\"DejaVuSans-5f\" d=\"M 3263 -1063 \nL 3263 -1509 \nL -63 -1509 \nL -63 -1063 \nL 3263 -1063 \nz\n\" transform=\"scale(0.015625)\"/>\n      </defs>\n      <use xlink:href=\"#DejaVuSans-74\"/>\n      <use xlink:href=\"#DejaVuSans-72\" x=\"39.208984\"/>\n      <use xlink:href=\"#DejaVuSans-61\" x=\"80.322266\"/>\n      <use xlink:href=\"#DejaVuSans-69\" x=\"141.601562\"/>\n      <use xlink:href=\"#DejaVuSans-6e\" x=\"169.384766\"/>\n      <use xlink:href=\"#DejaVuSans-5f\" x=\"232.763672\"/>\n      <use xlink:href=\"#DejaVuSans-61\" x=\"282.763672\"/>\n      <use xlink:href=\"#DejaVuSans-63\" x=\"344.042969\"/>\n      <use xlink:href=\"#DejaVuSans-63\" x=\"399.023438\"/>\n      <use xlink:href=\"#DejaVuSans-75\" x=\"454.003906\"/>\n      <use xlink:href=\"#DejaVuSans-72\" x=\"517.382812\"/>\n      <use xlink:href=\"#DejaVuSans-61\" x=\"558.496094\"/>\n      <use xlink:href=\"#DejaVuSans-63\" x=\"619.775391\"/>\n      <use xlink:href=\"#DejaVuSans-79\" x=\"674.755859\"/>\n     </g>\n    </g>\n    <g id=\"line2d_19\">\n     <path d=\"M 65.50625 50.372812 \nL 75.50625 50.372812 \nL 85.50625 50.372812 \n\" style=\"fill: none; stroke: #ff0000; stroke-width: 1.5; stroke-linecap: square\"/>\n     <g>\n      <use xlink:href=\"#md368a3d5af\" x=\"75.50625\" y=\"50.372812\" style=\"fill: #ff0000; stroke: #ff0000\"/>\n     </g>\n    </g>\n    <g id=\"text_20\">\n     <!-- val_accuracy -->\n     <g transform=\"translate(93.50625 53.872812)scale(0.1 -0.1)\">\n      <use xlink:href=\"#DejaVuSans-76\"/>\n      <use xlink:href=\"#DejaVuSans-61\" x=\"59.179688\"/>\n      <use xlink:href=\"#DejaVuSans-6c\" x=\"120.458984\"/>\n      <use xlink:href=\"#DejaVuSans-5f\" x=\"148.242188\"/>\n      <use xlink:href=\"#DejaVuSans-61\" x=\"198.242188\"/>\n      <use xlink:href=\"#DejaVuSans-63\" x=\"259.521484\"/>\n      <use xlink:href=\"#DejaVuSans-63\" x=\"314.501953\"/>\n      <use xlink:href=\"#DejaVuSans-75\" x=\"369.482422\"/>\n      <use xlink:href=\"#DejaVuSans-72\" x=\"432.861328\"/>\n      <use xlink:href=\"#DejaVuSans-61\" x=\"473.974609\"/>\n      <use xlink:href=\"#DejaVuSans-63\" x=\"535.253906\"/>\n      <use xlink:href=\"#DejaVuSans-79\" x=\"590.234375\"/>\n     </g>\n    </g>\n   </g>\n  </g>\n </g>\n <defs>\n  <clipPath id=\"p9a06c0abc9\">\n   <rect x=\"56.50625\" y=\"22.318125\" width=\"334.8\" height=\"217.44\"/>\n  </clipPath>\n </defs>\n</svg>\n",
      "text/plain": [
       "<Figure size 432x288 with 1 Axes>"
      ]
     },
     "metadata": {
      "needs_background": "light"
     },
     "output_type": "display_data"
    }
   ],
   "source": [
    "plot_metric(history, \"accuracy\")"
   ]
  },
  {
   "cell_type": "markdown",
   "metadata": {},
   "source": [
    "### 五，使用模型\n",
    "\n",
    "可以使用 `model.predict(ds_test)` 进行预测。\n",
    "\n",
    "也可以使用 `model.predict_on_batch(x_test)` 对一个批量进行预测。"
   ]
  },
  {
   "cell_type": "code",
   "execution_count": 13,
   "metadata": {},
   "outputs": [
    {
     "data": {
      "text/plain": [
       "array([[9.9999332e-01],\n",
       "       [2.0291400e-05],\n",
       "       [1.9959155e-02],\n",
       "       ...,\n",
       "       [9.9971598e-01],\n",
       "       [3.5865000e-07],\n",
       "       [1.4237502e-03]], dtype=float32)"
      ]
     },
     "execution_count": 13,
     "metadata": {},
     "output_type": "execute_result"
    }
   ],
   "source": [
    "model.predict(ds_test)"
   ]
  },
  {
   "cell_type": "code",
   "execution_count": 14,
   "metadata": {},
   "outputs": [
    {
     "name": "stdout",
     "output_type": "stream",
     "text": [
      "[[2.5745249e-08]\n",
      " [9.9999952e-01]\n",
      " [7.0944488e-01]\n",
      " [9.9999976e-01]\n",
      " [9.8998696e-01]\n",
      " [9.9983525e-01]\n",
      " [9.9999952e-01]\n",
      " [9.5807910e-01]\n",
      " [2.4156946e-06]\n",
      " [1.0000000e+00]\n",
      " [9.9999106e-01]\n",
      " [3.2422664e-03]\n",
      " [9.9998045e-01]\n",
      " [7.6020032e-04]\n",
      " [7.9283339e-01]\n",
      " [9.9975699e-01]\n",
      " [9.8291665e-01]\n",
      " [9.9523503e-01]\n",
      " [9.6781015e-01]\n",
      " [9.9999499e-01]]\n"
     ]
    }
   ],
   "source": [
    "for x, y in ds_test.take(1):\n",
    "    print(model.predict_on_batch(x[0:20]))"
   ]
  },
  {
   "cell_type": "markdown",
   "metadata": {},
   "source": [
    "### 六、保存模型\n",
    "\n",
    "推荐使用 `TensorFlow` 原生方式保存模型。"
   ]
  },
  {
   "cell_type": "code",
   "execution_count": 15,
   "metadata": {},
   "outputs": [],
   "source": [
    "# 保存权重，该方式仅仅保存权重张量\n",
    "model.save_weights(\"./data/tf_model_weights.ckpt\", save_format=\"tf\")"
   ]
  },
  {
   "cell_type": "code",
   "execution_count": 16,
   "metadata": {},
   "outputs": [
    {
     "name": "stderr",
     "output_type": "stream",
     "text": [
      "2022-04-23 19:29:25.858060: W tensorflow/python/util/util.cc:368] Sets are not currently considered sequences, but this may change in the future, so consider avoiding using them.\n"
     ]
    },
    {
     "name": "stdout",
     "output_type": "stream",
     "text": [
      "INFO:tensorflow:Assets written to: ./data/tf_model_saved_model/assets\n",
      "export saved model.\n",
      "Model: \"model\"\n",
      "_________________________________________________________________\n",
      " Layer (type)                Output Shape              Param #   \n",
      "=================================================================\n",
      " input_1 (InputLayer)        [(None, 32, 32, 3)]       0         \n",
      "                                                                 \n",
      " conv2d (Conv2D)             (None, 30, 30, 32)        896       \n",
      "                                                                 \n",
      " max_pooling2d (MaxPooling2D  (None, 15, 15, 32)       0         \n",
      " )                                                               \n",
      "                                                                 \n",
      " conv2d_1 (Conv2D)           (None, 11, 11, 64)        51264     \n",
      "                                                                 \n",
      " max_pooling2d_1 (MaxPooling  (None, 5, 5, 64)         0         \n",
      " 2D)                                                             \n",
      "                                                                 \n",
      " dropout (Dropout)           (None, 5, 5, 64)          0         \n",
      "                                                                 \n",
      " flatten (Flatten)           (None, 1600)              0         \n",
      "                                                                 \n",
      " dense (Dense)               (None, 32)                51232     \n",
      "                                                                 \n",
      " dense_1 (Dense)             (None, 1)                 33        \n",
      "                                                                 \n",
      "=================================================================\n",
      "Total params: 103,425\n",
      "Trainable params: 103,425\n",
      "Non-trainable params: 0\n",
      "_________________________________________________________________\n",
      "20/20 [==============================] - 0s 3ms/step - loss: 0.1787 - accuracy: 0.9345\n"
     ]
    },
    {
     "data": {
      "text/plain": [
       "[0.17866569757461548, 0.934499979019165]"
      ]
     },
     "execution_count": 16,
     "metadata": {},
     "output_type": "execute_result"
    }
   ],
   "source": [
    "# 保存模型结构与模型参数，该方式保存的模型具有跨平台性，便于部署\n",
    "model.save(\"./data/tf_model_saved_model\", save_format=\"tf\")\n",
    "print(\"export saved model.\")\n",
    "\n",
    "model_loaded = models.load_model(\"./data/tf_model_saved_model\")\n",
    "model_loaded.summary()\n",
    "model_loaded.evaluate(ds_test)"
   ]
  }
 ],
 "metadata": {
  "interpreter": {
   "hash": "f2c115b8898d18cbad3dd22ca2ef56c09a93f1a7aecc0710612fc4d17026bb07"
  },
  "kernelspec": {
   "display_name": "Python 3.8.13 ('tf')",
   "language": "python",
   "name": "python3"
  },
  "language_info": {
   "codemirror_mode": {
    "name": "ipython",
    "version": 3
   },
   "file_extension": ".py",
   "mimetype": "text/x-python",
   "name": "python",
   "nbconvert_exporter": "python",
   "pygments_lexer": "ipython3",
   "version": "3.8.13"
  },
  "orig_nbformat": 4
 },
 "nbformat": 4,
 "nbformat_minor": 2
}
